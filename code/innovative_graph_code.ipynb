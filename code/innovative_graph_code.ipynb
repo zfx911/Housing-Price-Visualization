{
 "cells": [
  {
   "cell_type": "raw",
   "metadata": {},
   "source": [
    "---\n",
    "title: \"ANLY503 Project\"\n",
    "format: \n",
    "    html:\n",
    "        page-layout: full\n",
    "        embed-resources: true\n",
    "        code-fold: true\n",
    "author:\n",
    "- zifeng xu\n",
    "date: \"2023-4-12\"\n",
    "---"
   ]
  },
  {
   "attachments": {},
   "cell_type": "markdown",
   "metadata": {},
   "source": [
    "<br>\n",
    "\n",
    "**Innovative graphs created by using package altair and plotly (go.Figure())**\n",
    "\n",
    "**Demonstrate that the graphs are not simply use px to create**\n",
    "\n",
    "**Only shows the codes for plotting**"
   ]
  },
  {
   "attachments": {},
   "cell_type": "markdown",
   "metadata": {},
   "source": [
    "<br>\n",
    "\n",
    "*Annual Trends in Housing Prices by State in the US from 1975 to 2022*"
   ]
  },
  {
   "cell_type": "code",
   "execution_count": 2,
   "metadata": {},
   "outputs": [],
   "source": [
    "# | echo: false\n",
    "df2=pd.read_csv(\"../data/HPI_AT_state.csv\",header = None)\n",
    "df2.columns=['State','Year','Quarter','H_idx']\n",
    "df2_year=df2[[\"State\",\"Year\",\"H_idx\"]].groupby([\"State\",\"Year\"]).mean().reset_index()"
   ]
  },
  {
   "cell_type": "code",
   "execution_count": 3,
   "metadata": {},
   "outputs": [
    {
     "name": "stderr",
     "output_type": "stream",
     "text": [
      "c:\\Users\\84160\\anaconda3\\envs\\anly503\\lib\\site-packages\\altair\\utils\\core.py:317: FutureWarning:\n",
      "\n",
      "iteritems is deprecated and will be removed in a future version. Use .items instead.\n",
      "\n"
     ]
    },
    {
     "data": {
      "text/html": [
       "\n",
       "<div id=\"altair-viz-72f7816aef2b481f88a90c4e108a1848\"></div>\n",
       "<script type=\"text/javascript\">\n",
       "  var VEGA_DEBUG = (typeof VEGA_DEBUG == \"undefined\") ? {} : VEGA_DEBUG;\n",
       "  (function(spec, embedOpt){\n",
       "    let outputDiv = document.currentScript.previousElementSibling;\n",
       "    if (outputDiv.id !== \"altair-viz-72f7816aef2b481f88a90c4e108a1848\") {\n",
       "      outputDiv = document.getElementById(\"altair-viz-72f7816aef2b481f88a90c4e108a1848\");\n",
       "    }\n",
       "    const paths = {\n",
       "      \"vega\": \"https://cdn.jsdelivr.net/npm//vega@5?noext\",\n",
       "      \"vega-lib\": \"https://cdn.jsdelivr.net/npm//vega-lib?noext\",\n",
       "      \"vega-lite\": \"https://cdn.jsdelivr.net/npm//vega-lite@4.17.0?noext\",\n",
       "      \"vega-embed\": \"https://cdn.jsdelivr.net/npm//vega-embed@6?noext\",\n",
       "    };\n",
       "\n",
       "    function maybeLoadScript(lib, version) {\n",
       "      var key = `${lib.replace(\"-\", \"\")}_version`;\n",
       "      return (VEGA_DEBUG[key] == version) ?\n",
       "        Promise.resolve(paths[lib]) :\n",
       "        new Promise(function(resolve, reject) {\n",
       "          var s = document.createElement('script');\n",
       "          document.getElementsByTagName(\"head\")[0].appendChild(s);\n",
       "          s.async = true;\n",
       "          s.onload = () => {\n",
       "            VEGA_DEBUG[key] = version;\n",
       "            return resolve(paths[lib]);\n",
       "          };\n",
       "          s.onerror = () => reject(`Error loading script: ${paths[lib]}`);\n",
       "          s.src = paths[lib];\n",
       "        });\n",
       "    }\n",
       "\n",
       "    function showError(err) {\n",
       "      outputDiv.innerHTML = `<div class=\"error\" style=\"color:red;\">${err}</div>`;\n",
       "      throw err;\n",
       "    }\n",
       "\n",
       "    function displayChart(vegaEmbed) {\n",
       "      vegaEmbed(outputDiv, spec, embedOpt)\n",
       "        .catch(err => showError(`Javascript Error: ${err.message}<br>This usually means there's a typo in your chart specification. See the javascript console for the full traceback.`));\n",
       "    }\n",
       "\n",
       "    if(typeof define === \"function\" && define.amd) {\n",
       "      requirejs.config({paths});\n",
       "      require([\"vega-embed\"], displayChart, err => showError(`Error loading script: ${err.message}`));\n",
       "    } else {\n",
       "      maybeLoadScript(\"vega\", \"5\")\n",
       "        .then(() => maybeLoadScript(\"vega-lite\", \"4.17.0\"))\n",
       "        .then(() => maybeLoadScript(\"vega-embed\", \"6\"))\n",
       "        .catch(showError)\n",
       "        .then(() => displayChart(vegaEmbed));\n",
       "    }\n",
       "  })({\"config\": {\"view\": {\"continuousWidth\": 400, \"continuousHeight\": 300}}, \"vconcat\": [{\"mark\": \"bar\", \"encoding\": {\"color\": {\"condition\": {\"value\": \"steelblue\", \"selection\": \"Random\"}, \"value\": \"lightgray\"}, \"x\": {\"field\": \"State\", \"sort\": {\"field\": \"H_idx\", \"op\": \"mean\", \"order\": \"descending\"}, \"title\": \"State\", \"type\": \"nominal\"}, \"y\": {\"aggregate\": \"mean\", \"field\": \"H_idx\", \"title\": \"Mean of the House Price Indexes\", \"type\": \"quantitative\"}}, \"selection\": {\"Random\": {\"type\": \"single\", \"fields\": [\"State\"]}}, \"title\": \"Mean of the House Price Indexes in each State in US from 1975 to 2022\"}, {\"mark\": \"line\", \"encoding\": {\"color\": {\"condition\": {\"field\": \"State\", \"legend\": null, \"type\": \"nominal\", \"selection\": \"Random\"}, \"value\": \"lightgray\"}, \"opacity\": {\"condition\": {\"value\": 1.0, \"selection\": \"Random\"}, \"value\": 0.1}, \"x\": {\"axis\": {\"labelAngle\": -45}, \"field\": \"Year\", \"title\": \"Year\", \"type\": \"ordinal\"}, \"y\": {\"aggregate\": \"mean\", \"field\": \"H_idx\", \"title\": \"House Price Indexes\", \"type\": \"quantitative\"}}, \"title\": \"House Price Indexes in each State in US from 1975 to 2022\"}], \"data\": {\"name\": \"data-4b527facb9317d0606e94964aead4972\"}, \"$schema\": \"https://vega.github.io/schema/vega-lite/v4.17.0.json\", \"datasets\": {\"data-4b527facb9317d0606e94964aead4972\": [{\"State\": \"AK\", \"Year\": 1975, \"H_idx\": 65.5975}, {\"State\": \"AK\", \"Year\": 1976, \"H_idx\": 73.5875}, {\"State\": \"AK\", \"Year\": 1977, \"H_idx\": 78.265}, {\"State\": \"AK\", \"Year\": 1978, \"H_idx\": 85.5725}, {\"State\": \"AK\", \"Year\": 1979, \"H_idx\": 94.905}, {\"State\": \"AK\", \"Year\": 1980, \"H_idx\": 87.81}, {\"State\": \"AK\", \"Year\": 1981, \"H_idx\": 110.805}, {\"State\": \"AK\", \"Year\": 1982, \"H_idx\": 136.14499999999998}, {\"State\": \"AK\", \"Year\": 1983, \"H_idx\": 142.7925}, {\"State\": \"AK\", \"Year\": 1984, \"H_idx\": 151.0325}, {\"State\": \"AK\", \"Year\": 1985, \"H_idx\": 144.23250000000002}, {\"State\": \"AK\", \"Year\": 1986, \"H_idx\": 141.1875}, {\"State\": \"AK\", \"Year\": 1987, \"H_idx\": 119.655}, {\"State\": \"AK\", \"Year\": 1988, \"H_idx\": 123.51}, {\"State\": \"AK\", \"Year\": 1989, \"H_idx\": 109.6875}, {\"State\": \"AK\", \"Year\": 1990, \"H_idx\": 113.185}, {\"State\": \"AK\", \"Year\": 1991, \"H_idx\": 128.4075}, {\"State\": \"AK\", \"Year\": 1992, \"H_idx\": 134.4525}, {\"State\": \"AK\", \"Year\": 1993, \"H_idx\": 137.155}, {\"State\": \"AK\", \"Year\": 1994, \"H_idx\": 143.3625}, {\"State\": \"AK\", \"Year\": 1995, \"H_idx\": 149.39249999999998}, {\"State\": \"AK\", \"Year\": 1996, \"H_idx\": 156.1425}, {\"State\": \"AK\", \"Year\": 1997, \"H_idx\": 160.5125}, {\"State\": \"AK\", \"Year\": 1998, \"H_idx\": 165.54250000000002}, {\"State\": \"AK\", \"Year\": 1999, \"H_idx\": 171.2875}, {\"State\": \"AK\", \"Year\": 2000, \"H_idx\": 174.2425}, {\"State\": \"AK\", \"Year\": 2001, \"H_idx\": 182.9325}, {\"State\": \"AK\", \"Year\": 2002, \"H_idx\": 192.855}, {\"State\": \"AK\", \"Year\": 2003, \"H_idx\": 202.385}, {\"State\": \"AK\", \"Year\": 2004, \"H_idx\": 222.755}, {\"State\": \"AK\", \"Year\": 2005, \"H_idx\": 250.2025}, {\"State\": \"AK\", \"Year\": 2006, \"H_idx\": 274.845}, {\"State\": \"AK\", \"Year\": 2007, \"H_idx\": 285.6175}, {\"State\": \"AK\", \"Year\": 2008, \"H_idx\": 284.4425}, {\"State\": \"AK\", \"Year\": 2009, \"H_idx\": 282.9875}, {\"State\": \"AK\", \"Year\": 2010, \"H_idx\": 281.3725}, {\"State\": \"AK\", \"Year\": 2011, \"H_idx\": 283.73}, {\"State\": \"AK\", \"Year\": 2012, \"H_idx\": 285.01}, {\"State\": \"AK\", \"Year\": 2013, \"H_idx\": 293.4925}, {\"State\": \"AK\", \"Year\": 2014, \"H_idx\": 299.49}, {\"State\": \"AK\", \"Year\": 2015, \"H_idx\": 309.47249999999997}, {\"State\": \"AK\", \"Year\": 2016, \"H_idx\": 315.4575}, {\"State\": \"AK\", \"Year\": 2017, \"H_idx\": 319.49}, {\"State\": \"AK\", \"Year\": 2018, \"H_idx\": 322.7375}, {\"State\": \"AK\", \"Year\": 2019, \"H_idx\": 330.11}, {\"State\": \"AK\", \"Year\": 2020, \"H_idx\": 341.21}, {\"State\": \"AK\", \"Year\": 2021, \"H_idx\": 369.6675}, {\"State\": \"AK\", \"Year\": 2022, \"H_idx\": 412.305}, {\"State\": \"AL\", \"Year\": 1975, \"H_idx\": 73.39}, {\"State\": \"AL\", \"Year\": 1976, \"H_idx\": 77.07}, {\"State\": \"AL\", \"Year\": 1977, \"H_idx\": 85.6}, {\"State\": \"AL\", \"Year\": 1978, \"H_idx\": 92.515}, {\"State\": \"AL\", \"Year\": 1979, \"H_idx\": 102.30250000000001}, {\"State\": \"AL\", \"Year\": 1980, \"H_idx\": 105.44}, {\"State\": \"AL\", \"Year\": 1981, \"H_idx\": 108.36500000000001}, {\"State\": \"AL\", \"Year\": 1982, \"H_idx\": 109.8325}, {\"State\": \"AL\", \"Year\": 1983, \"H_idx\": 114.9025}, {\"State\": \"AL\", \"Year\": 1984, \"H_idx\": 122.4175}, {\"State\": \"AL\", \"Year\": 1985, \"H_idx\": 125.385}, {\"State\": \"AL\", \"Year\": 1986, \"H_idx\": 132.6475}, {\"State\": \"AL\", \"Year\": 1987, \"H_idx\": 138.7875}, {\"State\": \"AL\", \"Year\": 1988, \"H_idx\": 142.23}, {\"State\": \"AL\", \"Year\": 1989, \"H_idx\": 144.235}, {\"State\": \"AL\", \"Year\": 1990, \"H_idx\": 146.70499999999998}, {\"State\": \"AL\", \"Year\": 1991, \"H_idx\": 151.385}, {\"State\": \"AL\", \"Year\": 1992, \"H_idx\": 157.405}, {\"State\": \"AL\", \"Year\": 1993, \"H_idx\": 164.1325}, {\"State\": \"AL\", \"Year\": 1994, \"H_idx\": 170.1125}, {\"State\": \"AL\", \"Year\": 1995, \"H_idx\": 176.95749999999998}, {\"State\": \"AL\", \"Year\": 1996, \"H_idx\": 184.1075}, {\"State\": \"AL\", \"Year\": 1997, \"H_idx\": 191.015}, {\"State\": \"AL\", \"Year\": 1998, \"H_idx\": 200.7375}, {\"State\": \"AL\", \"Year\": 1999, \"H_idx\": 205.9425}, {\"State\": \"AL\", \"Year\": 2000, \"H_idx\": 211.095}, {\"State\": \"AL\", \"Year\": 2001, \"H_idx\": 222.7375}, {\"State\": \"AL\", \"Year\": 2002, \"H_idx\": 229.27}, {\"State\": \"AL\", \"Year\": 2003, \"H_idx\": 238.39249999999998}, {\"State\": \"AL\", \"Year\": 2004, \"H_idx\": 247.4675}, {\"State\": \"AL\", \"Year\": 2005, \"H_idx\": 264.89750000000004}, {\"State\": \"AL\", \"Year\": 2006, \"H_idx\": 285.885}, {\"State\": \"AL\", \"Year\": 2007, \"H_idx\": 299.38}, {\"State\": \"AL\", \"Year\": 2008, \"H_idx\": 302.745}, {\"State\": \"AL\", \"Year\": 2009, \"H_idx\": 298.3725}, {\"State\": \"AL\", \"Year\": 2010, \"H_idx\": 287.16499999999996}, {\"State\": \"AL\", \"Year\": 2011, \"H_idx\": 277.5325}, {\"State\": \"AL\", \"Year\": 2012, \"H_idx\": 276.0025}, {\"State\": \"AL\", \"Year\": 2013, \"H_idx\": 274.01}, {\"State\": \"AL\", \"Year\": 2014, \"H_idx\": 277.2325}, {\"State\": \"AL\", \"Year\": 2015, \"H_idx\": 284.83}, {\"State\": \"AL\", \"Year\": 2016, \"H_idx\": 293.08}, {\"State\": \"AL\", \"Year\": 2017, \"H_idx\": 301.95500000000004}, {\"State\": \"AL\", \"Year\": 2018, \"H_idx\": 314.3275}, {\"State\": \"AL\", \"Year\": 2019, \"H_idx\": 330.0}, {\"State\": \"AL\", \"Year\": 2020, \"H_idx\": 349.1}, {\"State\": \"AL\", \"Year\": 2021, \"H_idx\": 394.5575}, {\"State\": \"AL\", \"Year\": 2022, \"H_idx\": 461.8625}, {\"State\": \"AR\", \"Year\": 1975, \"H_idx\": 63.6525}, {\"State\": \"AR\", \"Year\": 1976, \"H_idx\": 69.7775}, {\"State\": \"AR\", \"Year\": 1977, \"H_idx\": 76.7025}, {\"State\": \"AR\", \"Year\": 1978, \"H_idx\": 84.14750000000001}, {\"State\": \"AR\", \"Year\": 1979, \"H_idx\": 96.7025}, {\"State\": \"AR\", \"Year\": 1980, \"H_idx\": 104.0775}, {\"State\": \"AR\", \"Year\": 1981, \"H_idx\": 106.9225}, {\"State\": \"AR\", \"Year\": 1982, \"H_idx\": 106.89750000000001}, {\"State\": \"AR\", \"Year\": 1983, \"H_idx\": 116.2925}, {\"State\": \"AR\", \"Year\": 1984, \"H_idx\": 119.83500000000001}, {\"State\": \"AR\", \"Year\": 1985, \"H_idx\": 122.14}, {\"State\": \"AR\", \"Year\": 1986, \"H_idx\": 127.035}, {\"State\": \"AR\", \"Year\": 1987, \"H_idx\": 127.68}, {\"State\": \"AR\", \"Year\": 1988, \"H_idx\": 126.52250000000001}, {\"State\": \"AR\", \"Year\": 1989, \"H_idx\": 127.07249999999999}, {\"State\": \"AR\", \"Year\": 1990, \"H_idx\": 127.97}, {\"State\": \"AR\", \"Year\": 1991, \"H_idx\": 130.95999999999998}, {\"State\": \"AR\", \"Year\": 1992, \"H_idx\": 135.3375}, {\"State\": \"AR\", \"Year\": 1993, \"H_idx\": 141.4475}, {\"State\": \"AR\", \"Year\": 1994, \"H_idx\": 149.495}, {\"State\": \"AR\", \"Year\": 1995, \"H_idx\": 156.5925}, {\"State\": \"AR\", \"Year\": 1996, \"H_idx\": 162.0625}, {\"State\": \"AR\", \"Year\": 1997, \"H_idx\": 166.9425}, {\"State\": \"AR\", \"Year\": 1998, \"H_idx\": 173.125}, {\"State\": \"AR\", \"Year\": 1999, \"H_idx\": 177.3925}, {\"State\": \"AR\", \"Year\": 2000, \"H_idx\": 181.5525}, {\"State\": \"AR\", \"Year\": 2001, \"H_idx\": 191.28}, {\"State\": \"AR\", \"Year\": 2002, \"H_idx\": 197.5875}, {\"State\": \"AR\", \"Year\": 2003, \"H_idx\": 205.755}, {\"State\": \"AR\", \"Year\": 2004, \"H_idx\": 217.65}, {\"State\": \"AR\", \"Year\": 2005, \"H_idx\": 233.63}, {\"State\": \"AR\", \"Year\": 2006, \"H_idx\": 247.8675}, {\"State\": \"AR\", \"Year\": 2007, \"H_idx\": 255.27}, {\"State\": \"AR\", \"Year\": 2008, \"H_idx\": 254.355}, {\"State\": \"AR\", \"Year\": 2009, \"H_idx\": 251.1675}, {\"State\": \"AR\", \"Year\": 2010, \"H_idx\": 244.9375}, {\"State\": \"AR\", \"Year\": 2011, \"H_idx\": 240.94}, {\"State\": \"AR\", \"Year\": 2012, \"H_idx\": 242.155}, {\"State\": \"AR\", \"Year\": 2013, \"H_idx\": 245.6125}, {\"State\": \"AR\", \"Year\": 2014, \"H_idx\": 248.8975}, {\"State\": \"AR\", \"Year\": 2015, \"H_idx\": 255.04999999999998}, {\"State\": \"AR\", \"Year\": 2016, \"H_idx\": 261.8125}, {\"State\": \"AR\", \"Year\": 2017, \"H_idx\": 271.11}, {\"State\": \"AR\", \"Year\": 2018, \"H_idx\": 281.11}, {\"State\": \"AR\", \"Year\": 2019, \"H_idx\": 291.8075}, {\"State\": \"AR\", \"Year\": 2020, \"H_idx\": 303.9925}, {\"State\": \"AR\", \"Year\": 2021, \"H_idx\": 343.27750000000003}, {\"State\": \"AR\", \"Year\": 2022, \"H_idx\": 404.435}, {\"State\": \"AZ\", \"Year\": 1975, \"H_idx\": 59.09}, {\"State\": \"AZ\", \"Year\": 1976, \"H_idx\": 61.185}, {\"State\": \"AZ\", \"Year\": 1977, \"H_idx\": 65.9725}, {\"State\": \"AZ\", \"Year\": 1978, \"H_idx\": 76.905}, {\"State\": \"AZ\", \"Year\": 1979, \"H_idx\": 93.5275}, {\"State\": \"AZ\", \"Year\": 1980, \"H_idx\": 103.2425}, {\"State\": \"AZ\", \"Year\": 1981, \"H_idx\": 111.7375}, {\"State\": \"AZ\", \"Year\": 1982, \"H_idx\": 106.14500000000001}, {\"State\": \"AZ\", \"Year\": 1983, \"H_idx\": 116.545}, {\"State\": \"AZ\", \"Year\": 1984, \"H_idx\": 121.155}, {\"State\": \"AZ\", \"Year\": 1985, \"H_idx\": 126.655}, {\"State\": \"AZ\", \"Year\": 1986, \"H_idx\": 133.765}, {\"State\": \"AZ\", \"Year\": 1987, \"H_idx\": 135.89499999999998}, {\"State\": \"AZ\", \"Year\": 1988, \"H_idx\": 134.87}, {\"State\": \"AZ\", \"Year\": 1989, \"H_idx\": 133.5725}, {\"State\": \"AZ\", \"Year\": 1990, \"H_idx\": 133.3425}, {\"State\": \"AZ\", \"Year\": 1991, \"H_idx\": 136.2025}, {\"State\": \"AZ\", \"Year\": 1992, \"H_idx\": 140.29500000000002}, {\"State\": \"AZ\", \"Year\": 1993, \"H_idx\": 143.7875}, {\"State\": \"AZ\", \"Year\": 1994, \"H_idx\": 151.185}, {\"State\": \"AZ\", \"Year\": 1995, \"H_idx\": 160.0675}, {\"State\": \"AZ\", \"Year\": 1996, \"H_idx\": 167.82999999999998}, {\"State\": \"AZ\", \"Year\": 1997, \"H_idx\": 174.46}, {\"State\": \"AZ\", \"Year\": 1998, \"H_idx\": 183.6025}, {\"State\": \"AZ\", \"Year\": 1999, \"H_idx\": 192.29250000000002}, {\"State\": \"AZ\", \"Year\": 2000, \"H_idx\": 203.8375}, {\"State\": \"AZ\", \"Year\": 2001, \"H_idx\": 217.29}, {\"State\": \"AZ\", \"Year\": 2002, \"H_idx\": 229.10750000000002}, {\"State\": \"AZ\", \"Year\": 2003, \"H_idx\": 242.3075}, {\"State\": \"AZ\", \"Year\": 2004, \"H_idx\": 272.6925}, {\"State\": \"AZ\", \"Year\": 2005, \"H_idx\": 353.78}, {\"State\": \"AZ\", \"Year\": 2006, \"H_idx\": 419.5475}, {\"State\": \"AZ\", \"Year\": 2007, \"H_idx\": 415.3675}, {\"State\": \"AZ\", \"Year\": 2008, \"H_idx\": 357.785}, {\"State\": \"AZ\", \"Year\": 2009, \"H_idx\": 300.965}, {\"State\": \"AZ\", \"Year\": 2010, \"H_idx\": 263.9425}, {\"State\": \"AZ\", \"Year\": 2011, \"H_idx\": 235.335}, {\"State\": \"AZ\", \"Year\": 2012, \"H_idx\": 245.07750000000001}, {\"State\": \"AZ\", \"Year\": 2013, \"H_idx\": 277.5025}, {\"State\": \"AZ\", \"Year\": 2014, \"H_idx\": 302.7525}, {\"State\": \"AZ\", \"Year\": 2015, \"H_idx\": 321.3925}, {\"State\": \"AZ\", \"Year\": 2016, \"H_idx\": 343.0975}, {\"State\": \"AZ\", \"Year\": 2017, \"H_idx\": 368.90250000000003}, {\"State\": \"AZ\", \"Year\": 2018, \"H_idx\": 397.985}, {\"State\": \"AZ\", \"Year\": 2019, \"H_idx\": 424.4775}, {\"State\": \"AZ\", \"Year\": 2020, \"H_idx\": 459.3825}, {\"State\": \"AZ\", \"Year\": 2021, \"H_idx\": 560.1775}, {\"State\": \"AZ\", \"Year\": 2022, \"H_idx\": 682.005}, {\"State\": \"CA\", \"Year\": 1975, \"H_idx\": 43.625}, {\"State\": \"CA\", \"Year\": 1976, \"H_idx\": 51.7975}, {\"State\": \"CA\", \"Year\": 1977, \"H_idx\": 64.9125}, {\"State\": \"CA\", \"Year\": 1978, \"H_idx\": 77.405}, {\"State\": \"CA\", \"Year\": 1979, \"H_idx\": 90.745}, {\"State\": \"CA\", \"Year\": 1980, \"H_idx\": 104.4425}, {\"State\": \"CA\", \"Year\": 1981, \"H_idx\": 114.2975}, {\"State\": \"CA\", \"Year\": 1982, \"H_idx\": 108.0725}, {\"State\": \"CA\", \"Year\": 1983, \"H_idx\": 117.275}, {\"State\": \"CA\", \"Year\": 1984, \"H_idx\": 121.025}, {\"State\": \"CA\", \"Year\": 1985, \"H_idx\": 127.64250000000001}, {\"State\": \"CA\", \"Year\": 1986, \"H_idx\": 136.485}, {\"State\": \"CA\", \"Year\": 1987, \"H_idx\": 150.8075}, {\"State\": \"CA\", \"Year\": 1988, \"H_idx\": 174.5275}, {\"State\": \"CA\", \"Year\": 1989, \"H_idx\": 211.2225}, {\"State\": \"CA\", \"Year\": 1990, \"H_idx\": 228.6225}, {\"State\": \"CA\", \"Year\": 1991, \"H_idx\": 227.9}, {\"State\": \"CA\", \"Year\": 1992, \"H_idx\": 225.0775}, {\"State\": \"CA\", \"Year\": 1993, \"H_idx\": 216.5975}, {\"State\": \"CA\", \"Year\": 1994, \"H_idx\": 206.01999999999998}, {\"State\": \"CA\", \"Year\": 1995, \"H_idx\": 202.225}, {\"State\": \"CA\", \"Year\": 1996, \"H_idx\": 201.7275}, {\"State\": \"CA\", \"Year\": 1997, \"H_idx\": 207.09}, {\"State\": \"CA\", \"Year\": 1998, \"H_idx\": 224.5725}, {\"State\": \"CA\", \"Year\": 1999, \"H_idx\": 242.52249999999998}, {\"State\": \"CA\", \"Year\": 2000, \"H_idx\": 272.9525}, {\"State\": \"CA\", \"Year\": 2001, \"H_idx\": 307.7875}, {\"State\": \"CA\", \"Year\": 2002, \"H_idx\": 342.1675}, {\"State\": \"CA\", \"Year\": 2003, \"H_idx\": 384.87}, {\"State\": \"CA\", \"Year\": 2004, \"H_idx\": 472.4225}, {\"State\": \"CA\", \"Year\": 2005, \"H_idx\": 583.53}, {\"State\": \"CA\", \"Year\": 2006, \"H_idx\": 643.2075}, {\"State\": \"CA\", \"Year\": 2007, \"H_idx\": 608.4075}, {\"State\": \"CA\", \"Year\": 2008, \"H_idx\": 486.9125}, {\"State\": \"CA\", \"Year\": 2009, \"H_idx\": 421.47}, {\"State\": \"CA\", \"Year\": 2010, \"H_idx\": 408.825}, {\"State\": \"CA\", \"Year\": 2011, \"H_idx\": 387.53499999999997}, {\"State\": \"CA\", \"Year\": 2012, \"H_idx\": 388.61}, {\"State\": \"CA\", \"Year\": 2013, \"H_idx\": 436.15}, {\"State\": \"CA\", \"Year\": 2014, \"H_idx\": 488.1575}, {\"State\": \"CA\", \"Year\": 2015, \"H_idx\": 522.8}, {\"State\": \"CA\", \"Year\": 2016, \"H_idx\": 559.7674999999999}, {\"State\": \"CA\", \"Year\": 2017, \"H_idx\": 596.4025}, {\"State\": \"CA\", \"Year\": 2018, \"H_idx\": 635.11}, {\"State\": \"CA\", \"Year\": 2019, \"H_idx\": 655.5975}, {\"State\": \"CA\", \"Year\": 2020, \"H_idx\": 683.4}, {\"State\": \"CA\", \"Year\": 2021, \"H_idx\": 779.4325}, {\"State\": \"CA\", \"Year\": 2022, \"H_idx\": 902.225}, {\"State\": \"CO\", \"Year\": 1975, \"H_idx\": 54.692499999999995}, {\"State\": \"CO\", \"Year\": 1976, \"H_idx\": 59.13}, {\"State\": \"CO\", \"Year\": 1977, \"H_idx\": 68.1075}, {\"State\": \"CO\", \"Year\": 1978, \"H_idx\": 81.85249999999999}, {\"State\": \"CO\", \"Year\": 1979, \"H_idx\": 95.74}, {\"State\": \"CO\", \"Year\": 1980, \"H_idx\": 104.0075}, {\"State\": \"CO\", \"Year\": 1981, \"H_idx\": 109.97749999999999}, {\"State\": \"CO\", \"Year\": 1982, \"H_idx\": 122.2975}, {\"State\": \"CO\", \"Year\": 1983, \"H_idx\": 124.88499999999999}, {\"State\": \"CO\", \"Year\": 1984, \"H_idx\": 125.1675}, {\"State\": \"CO\", \"Year\": 1985, \"H_idx\": 125.61}, {\"State\": \"CO\", \"Year\": 1986, \"H_idx\": 128.6925}, {\"State\": \"CO\", \"Year\": 1987, \"H_idx\": 126.8975}, {\"State\": \"CO\", \"Year\": 1988, \"H_idx\": 124.41}, {\"State\": \"CO\", \"Year\": 1989, \"H_idx\": 125.2375}, {\"State\": \"CO\", \"Year\": 1990, \"H_idx\": 128.32750000000001}, {\"State\": \"CO\", \"Year\": 1991, \"H_idx\": 133.145}, {\"State\": \"CO\", \"Year\": 1992, \"H_idx\": 142.27}, {\"State\": \"CO\", \"Year\": 1993, \"H_idx\": 155.1675}, {\"State\": \"CO\", \"Year\": 1994, \"H_idx\": 174.1275}, {\"State\": \"CO\", \"Year\": 1995, \"H_idx\": 187.8975}, {\"State\": \"CO\", \"Year\": 1996, \"H_idx\": 198.86}, {\"State\": \"CO\", \"Year\": 1997, \"H_idx\": 209.2525}, {\"State\": \"CO\", \"Year\": 1998, \"H_idx\": 221.70749999999998}, {\"State\": \"CO\", \"Year\": 1999, \"H_idx\": 241.0975}, {\"State\": \"CO\", \"Year\": 2000, \"H_idx\": 269.2075}, {\"State\": \"CO\", \"Year\": 2001, \"H_idx\": 294.34749999999997}, {\"State\": \"CO\", \"Year\": 2002, \"H_idx\": 308.99}, {\"State\": \"CO\", \"Year\": 2003, \"H_idx\": 316.9625}, {\"State\": \"CO\", \"Year\": 2004, \"H_idx\": 328.08}, {\"State\": \"CO\", \"Year\": 2005, \"H_idx\": 344.105}, {\"State\": \"CO\", \"Year\": 2006, \"H_idx\": 354.585}, {\"State\": \"CO\", \"Year\": 2007, \"H_idx\": 358.9725}, {\"State\": \"CO\", \"Year\": 2008, \"H_idx\": 355.7575}, {\"State\": \"CO\", \"Year\": 2009, \"H_idx\": 350.21}, {\"State\": \"CO\", \"Year\": 2010, \"H_idx\": 338.78}, {\"State\": \"CO\", \"Year\": 2011, \"H_idx\": 328.2125}, {\"State\": \"CO\", \"Year\": 2012, \"H_idx\": 332.9375}, {\"State\": \"CO\", \"Year\": 2013, \"H_idx\": 352.53}, {\"State\": \"CO\", \"Year\": 2014, \"H_idx\": 380.8875}, {\"State\": \"CO\", \"Year\": 2015, \"H_idx\": 421.4675}, {\"State\": \"CO\", \"Year\": 2016, \"H_idx\": 465.1475}, {\"State\": \"CO\", \"Year\": 2017, \"H_idx\": 507.24249999999995}, {\"State\": \"CO\", \"Year\": 2018, \"H_idx\": 549.66}, {\"State\": \"CO\", \"Year\": 2019, \"H_idx\": 576.705}, {\"State\": \"CO\", \"Year\": 2020, \"H_idx\": 604.6025}, {\"State\": \"CO\", \"Year\": 2021, \"H_idx\": 696.9075}, {\"State\": \"CO\", \"Year\": 2022, \"H_idx\": 813.0825}, {\"State\": \"CT\", \"Year\": 1975, \"H_idx\": 62.254999999999995}, {\"State\": \"CT\", \"Year\": 1976, \"H_idx\": 66.065}, {\"State\": \"CT\", \"Year\": 1977, \"H_idx\": 69.0775}, {\"State\": \"CT\", \"Year\": 1978, \"H_idx\": 82.0975}, {\"State\": \"CT\", \"Year\": 1979, \"H_idx\": 98.7625}, {\"State\": \"CT\", \"Year\": 1980, \"H_idx\": 102.55}, {\"State\": \"CT\", \"Year\": 1981, \"H_idx\": 109.9675}, {\"State\": \"CT\", \"Year\": 1982, \"H_idx\": 111.985}, {\"State\": \"CT\", \"Year\": 1983, \"H_idx\": 122.1075}, {\"State\": \"CT\", \"Year\": 1984, \"H_idx\": 136.92000000000002}, {\"State\": \"CT\", \"Year\": 1985, \"H_idx\": 158.16}, {\"State\": \"CT\", \"Year\": 1986, \"H_idx\": 192.9575}, {\"State\": \"CT\", \"Year\": 1987, \"H_idx\": 242.4175}, {\"State\": \"CT\", \"Year\": 1988, \"H_idx\": 265.705}, {\"State\": \"CT\", \"Year\": 1989, \"H_idx\": 261.6775}, {\"State\": \"CT\", \"Year\": 1990, \"H_idx\": 248.54999999999998}, {\"State\": \"CT\", \"Year\": 1991, \"H_idx\": 236.5275}, {\"State\": \"CT\", \"Year\": 1992, \"H_idx\": 233.9225}, {\"State\": \"CT\", \"Year\": 1993, \"H_idx\": 230.015}, {\"State\": \"CT\", \"Year\": 1994, \"H_idx\": 222.6275}, {\"State\": \"CT\", \"Year\": 1995, \"H_idx\": 221.4025}, {\"State\": \"CT\", \"Year\": 1996, \"H_idx\": 224.4325}, {\"State\": \"CT\", \"Year\": 1997, \"H_idx\": 227.0625}, {\"State\": \"CT\", \"Year\": 1998, \"H_idx\": 238.4225}, {\"State\": \"CT\", \"Year\": 1999, \"H_idx\": 251.2025}, {\"State\": \"CT\", \"Year\": 2000, \"H_idx\": 270.575}, {\"State\": \"CT\", \"Year\": 2001, \"H_idx\": 294.4175}, {\"State\": \"CT\", \"Year\": 2002, \"H_idx\": 322.62}, {\"State\": \"CT\", \"Year\": 2003, \"H_idx\": 350.09}, {\"State\": \"CT\", \"Year\": 2004, \"H_idx\": 392.3175}, {\"State\": \"CT\", \"Year\": 2005, \"H_idx\": 440.1925}, {\"State\": \"CT\", \"Year\": 2006, \"H_idx\": 465.1175}, {\"State\": \"CT\", \"Year\": 2007, \"H_idx\": 466.2175}, {\"State\": \"CT\", \"Year\": 2008, \"H_idx\": 446.3025}, {\"State\": \"CT\", \"Year\": 2009, \"H_idx\": 420.9625}, {\"State\": \"CT\", \"Year\": 2010, \"H_idx\": 405.3375}, {\"State\": \"CT\", \"Year\": 2011, \"H_idx\": 392.3775}, {\"State\": \"CT\", \"Year\": 2012, \"H_idx\": 384.7025}, {\"State\": \"CT\", \"Year\": 2013, \"H_idx\": 381.045}, {\"State\": \"CT\", \"Year\": 2014, \"H_idx\": 380.23}, {\"State\": \"CT\", \"Year\": 2015, \"H_idx\": 386.495}, {\"State\": \"CT\", \"Year\": 2016, \"H_idx\": 388.62}, {\"State\": \"CT\", \"Year\": 2017, \"H_idx\": 390.8175}, {\"State\": \"CT\", \"Year\": 2018, \"H_idx\": 395.2025}, {\"State\": \"CT\", \"Year\": 2019, \"H_idx\": 406.03499999999997}, {\"State\": \"CT\", \"Year\": 2020, \"H_idx\": 424.0425}, {\"State\": \"CT\", \"Year\": 2021, \"H_idx\": 482.8025}, {\"State\": \"CT\", \"Year\": 2022, \"H_idx\": 552.3525}, {\"State\": \"DC\", \"Year\": 1975, \"H_idx\": 49.045}, {\"State\": \"DC\", \"Year\": 1976, \"H_idx\": 55.7225}, {\"State\": \"DC\", \"Year\": 1977, \"H_idx\": 65.675}, {\"State\": \"DC\", \"Year\": 1978, \"H_idx\": 77.4725}, {\"State\": \"DC\", \"Year\": 1979, \"H_idx\": 92.3425}, {\"State\": \"DC\", \"Year\": 1980, \"H_idx\": 99.2575}, {\"State\": \"DC\", \"Year\": 1981, \"H_idx\": 99.3775}, {\"State\": \"DC\", \"Year\": 1982, \"H_idx\": 91.3075}, {\"State\": \"DC\", \"Year\": 1983, \"H_idx\": 99.1825}, {\"State\": \"DC\", \"Year\": 1984, \"H_idx\": 105.59}, {\"State\": \"DC\", \"Year\": 1985, \"H_idx\": 111.835}, {\"State\": \"DC\", \"Year\": 1986, \"H_idx\": 121.805}, {\"State\": \"DC\", \"Year\": 1987, \"H_idx\": 139.685}, {\"State\": \"DC\", \"Year\": 1988, \"H_idx\": 163.94}, {\"State\": \"DC\", \"Year\": 1989, \"H_idx\": 183.9525}, {\"State\": \"DC\", \"Year\": 1990, \"H_idx\": 191.29000000000002}, {\"State\": \"DC\", \"Year\": 1991, \"H_idx\": 192.4375}, {\"State\": \"DC\", \"Year\": 1992, \"H_idx\": 196.705}, {\"State\": \"DC\", \"Year\": 1993, \"H_idx\": 195.26999999999998}, {\"State\": \"DC\", \"Year\": 1994, \"H_idx\": 190.1325}, {\"State\": \"DC\", \"Year\": 1995, \"H_idx\": 188.2225}, {\"State\": \"DC\", \"Year\": 1996, \"H_idx\": 191.7775}, {\"State\": \"DC\", \"Year\": 1997, \"H_idx\": 191.1975}, {\"State\": \"DC\", \"Year\": 1998, \"H_idx\": 201.6175}, {\"State\": \"DC\", \"Year\": 1999, \"H_idx\": 217.215}, {\"State\": \"DC\", \"Year\": 2000, \"H_idx\": 247.58249999999998}, {\"State\": \"DC\", \"Year\": 2001, \"H_idx\": 285.2075}, {\"State\": \"DC\", \"Year\": 2002, \"H_idx\": 328.71}, {\"State\": \"DC\", \"Year\": 2003, \"H_idx\": 370.1175}, {\"State\": \"DC\", \"Year\": 2004, \"H_idx\": 443.95}, {\"State\": \"DC\", \"Year\": 2005, \"H_idx\": 549.4675}, {\"State\": \"DC\", \"Year\": 2006, \"H_idx\": 614.5175}, {\"State\": \"DC\", \"Year\": 2007, \"H_idx\": 631.3525}, {\"State\": \"DC\", \"Year\": 2008, \"H_idx\": 593.675}, {\"State\": \"DC\", \"Year\": 2009, \"H_idx\": 566.5250000000001}, {\"State\": \"DC\", \"Year\": 2010, \"H_idx\": 565.17}, {\"State\": \"DC\", \"Year\": 2011, \"H_idx\": 571.12}, {\"State\": \"DC\", \"Year\": 2012, \"H_idx\": 593.6225000000001}, {\"State\": \"DC\", \"Year\": 2013, \"H_idx\": 642.6125}, {\"State\": \"DC\", \"Year\": 2014, \"H_idx\": 693.8775}, {\"State\": \"DC\", \"Year\": 2015, \"H_idx\": 740.3}, {\"State\": \"DC\", \"Year\": 2016, \"H_idx\": 788.085}, {\"State\": \"DC\", \"Year\": 2017, \"H_idx\": 824.925}, {\"State\": \"DC\", \"Year\": 2018, \"H_idx\": 864.9275}, {\"State\": \"DC\", \"Year\": 2019, \"H_idx\": 897.5475}, {\"State\": \"DC\", \"Year\": 2020, \"H_idx\": 930.015}, {\"State\": \"DC\", \"Year\": 2021, \"H_idx\": 1006.1625}, {\"State\": \"DC\", \"Year\": 2022, \"H_idx\": 1085.395}, {\"State\": \"DE\", \"Year\": 1975, \"H_idx\": 88.5}, {\"State\": \"DE\", \"Year\": 1976, \"H_idx\": 82.8075}, {\"State\": \"DE\", \"Year\": 1977, \"H_idx\": 83.19}, {\"State\": \"DE\", \"Year\": 1978, \"H_idx\": 85.8075}, {\"State\": \"DE\", \"Year\": 1979, \"H_idx\": 91.0325}, {\"State\": \"DE\", \"Year\": 1980, \"H_idx\": 105.69}, {\"State\": \"DE\", \"Year\": 1981, \"H_idx\": 109.1075}, {\"State\": \"DE\", \"Year\": 1982, \"H_idx\": 111.045}, {\"State\": \"DE\", \"Year\": 1983, \"H_idx\": 121.255}, {\"State\": \"DE\", \"Year\": 1984, \"H_idx\": 129.6675}, {\"State\": \"DE\", \"Year\": 1985, \"H_idx\": 141.4425}, {\"State\": \"DE\", \"Year\": 1986, \"H_idx\": 157.14499999999998}, {\"State\": \"DE\", \"Year\": 1987, \"H_idx\": 178.7575}, {\"State\": \"DE\", \"Year\": 1988, \"H_idx\": 197.98000000000002}, {\"State\": \"DE\", \"Year\": 1989, \"H_idx\": 217.2225}, {\"State\": \"DE\", \"Year\": 1990, \"H_idx\": 224.4325}, {\"State\": \"DE\", \"Year\": 1991, \"H_idx\": 228.1175}, {\"State\": \"DE\", \"Year\": 1992, \"H_idx\": 230.57999999999998}, {\"State\": \"DE\", \"Year\": 1993, \"H_idx\": 231.6275}, {\"State\": \"DE\", \"Year\": 1994, \"H_idx\": 227.82999999999998}, {\"State\": \"DE\", \"Year\": 1995, \"H_idx\": 228.445}, {\"State\": \"DE\", \"Year\": 1996, \"H_idx\": 232.4175}, {\"State\": \"DE\", \"Year\": 1997, \"H_idx\": 235.405}, {\"State\": \"DE\", \"Year\": 1998, \"H_idx\": 243.17000000000002}, {\"State\": \"DE\", \"Year\": 1999, \"H_idx\": 252.57999999999998}, {\"State\": \"DE\", \"Year\": 2000, \"H_idx\": 267.0175}, {\"State\": \"DE\", \"Year\": 2001, \"H_idx\": 286.555}, {\"State\": \"DE\", \"Year\": 2002, \"H_idx\": 309.5425}, {\"State\": \"DE\", \"Year\": 2003, \"H_idx\": 336.02250000000004}, {\"State\": \"DE\", \"Year\": 2004, \"H_idx\": 382.255}, {\"State\": \"DE\", \"Year\": 2005, \"H_idx\": 440.90250000000003}, {\"State\": \"DE\", \"Year\": 2006, \"H_idx\": 482.9325}, {\"State\": \"DE\", \"Year\": 2007, \"H_idx\": 494.84000000000003}, {\"State\": \"DE\", \"Year\": 2008, \"H_idx\": 478.52250000000004}, {\"State\": \"DE\", \"Year\": 2009, \"H_idx\": 452.6675}, {\"State\": \"DE\", \"Year\": 2010, \"H_idx\": 433.4375}, {\"State\": \"DE\", \"Year\": 2011, \"H_idx\": 409.33}, {\"State\": \"DE\", \"Year\": 2012, \"H_idx\": 400.8375}, {\"State\": \"DE\", \"Year\": 2013, \"H_idx\": 404.2025}, {\"State\": \"DE\", \"Year\": 2014, \"H_idx\": 411.1175}, {\"State\": \"DE\", \"Year\": 2015, \"H_idx\": 421.315}, {\"State\": \"DE\", \"Year\": 2016, \"H_idx\": 430.9825}, {\"State\": \"DE\", \"Year\": 2017, \"H_idx\": 438.8425}, {\"State\": \"DE\", \"Year\": 2018, \"H_idx\": 453.38}, {\"State\": \"DE\", \"Year\": 2019, \"H_idx\": 470.0425}, {\"State\": \"DE\", \"Year\": 2020, \"H_idx\": 492.7125}, {\"State\": \"DE\", \"Year\": 2021, \"H_idx\": 554.395}, {\"State\": \"DE\", \"Year\": 2022, \"H_idx\": 636.82}, {\"State\": \"FL\", \"Year\": 1975, \"H_idx\": 71.095}, {\"State\": \"FL\", \"Year\": 1976, \"H_idx\": 70.79}, {\"State\": \"FL\", \"Year\": 1977, \"H_idx\": 74.35}, {\"State\": \"FL\", \"Year\": 1978, \"H_idx\": 82.3225}, {\"State\": \"FL\", \"Year\": 1979, \"H_idx\": 93.4575}, {\"State\": \"FL\", \"Year\": 1980, \"H_idx\": 103.55}, {\"State\": \"FL\", \"Year\": 1981, \"H_idx\": 108.765}, {\"State\": \"FL\", \"Year\": 1982, \"H_idx\": 111.14}, {\"State\": \"FL\", \"Year\": 1983, \"H_idx\": 123.42}, {\"State\": \"FL\", \"Year\": 1984, \"H_idx\": 126.72500000000001}, {\"State\": \"FL\", \"Year\": 1985, \"H_idx\": 128.4725}, {\"State\": \"FL\", \"Year\": 1986, \"H_idx\": 134.295}, {\"State\": \"FL\", \"Year\": 1987, \"H_idx\": 138.4}, {\"State\": \"FL\", \"Year\": 1988, \"H_idx\": 144.325}, {\"State\": \"FL\", \"Year\": 1989, \"H_idx\": 149.91750000000002}, {\"State\": \"FL\", \"Year\": 1990, \"H_idx\": 152.9125}, {\"State\": \"FL\", \"Year\": 1991, \"H_idx\": 155.4425}, {\"State\": \"FL\", \"Year\": 1992, \"H_idx\": 159.595}, {\"State\": \"FL\", \"Year\": 1993, \"H_idx\": 163.2125}, {\"State\": \"FL\", \"Year\": 1994, \"H_idx\": 164.57}, {\"State\": \"FL\", \"Year\": 1995, \"H_idx\": 168.5725}, {\"State\": \"FL\", \"Year\": 1996, \"H_idx\": 173.2675}, {\"State\": \"FL\", \"Year\": 1997, \"H_idx\": 177.83249999999998}, {\"State\": \"FL\", \"Year\": 1998, \"H_idx\": 186.51749999999998}, {\"State\": \"FL\", \"Year\": 1999, \"H_idx\": 193.6575}, {\"State\": \"FL\", \"Year\": 2000, \"H_idx\": 206.76}, {\"State\": \"FL\", \"Year\": 2001, \"H_idx\": 227.34}, {\"State\": \"FL\", \"Year\": 2002, \"H_idx\": 250.565}, {\"State\": \"FL\", \"Year\": 2003, \"H_idx\": 277.0825}, {\"State\": \"FL\", \"Year\": 2004, \"H_idx\": 324.825}, {\"State\": \"FL\", \"Year\": 2005, \"H_idx\": 408.39}, {\"State\": \"FL\", \"Year\": 2006, \"H_idx\": 473.11249999999995}, {\"State\": \"FL\", \"Year\": 2007, \"H_idx\": 460.8375}, {\"State\": \"FL\", \"Year\": 2008, \"H_idx\": 381.96000000000004}, {\"State\": \"FL\", \"Year\": 2009, \"H_idx\": 325.435}, {\"State\": \"FL\", \"Year\": 2010, \"H_idx\": 293.815}, {\"State\": \"FL\", \"Year\": 2011, \"H_idx\": 271.3925}, {\"State\": \"FL\", \"Year\": 2012, \"H_idx\": 269.75}, {\"State\": \"FL\", \"Year\": 2013, \"H_idx\": 291.5575}, {\"State\": \"FL\", \"Year\": 2014, \"H_idx\": 318.6775}, {\"State\": \"FL\", \"Year\": 2015, \"H_idx\": 348.095}, {\"State\": \"FL\", \"Year\": 2016, \"H_idx\": 380.06}, {\"State\": \"FL\", \"Year\": 2017, \"H_idx\": 412.5625}, {\"State\": \"FL\", \"Year\": 2018, \"H_idx\": 444.02750000000003}, {\"State\": \"FL\", \"Year\": 2019, \"H_idx\": 469.245}, {\"State\": \"FL\", \"Year\": 2020, \"H_idx\": 498.65}, {\"State\": \"FL\", \"Year\": 2021, \"H_idx\": 586.775}, {\"State\": \"FL\", \"Year\": 2022, \"H_idx\": 737.4425}, {\"State\": \"GA\", \"Year\": 1975, \"H_idx\": 73.44}, {\"State\": \"GA\", \"Year\": 1976, \"H_idx\": 75.46000000000001}, {\"State\": \"GA\", \"Year\": 1977, \"H_idx\": 77.60249999999999}, {\"State\": \"GA\", \"Year\": 1978, \"H_idx\": 84.38499999999999}, {\"State\": \"GA\", \"Year\": 1979, \"H_idx\": 91.735}, {\"State\": \"GA\", \"Year\": 1980, \"H_idx\": 101.3475}, {\"State\": \"GA\", \"Year\": 1981, \"H_idx\": 109.125}, {\"State\": \"GA\", \"Year\": 1982, \"H_idx\": 114.9825}, {\"State\": \"GA\", \"Year\": 1983, \"H_idx\": 119.5075}, {\"State\": \"GA\", \"Year\": 1984, \"H_idx\": 126.1225}, {\"State\": \"GA\", \"Year\": 1985, \"H_idx\": 133.355}, {\"State\": \"GA\", \"Year\": 1986, \"H_idx\": 142.9325}, {\"State\": \"GA\", \"Year\": 1987, \"H_idx\": 150.725}, {\"State\": \"GA\", \"Year\": 1988, \"H_idx\": 156.2075}, {\"State\": \"GA\", \"Year\": 1989, \"H_idx\": 159.4625}, {\"State\": \"GA\", \"Year\": 1990, \"H_idx\": 160.095}, {\"State\": \"GA\", \"Year\": 1991, \"H_idx\": 161.805}, {\"State\": \"GA\", \"Year\": 1992, \"H_idx\": 166.015}, {\"State\": \"GA\", \"Year\": 1993, \"H_idx\": 170.6125}, {\"State\": \"GA\", \"Year\": 1994, \"H_idx\": 174.46}, {\"State\": \"GA\", \"Year\": 1995, \"H_idx\": 180.925}, {\"State\": \"GA\", \"Year\": 1996, \"H_idx\": 189.1475}, {\"State\": \"GA\", \"Year\": 1997, \"H_idx\": 197.5125}, {\"State\": \"GA\", \"Year\": 1998, \"H_idx\": 209.49}, {\"State\": \"GA\", \"Year\": 1999, \"H_idx\": 222.1275}, {\"State\": \"GA\", \"Year\": 2000, \"H_idx\": 235.555}, {\"State\": \"GA\", \"Year\": 2001, \"H_idx\": 252.775}, {\"State\": \"GA\", \"Year\": 2002, \"H_idx\": 264.2075}, {\"State\": \"GA\", \"Year\": 2003, \"H_idx\": 274.305}, {\"State\": \"GA\", \"Year\": 2004, \"H_idx\": 286.59000000000003}, {\"State\": \"GA\", \"Year\": 2005, \"H_idx\": 302.6825}, {\"State\": \"GA\", \"Year\": 2006, \"H_idx\": 316.5375}, {\"State\": \"GA\", \"Year\": 2007, \"H_idx\": 325.65000000000003}, {\"State\": \"GA\", \"Year\": 2008, \"H_idx\": 318.3275}, {\"State\": \"GA\", \"Year\": 2009, \"H_idx\": 303.82}, {\"State\": \"GA\", \"Year\": 2010, \"H_idx\": 282.10249999999996}, {\"State\": \"GA\", \"Year\": 2011, \"H_idx\": 260.865}, {\"State\": \"GA\", \"Year\": 2012, \"H_idx\": 250.6325}, {\"State\": \"GA\", \"Year\": 2013, \"H_idx\": 260.71999999999997}, {\"State\": \"GA\", \"Year\": 2014, \"H_idx\": 278.375}, {\"State\": \"GA\", \"Year\": 2015, \"H_idx\": 295.9675}, {\"State\": \"GA\", \"Year\": 2016, \"H_idx\": 314.15999999999997}, {\"State\": \"GA\", \"Year\": 2017, \"H_idx\": 333.135}, {\"State\": \"GA\", \"Year\": 2018, \"H_idx\": 357.6775}, {\"State\": \"GA\", \"Year\": 2019, \"H_idx\": 378.8975}, {\"State\": \"GA\", \"Year\": 2020, \"H_idx\": 401.1675}, {\"State\": \"GA\", \"Year\": 2021, \"H_idx\": 462.7475}, {\"State\": \"GA\", \"Year\": 2022, \"H_idx\": 562.8199999999999}, {\"State\": \"HI\", \"Year\": 1975, \"H_idx\": 58.9125}, {\"State\": \"HI\", \"Year\": 1976, \"H_idx\": 55.655}, {\"State\": \"HI\", \"Year\": 1977, \"H_idx\": 59.855000000000004}, {\"State\": \"HI\", \"Year\": 1978, \"H_idx\": 68.365}, {\"State\": \"HI\", \"Year\": 1979, \"H_idx\": 84.725}, {\"State\": \"HI\", \"Year\": 1980, \"H_idx\": 102.66499999999999}, {\"State\": \"HI\", \"Year\": 1981, \"H_idx\": 84.08999999999999}, {\"State\": \"HI\", \"Year\": 1982, \"H_idx\": 100.6075}, {\"State\": \"HI\", \"Year\": 1983, \"H_idx\": 106.845}, {\"State\": \"HI\", \"Year\": 1984, \"H_idx\": 110.34}, {\"State\": \"HI\", \"Year\": 1985, \"H_idx\": 115.6875}, {\"State\": \"HI\", \"Year\": 1986, \"H_idx\": 121.25}, {\"State\": \"HI\", \"Year\": 1987, \"H_idx\": 132.04250000000002}, {\"State\": \"HI\", \"Year\": 1988, \"H_idx\": 154.69}, {\"State\": \"HI\", \"Year\": 1989, \"H_idx\": 190.625}, {\"State\": \"HI\", \"Year\": 1990, \"H_idx\": 236.01500000000001}, {\"State\": \"HI\", \"Year\": 1991, \"H_idx\": 260.465}, {\"State\": \"HI\", \"Year\": 1992, \"H_idx\": 264.05}, {\"State\": \"HI\", \"Year\": 1993, \"H_idx\": 265.615}, {\"State\": \"HI\", \"Year\": 1994, \"H_idx\": 264.045}, {\"State\": \"HI\", \"Year\": 1995, \"H_idx\": 260.645}, {\"State\": \"HI\", \"Year\": 1996, \"H_idx\": 247.8675}, {\"State\": \"HI\", \"Year\": 1997, \"H_idx\": 231.8875}, {\"State\": \"HI\", \"Year\": 1998, \"H_idx\": 231.35250000000002}, {\"State\": \"HI\", \"Year\": 1999, \"H_idx\": 226.79}, {\"State\": \"HI\", \"Year\": 2000, \"H_idx\": 233.6225}, {\"State\": \"HI\", \"Year\": 2001, \"H_idx\": 252.7875}, {\"State\": \"HI\", \"Year\": 2002, \"H_idx\": 272.2175}, {\"State\": \"HI\", \"Year\": 2003, \"H_idx\": 302.36249999999995}, {\"State\": \"HI\", \"Year\": 2004, \"H_idx\": 371.3325}, {\"State\": \"HI\", \"Year\": 2005, \"H_idx\": 462.345}, {\"State\": \"HI\", \"Year\": 2006, \"H_idx\": 528.8425}, {\"State\": \"HI\", \"Year\": 2007, \"H_idx\": 539.5}, {\"State\": \"HI\", \"Year\": 2008, \"H_idx\": 513.3725}, {\"State\": \"HI\", \"Year\": 2009, \"H_idx\": 469.15}, {\"State\": \"HI\", \"Year\": 2010, \"H_idx\": 450.98}, {\"State\": \"HI\", \"Year\": 2011, \"H_idx\": 444.36}, {\"State\": \"HI\", \"Year\": 2012, \"H_idx\": 450.475}, {\"State\": \"HI\", \"Year\": 2013, \"H_idx\": 474.64750000000004}, {\"State\": \"HI\", \"Year\": 2014, \"H_idx\": 506.015}, {\"State\": \"HI\", \"Year\": 2015, \"H_idx\": 538.1725}, {\"State\": \"HI\", \"Year\": 2016, \"H_idx\": 571.6725}, {\"State\": \"HI\", \"Year\": 2017, \"H_idx\": 593.9425}, {\"State\": \"HI\", \"Year\": 2018, \"H_idx\": 616.79}, {\"State\": \"HI\", \"Year\": 2019, \"H_idx\": 635.9}, {\"State\": \"HI\", \"Year\": 2020, \"H_idx\": 649.0375}, {\"State\": \"HI\", \"Year\": 2021, \"H_idx\": 713.7775}, {\"State\": \"HI\", \"Year\": 2022, \"H_idx\": 861.73}, {\"State\": \"IA\", \"Year\": 1975, \"H_idx\": 62.8125}, {\"State\": \"IA\", \"Year\": 1976, \"H_idx\": 70.7075}, {\"State\": \"IA\", \"Year\": 1977, \"H_idx\": 79.23}, {\"State\": \"IA\", \"Year\": 1978, \"H_idx\": 90.2225}, {\"State\": \"IA\", \"Year\": 1979, \"H_idx\": 99.5825}, {\"State\": \"IA\", \"Year\": 1980, \"H_idx\": 99.785}, {\"State\": \"IA\", \"Year\": 1981, \"H_idx\": 94.4875}, {\"State\": \"IA\", \"Year\": 1982, \"H_idx\": 93.0725}, {\"State\": \"IA\", \"Year\": 1983, \"H_idx\": 98.305}, {\"State\": \"IA\", \"Year\": 1984, \"H_idx\": 99.595}, {\"State\": \"IA\", \"Year\": 1985, \"H_idx\": 101.775}, {\"State\": \"IA\", \"Year\": 1986, \"H_idx\": 103.525}, {\"State\": \"IA\", \"Year\": 1987, \"H_idx\": 104.33500000000001}, {\"State\": \"IA\", \"Year\": 1988, \"H_idx\": 106.4125}, {\"State\": \"IA\", \"Year\": 1989, \"H_idx\": 111.7}, {\"State\": \"IA\", \"Year\": 1990, \"H_idx\": 117.4325}, {\"State\": \"IA\", \"Year\": 1991, \"H_idx\": 122.9}, {\"State\": \"IA\", \"Year\": 1992, \"H_idx\": 128.215}, {\"State\": \"IA\", \"Year\": 1993, \"H_idx\": 134.76}, {\"State\": \"IA\", \"Year\": 1994, \"H_idx\": 144.4075}, {\"State\": \"IA\", \"Year\": 1995, \"H_idx\": 152.25}, {\"State\": \"IA\", \"Year\": 1996, \"H_idx\": 159.29}, {\"State\": \"IA\", \"Year\": 1997, \"H_idx\": 165.61}, {\"State\": \"IA\", \"Year\": 1998, \"H_idx\": 173.655}, {\"State\": \"IA\", \"Year\": 1999, \"H_idx\": 181.185}, {\"State\": \"IA\", \"Year\": 2000, \"H_idx\": 188.645}, {\"State\": \"IA\", \"Year\": 2001, \"H_idx\": 198.49}, {\"State\": \"IA\", \"Year\": 2002, \"H_idx\": 205.7475}, {\"State\": \"IA\", \"Year\": 2003, \"H_idx\": 213.26}, {\"State\": \"IA\", \"Year\": 2004, \"H_idx\": 222.9925}, {\"State\": \"IA\", \"Year\": 2005, \"H_idx\": 233.985}, {\"State\": \"IA\", \"Year\": 2006, \"H_idx\": 240.1375}, {\"State\": \"IA\", \"Year\": 2007, \"H_idx\": 245.405}, {\"State\": \"IA\", \"Year\": 2008, \"H_idx\": 246.5775}, {\"State\": \"IA\", \"Year\": 2009, \"H_idx\": 246.47}, {\"State\": \"IA\", \"Year\": 2010, \"H_idx\": 244.7725}, {\"State\": \"IA\", \"Year\": 2011, \"H_idx\": 244.115}, {\"State\": \"IA\", \"Year\": 2012, \"H_idx\": 246.8325}, {\"State\": \"IA\", \"Year\": 2013, \"H_idx\": 250.745}, {\"State\": \"IA\", \"Year\": 2014, \"H_idx\": 255.76500000000001}, {\"State\": \"IA\", \"Year\": 2015, \"H_idx\": 264.0525}, {\"State\": \"IA\", \"Year\": 2016, \"H_idx\": 273.1775}, {\"State\": \"IA\", \"Year\": 2017, \"H_idx\": 283.48}, {\"State\": \"IA\", \"Year\": 2018, \"H_idx\": 293.505}, {\"State\": \"IA\", \"Year\": 2019, \"H_idx\": 302.97}, {\"State\": \"IA\", \"Year\": 2020, \"H_idx\": 312.915}, {\"State\": \"IA\", \"Year\": 2021, \"H_idx\": 342.275}, {\"State\": \"IA\", \"Year\": 2022, \"H_idx\": 388.385}, {\"State\": \"ID\", \"Year\": 1975, \"H_idx\": 63.769999999999996}, {\"State\": \"ID\", \"Year\": 1976, \"H_idx\": 65.00999999999999}, {\"State\": \"ID\", \"Year\": 1977, \"H_idx\": 78.47749999999999}, {\"State\": \"ID\", \"Year\": 1978, \"H_idx\": 90.175}, {\"State\": \"ID\", \"Year\": 1979, \"H_idx\": 98.8675}, {\"State\": \"ID\", \"Year\": 1980, \"H_idx\": 102.6525}, {\"State\": \"ID\", \"Year\": 1981, \"H_idx\": 108.2825}, {\"State\": \"ID\", \"Year\": 1982, \"H_idx\": 104.7775}, {\"State\": \"ID\", \"Year\": 1983, \"H_idx\": 108.22}, {\"State\": \"ID\", \"Year\": 1984, \"H_idx\": 110.8575}, {\"State\": \"ID\", \"Year\": 1985, \"H_idx\": 112.555}, {\"State\": \"ID\", \"Year\": 1986, \"H_idx\": 114.4875}, {\"State\": \"ID\", \"Year\": 1987, \"H_idx\": 112.8625}, {\"State\": \"ID\", \"Year\": 1988, \"H_idx\": 112.79249999999999}, {\"State\": \"ID\", \"Year\": 1989, \"H_idx\": 116.855}, {\"State\": \"ID\", \"Year\": 1990, \"H_idx\": 125.13}, {\"State\": \"ID\", \"Year\": 1991, \"H_idx\": 132.915}, {\"State\": \"ID\", \"Year\": 1992, \"H_idx\": 141.9125}, {\"State\": \"ID\", \"Year\": 1993, \"H_idx\": 154.4375}, {\"State\": \"ID\", \"Year\": 1994, \"H_idx\": 166.495}, {\"State\": \"ID\", \"Year\": 1995, \"H_idx\": 175.79500000000002}, {\"State\": \"ID\", \"Year\": 1996, \"H_idx\": 181.6925}, {\"State\": \"ID\", \"Year\": 1997, \"H_idx\": 186.73250000000002}, {\"State\": \"ID\", \"Year\": 1998, \"H_idx\": 193.54}, {\"State\": \"ID\", \"Year\": 1999, \"H_idx\": 196.82999999999998}, {\"State\": \"ID\", \"Year\": 2000, \"H_idx\": 200.18}, {\"State\": \"ID\", \"Year\": 2001, \"H_idx\": 210.69}, {\"State\": \"ID\", \"Year\": 2002, \"H_idx\": 217.0625}, {\"State\": \"ID\", \"Year\": 2003, \"H_idx\": 225.7825}, {\"State\": \"ID\", \"Year\": 2004, \"H_idx\": 242.43}, {\"State\": \"ID\", \"Year\": 2005, \"H_idx\": 279.1075}, {\"State\": \"ID\", \"Year\": 2006, \"H_idx\": 325.8525}, {\"State\": \"ID\", \"Year\": 2007, \"H_idx\": 345.1825}, {\"State\": \"ID\", \"Year\": 2008, \"H_idx\": 336.4375}, {\"State\": \"ID\", \"Year\": 2009, \"H_idx\": 314.09000000000003}, {\"State\": \"ID\", \"Year\": 2010, \"H_idx\": 284.8975}, {\"State\": \"ID\", \"Year\": 2011, \"H_idx\": 259.31}, {\"State\": \"ID\", \"Year\": 2012, \"H_idx\": 262.245}, {\"State\": \"ID\", \"Year\": 2013, \"H_idx\": 276.1625}, {\"State\": \"ID\", \"Year\": 2014, \"H_idx\": 292.19}, {\"State\": \"ID\", \"Year\": 2015, \"H_idx\": 310.4925}, {\"State\": \"ID\", \"Year\": 2016, \"H_idx\": 333.3225}, {\"State\": \"ID\", \"Year\": 2017, \"H_idx\": 363.6275}, {\"State\": \"ID\", \"Year\": 2018, \"H_idx\": 408.2075}, {\"State\": \"ID\", \"Year\": 2019, \"H_idx\": 451.8}, {\"State\": \"ID\", \"Year\": 2020, \"H_idx\": 501.245}, {\"State\": \"ID\", \"Year\": 2021, \"H_idx\": 635.095}, {\"State\": \"ID\", \"Year\": 2022, \"H_idx\": 750.64}, {\"State\": \"IL\", \"Year\": 1975, \"H_idx\": 64.8775}, {\"State\": \"IL\", \"Year\": 1976, \"H_idx\": 71.1625}, {\"State\": \"IL\", \"Year\": 1977, \"H_idx\": 83.97}, {\"State\": \"IL\", \"Year\": 1978, \"H_idx\": 97.63}, {\"State\": \"IL\", \"Year\": 1979, \"H_idx\": 100.1525}, {\"State\": \"IL\", \"Year\": 1980, \"H_idx\": 99.72749999999999}, {\"State\": \"IL\", \"Year\": 1981, \"H_idx\": 103.93}, {\"State\": \"IL\", \"Year\": 1982, \"H_idx\": 94.79}, {\"State\": \"IL\", \"Year\": 1983, \"H_idx\": 104.325}, {\"State\": \"IL\", \"Year\": 1984, \"H_idx\": 110.22749999999999}, {\"State\": \"IL\", \"Year\": 1985, \"H_idx\": 115.445}, {\"State\": \"IL\", \"Year\": 1986, \"H_idx\": 123.80250000000001}, {\"State\": \"IL\", \"Year\": 1987, \"H_idx\": 136.05}, {\"State\": \"IL\", \"Year\": 1988, \"H_idx\": 148.67249999999999}, {\"State\": \"IL\", \"Year\": 1989, \"H_idx\": 159.97}, {\"State\": \"IL\", \"Year\": 1990, \"H_idx\": 168.28500000000003}, {\"State\": \"IL\", \"Year\": 1991, \"H_idx\": 174.7025}, {\"State\": \"IL\", \"Year\": 1992, \"H_idx\": 181.2175}, {\"State\": \"IL\", \"Year\": 1993, \"H_idx\": 187.48000000000002}, {\"State\": \"IL\", \"Year\": 1994, \"H_idx\": 195.7225}, {\"State\": \"IL\", \"Year\": 1995, \"H_idx\": 203.32}, {\"State\": \"IL\", \"Year\": 1996, \"H_idx\": 210.3775}, {\"State\": \"IL\", \"Year\": 1997, \"H_idx\": 216.70749999999998}, {\"State\": \"IL\", \"Year\": 1998, \"H_idx\": 223.7475}, {\"State\": \"IL\", \"Year\": 1999, \"H_idx\": 232.6425}, {\"State\": \"IL\", \"Year\": 2000, \"H_idx\": 247.28}, {\"State\": \"IL\", \"Year\": 2001, \"H_idx\": 262.1275}, {\"State\": \"IL\", \"Year\": 2002, \"H_idx\": 278.315}, {\"State\": \"IL\", \"Year\": 2003, \"H_idx\": 293.1975}, {\"State\": \"IL\", \"Year\": 2004, \"H_idx\": 317.6725}, {\"State\": \"IL\", \"Year\": 2005, \"H_idx\": 345.815}, {\"State\": \"IL\", \"Year\": 2006, \"H_idx\": 365.33}, {\"State\": \"IL\", \"Year\": 2007, \"H_idx\": 370.59000000000003}, {\"State\": \"IL\", \"Year\": 2008, \"H_idx\": 356.135}, {\"State\": \"IL\", \"Year\": 2009, \"H_idx\": 332.3675}, {\"State\": \"IL\", \"Year\": 2010, \"H_idx\": 315.2375}, {\"State\": \"IL\", \"Year\": 2011, \"H_idx\": 299.9675}, {\"State\": \"IL\", \"Year\": 2012, \"H_idx\": 294.48}, {\"State\": \"IL\", \"Year\": 2013, \"H_idx\": 295.28}, {\"State\": \"IL\", \"Year\": 2014, \"H_idx\": 304.2025}, {\"State\": \"IL\", \"Year\": 2015, \"H_idx\": 314.9575}, {\"State\": \"IL\", \"Year\": 2016, \"H_idx\": 324.44}, {\"State\": \"IL\", \"Year\": 2017, \"H_idx\": 332.4725}, {\"State\": \"IL\", \"Year\": 2018, \"H_idx\": 339.72}, {\"State\": \"IL\", \"Year\": 2019, \"H_idx\": 349.2775}, {\"State\": \"IL\", \"Year\": 2020, \"H_idx\": 359.515}, {\"State\": \"IL\", \"Year\": 2021, \"H_idx\": 391.205}, {\"State\": \"IL\", \"Year\": 2022, \"H_idx\": 441.3875}, {\"State\": \"IN\", \"Year\": 1975, \"H_idx\": 63.1325}, {\"State\": \"IN\", \"Year\": 1976, \"H_idx\": 65.7025}, {\"State\": \"IN\", \"Year\": 1977, \"H_idx\": 73.7625}, {\"State\": \"IN\", \"Year\": 1978, \"H_idx\": 85.965}, {\"State\": \"IN\", \"Year\": 1979, \"H_idx\": 96.4575}, {\"State\": \"IN\", \"Year\": 1980, \"H_idx\": 100.86500000000001}, {\"State\": \"IN\", \"Year\": 1981, \"H_idx\": 104.81}, {\"State\": \"IN\", \"Year\": 1982, \"H_idx\": 102.0475}, {\"State\": \"IN\", \"Year\": 1983, \"H_idx\": 105.945}, {\"State\": \"IN\", \"Year\": 1984, \"H_idx\": 107.35499999999999}, {\"State\": \"IN\", \"Year\": 1985, \"H_idx\": 111.85499999999999}, {\"State\": \"IN\", \"Year\": 1986, \"H_idx\": 117.89750000000001}, {\"State\": \"IN\", \"Year\": 1987, \"H_idx\": 124.1425}, {\"State\": \"IN\", \"Year\": 1988, \"H_idx\": 130.2575}, {\"State\": \"IN\", \"Year\": 1989, \"H_idx\": 135.7875}, {\"State\": \"IN\", \"Year\": 1990, \"H_idx\": 140.465}, {\"State\": \"IN\", \"Year\": 1991, \"H_idx\": 145.98250000000002}, {\"State\": \"IN\", \"Year\": 1992, \"H_idx\": 152.075}, {\"State\": \"IN\", \"Year\": 1993, \"H_idx\": 157.7175}, {\"State\": \"IN\", \"Year\": 1994, \"H_idx\": 164.7125}, {\"State\": \"IN\", \"Year\": 1995, \"H_idx\": 172.70999999999998}, {\"State\": \"IN\", \"Year\": 1996, \"H_idx\": 181.1525}, {\"State\": \"IN\", \"Year\": 1997, \"H_idx\": 188.7425}, {\"State\": \"IN\", \"Year\": 1998, \"H_idx\": 197.0125}, {\"State\": \"IN\", \"Year\": 1999, \"H_idx\": 203.32999999999998}, {\"State\": \"IN\", \"Year\": 2000, \"H_idx\": 209.715}, {\"State\": \"IN\", \"Year\": 2001, \"H_idx\": 220.1}, {\"State\": \"IN\", \"Year\": 2002, \"H_idx\": 226.425}, {\"State\": \"IN\", \"Year\": 2003, \"H_idx\": 232.60250000000002}, {\"State\": \"IN\", \"Year\": 2004, \"H_idx\": 239.10500000000002}, {\"State\": \"IN\", \"Year\": 2005, \"H_idx\": 247.7875}, {\"State\": \"IN\", \"Year\": 2006, \"H_idx\": 251.6275}, {\"State\": \"IN\", \"Year\": 2007, \"H_idx\": 255.1375}, {\"State\": \"IN\", \"Year\": 2008, \"H_idx\": 253.595}, {\"State\": \"IN\", \"Year\": 2009, \"H_idx\": 249.505}, {\"State\": \"IN\", \"Year\": 2010, \"H_idx\": 244.5325}, {\"State\": \"IN\", \"Year\": 2011, \"H_idx\": 240.565}, {\"State\": \"IN\", \"Year\": 2012, \"H_idx\": 241.1275}, {\"State\": \"IN\", \"Year\": 2013, \"H_idx\": 243.275}, {\"State\": \"IN\", \"Year\": 2014, \"H_idx\": 248.0975}, {\"State\": \"IN\", \"Year\": 2015, \"H_idx\": 257.355}, {\"State\": \"IN\", \"Year\": 2016, \"H_idx\": 266.1125}, {\"State\": \"IN\", \"Year\": 2017, \"H_idx\": 277.825}, {\"State\": \"IN\", \"Year\": 2018, \"H_idx\": 295.3175}, {\"State\": \"IN\", \"Year\": 2019, \"H_idx\": 312.005}, {\"State\": \"IN\", \"Year\": 2020, \"H_idx\": 330.145}, {\"State\": \"IN\", \"Year\": 2021, \"H_idx\": 375.0025}, {\"State\": \"IN\", \"Year\": 2022, \"H_idx\": 435.3775}, {\"State\": \"KS\", \"Year\": 1975, \"H_idx\": 63.04}, {\"State\": \"KS\", \"Year\": 1976, \"H_idx\": 68.2125}, {\"State\": \"KS\", \"Year\": 1977, \"H_idx\": 76.3575}, {\"State\": \"KS\", \"Year\": 1978, \"H_idx\": 86.46000000000001}, {\"State\": \"KS\", \"Year\": 1979, \"H_idx\": 95.39500000000001}, {\"State\": \"KS\", \"Year\": 1980, \"H_idx\": 101.9325}, {\"State\": \"KS\", \"Year\": 1981, \"H_idx\": 102.4025}, {\"State\": \"KS\", \"Year\": 1982, \"H_idx\": 104.4025}, {\"State\": \"KS\", \"Year\": 1983, \"H_idx\": 107.105}, {\"State\": \"KS\", \"Year\": 1984, \"H_idx\": 107.5375}, {\"State\": \"KS\", \"Year\": 1985, \"H_idx\": 109.31}, {\"State\": \"KS\", \"Year\": 1986, \"H_idx\": 113.54}, {\"State\": \"KS\", \"Year\": 1987, \"H_idx\": 116.425}, {\"State\": \"KS\", \"Year\": 1988, \"H_idx\": 117.3725}, {\"State\": \"KS\", \"Year\": 1989, \"H_idx\": 118.91499999999999}, {\"State\": \"KS\", \"Year\": 1990, \"H_idx\": 119.155}, {\"State\": \"KS\", \"Year\": 1991, \"H_idx\": 120.39750000000001}, {\"State\": \"KS\", \"Year\": 1992, \"H_idx\": 123.755}, {\"State\": \"KS\", \"Year\": 1993, \"H_idx\": 127.56}, {\"State\": \"KS\", \"Year\": 1994, \"H_idx\": 135.7975}, {\"State\": \"KS\", \"Year\": 1995, \"H_idx\": 143.115}, {\"State\": \"KS\", \"Year\": 1996, \"H_idx\": 149.8025}, {\"State\": \"KS\", \"Year\": 1997, \"H_idx\": 155.9475}, {\"State\": \"KS\", \"Year\": 1998, \"H_idx\": 163.72750000000002}, {\"State\": \"KS\", \"Year\": 1999, \"H_idx\": 172.3275}, {\"State\": \"KS\", \"Year\": 2000, \"H_idx\": 181.1725}, {\"State\": \"KS\", \"Year\": 2001, \"H_idx\": 190.9625}, {\"State\": \"KS\", \"Year\": 2002, \"H_idx\": 199.245}, {\"State\": \"KS\", \"Year\": 2003, \"H_idx\": 206.0925}, {\"State\": \"KS\", \"Year\": 2004, \"H_idx\": 215.03}, {\"State\": \"KS\", \"Year\": 2005, \"H_idx\": 224.7825}, {\"State\": \"KS\", \"Year\": 2006, \"H_idx\": 231.8475}, {\"State\": \"KS\", \"Year\": 2007, \"H_idx\": 238.0025}, {\"State\": \"KS\", \"Year\": 2008, \"H_idx\": 237.61}, {\"State\": \"KS\", \"Year\": 2009, \"H_idx\": 236.685}, {\"State\": \"KS\", \"Year\": 2010, \"H_idx\": 234.2125}, {\"State\": \"KS\", \"Year\": 2011, \"H_idx\": 230.695}, {\"State\": \"KS\", \"Year\": 2012, \"H_idx\": 231.2125}, {\"State\": \"KS\", \"Year\": 2013, \"H_idx\": 233.29250000000002}, {\"State\": \"KS\", \"Year\": 2014, \"H_idx\": 238.79}, {\"State\": \"KS\", \"Year\": 2015, \"H_idx\": 246.92000000000002}, {\"State\": \"KS\", \"Year\": 2016, \"H_idx\": 257.4425}, {\"State\": \"KS\", \"Year\": 2017, \"H_idx\": 268.4125}, {\"State\": \"KS\", \"Year\": 2018, \"H_idx\": 281.2}, {\"State\": \"KS\", \"Year\": 2019, \"H_idx\": 293.0875}, {\"State\": \"KS\", \"Year\": 2020, \"H_idx\": 308.64}, {\"State\": \"KS\", \"Year\": 2021, \"H_idx\": 345.945}, {\"State\": \"KS\", \"Year\": 2022, \"H_idx\": 396.1625}, {\"State\": \"KY\", \"Year\": 1975, \"H_idx\": 66.23750000000001}, {\"State\": \"KY\", \"Year\": 1976, \"H_idx\": 69.08}, {\"State\": \"KY\", \"Year\": 1977, \"H_idx\": 74.555}, {\"State\": \"KY\", \"Year\": 1978, \"H_idx\": 86.43}, {\"State\": \"KY\", \"Year\": 1979, \"H_idx\": 97.355}, {\"State\": \"KY\", \"Year\": 1980, \"H_idx\": 101.6675}, {\"State\": \"KY\", \"Year\": 1981, \"H_idx\": 104.9725}, {\"State\": \"KY\", \"Year\": 1982, \"H_idx\": 106.13}, {\"State\": \"KY\", \"Year\": 1983, \"H_idx\": 109.2925}, {\"State\": \"KY\", \"Year\": 1984, \"H_idx\": 112.1225}, {\"State\": \"KY\", \"Year\": 1985, \"H_idx\": 115.255}, {\"State\": \"KY\", \"Year\": 1986, \"H_idx\": 120.895}, {\"State\": \"KY\", \"Year\": 1987, \"H_idx\": 127.455}, {\"State\": \"KY\", \"Year\": 1988, \"H_idx\": 133.9575}, {\"State\": \"KY\", \"Year\": 1989, \"H_idx\": 140.23}, {\"State\": \"KY\", \"Year\": 1990, \"H_idx\": 144.325}, {\"State\": \"KY\", \"Year\": 1991, \"H_idx\": 149.07}, {\"State\": \"KY\", \"Year\": 1992, \"H_idx\": 154.5075}, {\"State\": \"KY\", \"Year\": 1993, \"H_idx\": 160.1375}, {\"State\": \"KY\", \"Year\": 1994, \"H_idx\": 169.7675}, {\"State\": \"KY\", \"Year\": 1995, \"H_idx\": 178.7425}, {\"State\": \"KY\", \"Year\": 1996, \"H_idx\": 186.875}, {\"State\": \"KY\", \"Year\": 1997, \"H_idx\": 195.0975}, {\"State\": \"KY\", \"Year\": 1998, \"H_idx\": 203.7425}, {\"State\": \"KY\", \"Year\": 1999, \"H_idx\": 212.55}, {\"State\": \"KY\", \"Year\": 2000, \"H_idx\": 221.7525}, {\"State\": \"KY\", \"Year\": 2001, \"H_idx\": 232.64249999999998}, {\"State\": \"KY\", \"Year\": 2002, \"H_idx\": 240.4275}, {\"State\": \"KY\", \"Year\": 2003, \"H_idx\": 249.2225}, {\"State\": \"KY\", \"Year\": 2004, \"H_idx\": 260.98749999999995}, {\"State\": \"KY\", \"Year\": 2005, \"H_idx\": 274.07}, {\"State\": \"KY\", \"Year\": 2006, \"H_idx\": 282.99}, {\"State\": \"KY\", \"Year\": 2007, \"H_idx\": 289.7025}, {\"State\": \"KY\", \"Year\": 2008, \"H_idx\": 291.44}, {\"State\": \"KY\", \"Year\": 2009, \"H_idx\": 289.185}, {\"State\": \"KY\", \"Year\": 2010, \"H_idx\": 285.8275}, {\"State\": \"KY\", \"Year\": 2011, \"H_idx\": 282.365}, {\"State\": \"KY\", \"Year\": 2012, \"H_idx\": 283.91999999999996}, {\"State\": \"KY\", \"Year\": 2013, \"H_idx\": 285.52}, {\"State\": \"KY\", \"Year\": 2014, \"H_idx\": 289.24}, {\"State\": \"KY\", \"Year\": 2015, \"H_idx\": 299.4925}, {\"State\": \"KY\", \"Year\": 2016, \"H_idx\": 310.84}, {\"State\": \"KY\", \"Year\": 2017, \"H_idx\": 325.2825}, {\"State\": \"KY\", \"Year\": 2018, \"H_idx\": 339.22}, {\"State\": \"KY\", \"Year\": 2019, \"H_idx\": 353.88}, {\"State\": \"KY\", \"Year\": 2020, \"H_idx\": 371.8625}, {\"State\": \"KY\", \"Year\": 2021, \"H_idx\": 415.955}, {\"State\": \"KY\", \"Year\": 2022, \"H_idx\": 479.13}, {\"State\": \"LA\", \"Year\": 1975, \"H_idx\": 53.815}, {\"State\": \"LA\", \"Year\": 1976, \"H_idx\": 59.3425}, {\"State\": \"LA\", \"Year\": 1977, \"H_idx\": 64.77250000000001}, {\"State\": \"LA\", \"Year\": 1978, \"H_idx\": 76.52}, {\"State\": \"LA\", \"Year\": 1979, \"H_idx\": 93.2625}, {\"State\": \"LA\", \"Year\": 1980, \"H_idx\": 100.74}, {\"State\": \"LA\", \"Year\": 1981, \"H_idx\": 109.77}, {\"State\": \"LA\", \"Year\": 1982, \"H_idx\": 113.7025}, {\"State\": \"LA\", \"Year\": 1983, \"H_idx\": 116.2825}, {\"State\": \"LA\", \"Year\": 1984, \"H_idx\": 116.0475}, {\"State\": \"LA\", \"Year\": 1985, \"H_idx\": 112.16}, {\"State\": \"LA\", \"Year\": 1986, \"H_idx\": 112.6075}, {\"State\": \"LA\", \"Year\": 1987, \"H_idx\": 107.66}, {\"State\": \"LA\", \"Year\": 1988, \"H_idx\": 101.29249999999999}, {\"State\": \"LA\", \"Year\": 1989, \"H_idx\": 101.39500000000001}, {\"State\": \"LA\", \"Year\": 1990, \"H_idx\": 102.68}, {\"State\": \"LA\", \"Year\": 1991, \"H_idx\": 105.6575}, {\"State\": \"LA\", \"Year\": 1992, \"H_idx\": 111.12}, {\"State\": \"LA\", \"Year\": 1993, \"H_idx\": 116.70750000000001}, {\"State\": \"LA\", \"Year\": 1994, \"H_idx\": 124.1825}, {\"State\": \"LA\", \"Year\": 1995, \"H_idx\": 130.15}, {\"State\": \"LA\", \"Year\": 1996, \"H_idx\": 136.91}, {\"State\": \"LA\", \"Year\": 1997, \"H_idx\": 142.935}, {\"State\": \"LA\", \"Year\": 1998, \"H_idx\": 150.495}, {\"State\": \"LA\", \"Year\": 1999, \"H_idx\": 156.3975}, {\"State\": \"LA\", \"Year\": 2000, \"H_idx\": 161.8325}, {\"State\": \"LA\", \"Year\": 2001, \"H_idx\": 170.70749999999998}, {\"State\": \"LA\", \"Year\": 2002, \"H_idx\": 177.355}, {\"State\": \"LA\", \"Year\": 2003, \"H_idx\": 186.22}, {\"State\": \"LA\", \"Year\": 2004, \"H_idx\": 196.525}, {\"State\": \"LA\", \"Year\": 2005, \"H_idx\": 210.0725}, {\"State\": \"LA\", \"Year\": 2006, \"H_idx\": 232.84}, {\"State\": \"LA\", \"Year\": 2007, \"H_idx\": 244.815}, {\"State\": \"LA\", \"Year\": 2008, \"H_idx\": 245.72}, {\"State\": \"LA\", \"Year\": 2009, \"H_idx\": 244.94}, {\"State\": \"LA\", \"Year\": 2010, \"H_idx\": 241.3175}, {\"State\": \"LA\", \"Year\": 2011, \"H_idx\": 238.62}, {\"State\": \"LA\", \"Year\": 2012, \"H_idx\": 241.715}, {\"State\": \"LA\", \"Year\": 2013, \"H_idx\": 245.035}, {\"State\": \"LA\", \"Year\": 2014, \"H_idx\": 250.69}, {\"State\": \"LA\", \"Year\": 2015, \"H_idx\": 260.1725}, {\"State\": \"LA\", \"Year\": 2016, \"H_idx\": 269.21500000000003}, {\"State\": \"LA\", \"Year\": 2017, \"H_idx\": 275.6325}, {\"State\": \"LA\", \"Year\": 2018, \"H_idx\": 280.54}, {\"State\": \"LA\", \"Year\": 2019, \"H_idx\": 288.4275}, {\"State\": \"LA\", \"Year\": 2020, \"H_idx\": 298.9525}, {\"State\": \"LA\", \"Year\": 2021, \"H_idx\": 320.8}, {\"State\": \"LA\", \"Year\": 2022, \"H_idx\": 356.60249999999996}, {\"State\": \"MA\", \"Year\": 1975, \"H_idx\": 67.93}, {\"State\": \"MA\", \"Year\": 1976, \"H_idx\": 68.795}, {\"State\": \"MA\", \"Year\": 1977, \"H_idx\": 72.4125}, {\"State\": \"MA\", \"Year\": 1978, \"H_idx\": 82.43}, {\"State\": \"MA\", \"Year\": 1979, \"H_idx\": 94.9875}, {\"State\": \"MA\", \"Year\": 1980, \"H_idx\": 105.2525}, {\"State\": \"MA\", \"Year\": 1981, \"H_idx\": 118.5275}, {\"State\": \"MA\", \"Year\": 1982, \"H_idx\": 125.595}, {\"State\": \"MA\", \"Year\": 1983, \"H_idx\": 139.245}, {\"State\": \"MA\", \"Year\": 1984, \"H_idx\": 168.9475}, {\"State\": \"MA\", \"Year\": 1985, \"H_idx\": 211.0875}, {\"State\": \"MA\", \"Year\": 1986, \"H_idx\": 259.6275}, {\"State\": \"MA\", \"Year\": 1987, \"H_idx\": 298.23}, {\"State\": \"MA\", \"Year\": 1988, \"H_idx\": 313.6425}, {\"State\": \"MA\", \"Year\": 1989, \"H_idx\": 314.395}, {\"State\": \"MA\", \"Year\": 1990, \"H_idx\": 301.64750000000004}, {\"State\": \"MA\", \"Year\": 1991, \"H_idx\": 285.3075}, {\"State\": \"MA\", \"Year\": 1992, \"H_idx\": 282.3825}, {\"State\": \"MA\", \"Year\": 1993, \"H_idx\": 283.11}, {\"State\": \"MA\", \"Year\": 1994, \"H_idx\": 282.6325}, {\"State\": \"MA\", \"Year\": 1995, \"H_idx\": 288.42}, {\"State\": \"MA\", \"Year\": 1996, \"H_idx\": 298.86}, {\"State\": \"MA\", \"Year\": 1997, \"H_idx\": 312.0325}, {\"State\": \"MA\", \"Year\": 1998, \"H_idx\": 333.7775}, {\"State\": \"MA\", \"Year\": 1999, \"H_idx\": 368.565}, {\"State\": \"MA\", \"Year\": 2000, \"H_idx\": 421.7925}, {\"State\": \"MA\", \"Year\": 2001, \"H_idx\": 472.8125}, {\"State\": \"MA\", \"Year\": 2002, \"H_idx\": 530.36}, {\"State\": \"MA\", \"Year\": 2003, \"H_idx\": 581.2075}, {\"State\": \"MA\", \"Year\": 2004, \"H_idx\": 646.6675}, {\"State\": \"MA\", \"Year\": 2005, \"H_idx\": 707.285}, {\"State\": \"MA\", \"Year\": 2006, \"H_idx\": 712.635}, {\"State\": \"MA\", \"Year\": 2007, \"H_idx\": 689.4975}, {\"State\": \"MA\", \"Year\": 2008, \"H_idx\": 652.715}, {\"State\": \"MA\", \"Year\": 2009, \"H_idx\": 623.1625}, {\"State\": \"MA\", \"Year\": 2010, \"H_idx\": 611.3575000000001}, {\"State\": \"MA\", \"Year\": 2011, \"H_idx\": 600.2175}, {\"State\": \"MA\", \"Year\": 2012, \"H_idx\": 598.28}, {\"State\": \"MA\", \"Year\": 2013, \"H_idx\": 611.9399999999999}, {\"State\": \"MA\", \"Year\": 2014, \"H_idx\": 638.075}, {\"State\": \"MA\", \"Year\": 2015, \"H_idx\": 666.3425}, {\"State\": \"MA\", \"Year\": 2016, \"H_idx\": 698.9375}, {\"State\": \"MA\", \"Year\": 2017, \"H_idx\": 736.79}, {\"State\": \"MA\", \"Year\": 2018, \"H_idx\": 775.4975000000001}, {\"State\": \"MA\", \"Year\": 2019, \"H_idx\": 809.32}, {\"State\": \"MA\", \"Year\": 2020, \"H_idx\": 849.3575}, {\"State\": \"MA\", \"Year\": 2021, \"H_idx\": 956.8050000000001}, {\"State\": \"MA\", \"Year\": 2022, \"H_idx\": 1090.2925}, {\"State\": \"MD\", \"Year\": 1975, \"H_idx\": 64.1025}, {\"State\": \"MD\", \"Year\": 1976, \"H_idx\": 69.91}, {\"State\": \"MD\", \"Year\": 1977, \"H_idx\": 74.92}, {\"State\": \"MD\", \"Year\": 1978, \"H_idx\": 84.88499999999999}, {\"State\": \"MD\", \"Year\": 1979, \"H_idx\": 95.26249999999999}, {\"State\": \"MD\", \"Year\": 1980, \"H_idx\": 103.9275}, {\"State\": \"MD\", \"Year\": 1981, \"H_idx\": 112.37}, {\"State\": \"MD\", \"Year\": 1982, \"H_idx\": 108.19749999999999}, {\"State\": \"MD\", \"Year\": 1983, \"H_idx\": 116.0075}, {\"State\": \"MD\", \"Year\": 1984, \"H_idx\": 122.695}, {\"State\": \"MD\", \"Year\": 1985, \"H_idx\": 129.39000000000001}, {\"State\": \"MD\", \"Year\": 1986, \"H_idx\": 139.385}, {\"State\": \"MD\", \"Year\": 1987, \"H_idx\": 156.3225}, {\"State\": \"MD\", \"Year\": 1988, \"H_idx\": 176.37}, {\"State\": \"MD\", \"Year\": 1989, \"H_idx\": 194.575}, {\"State\": \"MD\", \"Year\": 1990, \"H_idx\": 203.035}, {\"State\": \"MD\", \"Year\": 1991, \"H_idx\": 206.525}, {\"State\": \"MD\", \"Year\": 1992, \"H_idx\": 210.6825}, {\"State\": \"MD\", \"Year\": 1993, \"H_idx\": 212.33249999999998}, {\"State\": \"MD\", \"Year\": 1994, \"H_idx\": 210.8875}, {\"State\": \"MD\", \"Year\": 1995, \"H_idx\": 211.79250000000002}, {\"State\": \"MD\", \"Year\": 1996, \"H_idx\": 215.41750000000002}, {\"State\": \"MD\", \"Year\": 1997, \"H_idx\": 217.3875}, {\"State\": \"MD\", \"Year\": 1998, \"H_idx\": 223.725}, {\"State\": \"MD\", \"Year\": 1999, \"H_idx\": 230.78}, {\"State\": \"MD\", \"Year\": 2000, \"H_idx\": 243.505}, {\"State\": \"MD\", \"Year\": 2001, \"H_idx\": 263.22249999999997}, {\"State\": \"MD\", \"Year\": 2002, \"H_idx\": 290.735}, {\"State\": \"MD\", \"Year\": 2003, \"H_idx\": 321.96750000000003}, {\"State\": \"MD\", \"Year\": 2004, \"H_idx\": 380.3225}, {\"State\": \"MD\", \"Year\": 2005, \"H_idx\": 462.1775}, {\"State\": \"MD\", \"Year\": 2006, \"H_idx\": 521.4275}, {\"State\": \"MD\", \"Year\": 2007, \"H_idx\": 530.545}, {\"State\": \"MD\", \"Year\": 2008, \"H_idx\": 491.46000000000004}, {\"State\": \"MD\", \"Year\": 2009, \"H_idx\": 445.7275}, {\"State\": \"MD\", \"Year\": 2010, \"H_idx\": 424.3925}, {\"State\": \"MD\", \"Year\": 2011, \"H_idx\": 407.3375}, {\"State\": \"MD\", \"Year\": 2012, \"H_idx\": 404.025}, {\"State\": \"MD\", \"Year\": 2013, \"H_idx\": 410.63}, {\"State\": \"MD\", \"Year\": 2014, \"H_idx\": 421.3675}, {\"State\": \"MD\", \"Year\": 2015, \"H_idx\": 432.1575}, {\"State\": \"MD\", \"Year\": 2016, \"H_idx\": 444.26}, {\"State\": \"MD\", \"Year\": 2017, \"H_idx\": 455.865}, {\"State\": \"MD\", \"Year\": 2018, \"H_idx\": 467.5025}, {\"State\": \"MD\", \"Year\": 2019, \"H_idx\": 481.0625}, {\"State\": \"MD\", \"Year\": 2020, \"H_idx\": 501.035}, {\"State\": \"MD\", \"Year\": 2021, \"H_idx\": 556.4875}, {\"State\": \"MD\", \"Year\": 2022, \"H_idx\": 622.35}, {\"State\": \"ME\", \"Year\": 1975, \"H_idx\": 72.17}, {\"State\": \"ME\", \"Year\": 1976, \"H_idx\": 70.0}, {\"State\": \"ME\", \"Year\": 1977, \"H_idx\": 80.8875}, {\"State\": \"ME\", \"Year\": 1978, \"H_idx\": 89.715}, {\"State\": \"ME\", \"Year\": 1979, \"H_idx\": 102.9275}, {\"State\": \"ME\", \"Year\": 1980, \"H_idx\": 104.9225}, {\"State\": \"ME\", \"Year\": 1981, \"H_idx\": 114.8275}, {\"State\": \"ME\", \"Year\": 1982, \"H_idx\": 110.62}, {\"State\": \"ME\", \"Year\": 1983, \"H_idx\": 122.605}, {\"State\": \"ME\", \"Year\": 1984, \"H_idx\": 138.465}, {\"State\": \"ME\", \"Year\": 1985, \"H_idx\": 154.275}, {\"State\": \"ME\", \"Year\": 1986, \"H_idx\": 177.4775}, {\"State\": \"ME\", \"Year\": 1987, \"H_idx\": 209.09}, {\"State\": \"ME\", \"Year\": 1988, \"H_idx\": 232.885}, {\"State\": \"ME\", \"Year\": 1989, \"H_idx\": 242.9425}, {\"State\": \"ME\", \"Year\": 1990, \"H_idx\": 238.5475}, {\"State\": \"ME\", \"Year\": 1991, \"H_idx\": 231.6375}, {\"State\": \"ME\", \"Year\": 1992, \"H_idx\": 231.0725}, {\"State\": \"ME\", \"Year\": 1993, \"H_idx\": 230.15}, {\"State\": \"ME\", \"Year\": 1994, \"H_idx\": 225.4025}, {\"State\": \"ME\", \"Year\": 1995, \"H_idx\": 227.23250000000002}, {\"State\": \"ME\", \"Year\": 1996, \"H_idx\": 234.17000000000002}, {\"State\": \"ME\", \"Year\": 1997, \"H_idx\": 238.85999999999999}, {\"State\": \"ME\", \"Year\": 1998, \"H_idx\": 250.9675}, {\"State\": \"ME\", \"Year\": 1999, \"H_idx\": 265.9425}, {\"State\": \"ME\", \"Year\": 2000, \"H_idx\": 288.225}, {\"State\": \"ME\", \"Year\": 2001, \"H_idx\": 316.51}, {\"State\": \"ME\", \"Year\": 2002, \"H_idx\": 347.94}, {\"State\": \"ME\", \"Year\": 2003, \"H_idx\": 379.9625}, {\"State\": \"ME\", \"Year\": 2004, \"H_idx\": 427.51}, {\"State\": \"ME\", \"Year\": 2005, \"H_idx\": 476.09}, {\"State\": \"ME\", \"Year\": 2006, \"H_idx\": 496.3775}, {\"State\": \"ME\", \"Year\": 2007, \"H_idx\": 503.6925}, {\"State\": \"ME\", \"Year\": 2008, \"H_idx\": 495.33}, {\"State\": \"ME\", \"Year\": 2009, \"H_idx\": 474.5625}, {\"State\": \"ME\", \"Year\": 2010, \"H_idx\": 458.175}, {\"State\": \"ME\", \"Year\": 2011, \"H_idx\": 449.61}, {\"State\": \"ME\", \"Year\": 2012, \"H_idx\": 443.925}, {\"State\": \"ME\", \"Year\": 2013, \"H_idx\": 446.3975}, {\"State\": \"ME\", \"Year\": 2014, \"H_idx\": 452.09}, {\"State\": \"ME\", \"Year\": 2015, \"H_idx\": 465.7325}, {\"State\": \"ME\", \"Year\": 2016, \"H_idx\": 483.435}, {\"State\": \"ME\", \"Year\": 2017, \"H_idx\": 506.095}, {\"State\": \"ME\", \"Year\": 2018, \"H_idx\": 532.9575}, {\"State\": \"ME\", \"Year\": 2019, \"H_idx\": 560.735}, {\"State\": \"ME\", \"Year\": 2020, \"H_idx\": 597.275}, {\"State\": \"ME\", \"Year\": 2021, \"H_idx\": 701.0925}, {\"State\": \"ME\", \"Year\": 2022, \"H_idx\": 832.85}, {\"State\": \"MI\", \"Year\": 1975, \"H_idx\": 62.12}, {\"State\": \"MI\", \"Year\": 1976, \"H_idx\": 64.2675}, {\"State\": \"MI\", \"Year\": 1977, \"H_idx\": 69.8675}, {\"State\": \"MI\", \"Year\": 1978, \"H_idx\": 81.2625}, {\"State\": \"MI\", \"Year\": 1979, \"H_idx\": 96.5275}, {\"State\": \"MI\", \"Year\": 1980, \"H_idx\": 101.64750000000001}, {\"State\": \"MI\", \"Year\": 1981, \"H_idx\": 104.60249999999999}, {\"State\": \"MI\", \"Year\": 1982, \"H_idx\": 96.64750000000001}, {\"State\": \"MI\", \"Year\": 1983, \"H_idx\": 96.55}, {\"State\": \"MI\", \"Year\": 1984, \"H_idx\": 97.3725}, {\"State\": \"MI\", \"Year\": 1985, \"H_idx\": 101.745}, {\"State\": \"MI\", \"Year\": 1986, \"H_idx\": 110.21000000000001}, {\"State\": \"MI\", \"Year\": 1987, \"H_idx\": 122.29249999999999}, {\"State\": \"MI\", \"Year\": 1988, \"H_idx\": 131.70749999999998}, {\"State\": \"MI\", \"Year\": 1989, \"H_idx\": 140.44}, {\"State\": \"MI\", \"Year\": 1990, \"H_idx\": 147.6375}, {\"State\": \"MI\", \"Year\": 1991, \"H_idx\": 153.3275}, {\"State\": \"MI\", \"Year\": 1992, \"H_idx\": 158.7775}, {\"State\": \"MI\", \"Year\": 1993, \"H_idx\": 163.1575}, {\"State\": \"MI\", \"Year\": 1994, \"H_idx\": 171.3825}, {\"State\": \"MI\", \"Year\": 1995, \"H_idx\": 183.55}, {\"State\": \"MI\", \"Year\": 1996, \"H_idx\": 197.9925}, {\"State\": \"MI\", \"Year\": 1997, \"H_idx\": 213.01749999999998}, {\"State\": \"MI\", \"Year\": 1998, \"H_idx\": 226.27499999999998}, {\"State\": \"MI\", \"Year\": 1999, \"H_idx\": 241.4425}, {\"State\": \"MI\", \"Year\": 2000, \"H_idx\": 258.905}, {\"State\": \"MI\", \"Year\": 2001, \"H_idx\": 274.025}, {\"State\": \"MI\", \"Year\": 2002, \"H_idx\": 285.96750000000003}, {\"State\": \"MI\", \"Year\": 2003, \"H_idx\": 295.7025}, {\"State\": \"MI\", \"Year\": 2004, \"H_idx\": 307.3125}, {\"State\": \"MI\", \"Year\": 2005, \"H_idx\": 317.485}, {\"State\": \"MI\", \"Year\": 2006, \"H_idx\": 312.6825}, {\"State\": \"MI\", \"Year\": 2007, \"H_idx\": 299.4775}, {\"State\": \"MI\", \"Year\": 2008, \"H_idx\": 276.195}, {\"State\": \"MI\", \"Year\": 2009, \"H_idx\": 256.1125}, {\"State\": \"MI\", \"Year\": 2010, \"H_idx\": 238.5925}, {\"State\": \"MI\", \"Year\": 2011, \"H_idx\": 229.38}, {\"State\": \"MI\", \"Year\": 2012, \"H_idx\": 229.7725}, {\"State\": \"MI\", \"Year\": 2013, \"H_idx\": 243.715}, {\"State\": \"MI\", \"Year\": 2014, \"H_idx\": 260.72}, {\"State\": \"MI\", \"Year\": 2015, \"H_idx\": 275.385}, {\"State\": \"MI\", \"Year\": 2016, \"H_idx\": 290.28499999999997}, {\"State\": \"MI\", \"Year\": 2017, \"H_idx\": 309.53499999999997}, {\"State\": \"MI\", \"Year\": 2018, \"H_idx\": 328.6675}, {\"State\": \"MI\", \"Year\": 2019, \"H_idx\": 346.08}, {\"State\": \"MI\", \"Year\": 2020, \"H_idx\": 363.71}, {\"State\": \"MI\", \"Year\": 2021, \"H_idx\": 411.0}, {\"State\": \"MI\", \"Year\": 2022, \"H_idx\": 469.28249999999997}, {\"State\": \"MN\", \"Year\": 1975, \"H_idx\": 57.4525}, {\"State\": \"MN\", \"Year\": 1976, \"H_idx\": 63.3525}, {\"State\": \"MN\", \"Year\": 1977, \"H_idx\": 70.985}, {\"State\": \"MN\", \"Year\": 1978, \"H_idx\": 83.0525}, {\"State\": \"MN\", \"Year\": 1979, \"H_idx\": 95.72}, {\"State\": \"MN\", \"Year\": 1980, \"H_idx\": 103.5975}, {\"State\": \"MN\", \"Year\": 1981, \"H_idx\": 102.94749999999999}, {\"State\": \"MN\", \"Year\": 1982, \"H_idx\": 96.5675}, {\"State\": \"MN\", \"Year\": 1983, \"H_idx\": 110.5975}, {\"State\": \"MN\", \"Year\": 1984, \"H_idx\": 114.62}, {\"State\": \"MN\", \"Year\": 1985, \"H_idx\": 117.605}, {\"State\": \"MN\", \"Year\": 1986, \"H_idx\": 122.4425}, {\"State\": \"MN\", \"Year\": 1987, \"H_idx\": 128.95749999999998}, {\"State\": \"MN\", \"Year\": 1988, \"H_idx\": 133.35}, {\"State\": \"MN\", \"Year\": 1989, \"H_idx\": 137.39499999999998}, {\"State\": \"MN\", \"Year\": 1990, \"H_idx\": 139.85750000000002}, {\"State\": \"MN\", \"Year\": 1991, \"H_idx\": 143.8725}, {\"State\": \"MN\", \"Year\": 1992, \"H_idx\": 148.655}, {\"State\": \"MN\", \"Year\": 1993, \"H_idx\": 154.22750000000002}, {\"State\": \"MN\", \"Year\": 1994, \"H_idx\": 160.635}, {\"State\": \"MN\", \"Year\": 1995, \"H_idx\": 168.32}, {\"State\": \"MN\", \"Year\": 1996, \"H_idx\": 176.805}, {\"State\": \"MN\", \"Year\": 1997, \"H_idx\": 185.435}, {\"State\": \"MN\", \"Year\": 1998, \"H_idx\": 196.3725}, {\"State\": \"MN\", \"Year\": 1999, \"H_idx\": 212.3375}, {\"State\": \"MN\", \"Year\": 2000, \"H_idx\": 234.62}, {\"State\": \"MN\", \"Year\": 2001, \"H_idx\": 258.84000000000003}, {\"State\": \"MN\", \"Year\": 2002, \"H_idx\": 282.16}, {\"State\": \"MN\", \"Year\": 2003, \"H_idx\": 303.1025}, {\"State\": \"MN\", \"Year\": 2004, \"H_idx\": 330.87}, {\"State\": \"MN\", \"Year\": 2005, \"H_idx\": 357.84749999999997}, {\"State\": \"MN\", \"Year\": 2006, \"H_idx\": 367.41999999999996}, {\"State\": \"MN\", \"Year\": 2007, \"H_idx\": 364.8175}, {\"State\": \"MN\", \"Year\": 2008, \"H_idx\": 346.6825}, {\"State\": \"MN\", \"Year\": 2009, \"H_idx\": 328.5875}, {\"State\": \"MN\", \"Year\": 2010, \"H_idx\": 311.695}, {\"State\": \"MN\", \"Year\": 2011, \"H_idx\": 295.955}, {\"State\": \"MN\", \"Year\": 2012, \"H_idx\": 294.5525}, {\"State\": \"MN\", \"Year\": 2013, \"H_idx\": 307.4775}, {\"State\": \"MN\", \"Year\": 2014, \"H_idx\": 322.03}, {\"State\": \"MN\", \"Year\": 2015, \"H_idx\": 335.18}, {\"State\": \"MN\", \"Year\": 2016, \"H_idx\": 350.985}, {\"State\": \"MN\", \"Year\": 2017, \"H_idx\": 371.35}, {\"State\": \"MN\", \"Year\": 2018, \"H_idx\": 391.695}, {\"State\": \"MN\", \"Year\": 2019, \"H_idx\": 408.985}, {\"State\": \"MN\", \"Year\": 2020, \"H_idx\": 427.7925}, {\"State\": \"MN\", \"Year\": 2021, \"H_idx\": 477.08}, {\"State\": \"MN\", \"Year\": 2022, \"H_idx\": 534.7825}, {\"State\": \"MO\", \"Year\": 1975, \"H_idx\": 67.4875}, {\"State\": \"MO\", \"Year\": 1976, \"H_idx\": 70.85}, {\"State\": \"MO\", \"Year\": 1977, \"H_idx\": 77.69749999999999}, {\"State\": \"MO\", \"Year\": 1978, \"H_idx\": 89.1425}, {\"State\": \"MO\", \"Year\": 1979, \"H_idx\": 99.41499999999999}, {\"State\": \"MO\", \"Year\": 1980, \"H_idx\": 105.4475}, {\"State\": \"MO\", \"Year\": 1981, \"H_idx\": 103.1525}, {\"State\": \"MO\", \"Year\": 1982, \"H_idx\": 103.1525}, {\"State\": \"MO\", \"Year\": 1983, \"H_idx\": 109.46000000000001}, {\"State\": \"MO\", \"Year\": 1984, \"H_idx\": 116.595}, {\"State\": \"MO\", \"Year\": 1985, \"H_idx\": 123.8875}, {\"State\": \"MO\", \"Year\": 1986, \"H_idx\": 130.695}, {\"State\": \"MO\", \"Year\": 1987, \"H_idx\": 138.98}, {\"State\": \"MO\", \"Year\": 1988, \"H_idx\": 142.7475}, {\"State\": \"MO\", \"Year\": 1989, \"H_idx\": 145.41750000000002}, {\"State\": \"MO\", \"Year\": 1990, \"H_idx\": 146.5125}, {\"State\": \"MO\", \"Year\": 1991, \"H_idx\": 148.52249999999998}, {\"State\": \"MO\", \"Year\": 1992, \"H_idx\": 152.0075}, {\"State\": \"MO\", \"Year\": 1993, \"H_idx\": 155.075}, {\"State\": \"MO\", \"Year\": 1994, \"H_idx\": 162.0625}, {\"State\": \"MO\", \"Year\": 1995, \"H_idx\": 169.3575}, {\"State\": \"MO\", \"Year\": 1996, \"H_idx\": 176.57750000000001}, {\"State\": \"MO\", \"Year\": 1997, \"H_idx\": 183.81}, {\"State\": \"MO\", \"Year\": 1998, \"H_idx\": 191.3375}, {\"State\": \"MO\", \"Year\": 1999, \"H_idx\": 200.5725}, {\"State\": \"MO\", \"Year\": 2000, \"H_idx\": 212.1525}, {\"State\": \"MO\", \"Year\": 2001, \"H_idx\": 224.765}, {\"State\": \"MO\", \"Year\": 2002, \"H_idx\": 237.1225}, {\"State\": \"MO\", \"Year\": 2003, \"H_idx\": 247.8575}, {\"State\": \"MO\", \"Year\": 2004, \"H_idx\": 263.465}, {\"State\": \"MO\", \"Year\": 2005, \"H_idx\": 280.8725}, {\"State\": \"MO\", \"Year\": 2006, \"H_idx\": 292.05}, {\"State\": \"MO\", \"Year\": 2007, \"H_idx\": 297.29499999999996}, {\"State\": \"MO\", \"Year\": 2008, \"H_idx\": 292.59}, {\"State\": \"MO\", \"Year\": 2009, \"H_idx\": 284.8125}, {\"State\": \"MO\", \"Year\": 2010, \"H_idx\": 276.81}, {\"State\": \"MO\", \"Year\": 2011, \"H_idx\": 268.53249999999997}, {\"State\": \"MO\", \"Year\": 2012, \"H_idx\": 267.5875}, {\"State\": \"MO\", \"Year\": 2013, \"H_idx\": 268.195}, {\"State\": \"MO\", \"Year\": 2014, \"H_idx\": 274.01}, {\"State\": \"MO\", \"Year\": 2015, \"H_idx\": 284.24}, {\"State\": \"MO\", \"Year\": 2016, \"H_idx\": 296.3575}, {\"State\": \"MO\", \"Year\": 2017, \"H_idx\": 309.165}, {\"State\": \"MO\", \"Year\": 2018, \"H_idx\": 325.0775}, {\"State\": \"MO\", \"Year\": 2019, \"H_idx\": 340.685}, {\"State\": \"MO\", \"Year\": 2020, \"H_idx\": 358.56}, {\"State\": \"MO\", \"Year\": 2021, \"H_idx\": 404.3175}, {\"State\": \"MO\", \"Year\": 2022, \"H_idx\": 468.515}, {\"State\": \"MS\", \"Year\": 1975, \"H_idx\": 73.1825}, {\"State\": \"MS\", \"Year\": 1976, \"H_idx\": 75.71000000000001}, {\"State\": \"MS\", \"Year\": 1977, \"H_idx\": 79.23}, {\"State\": \"MS\", \"Year\": 1978, \"H_idx\": 89.2525}, {\"State\": \"MS\", \"Year\": 1979, \"H_idx\": 99.88}, {\"State\": \"MS\", \"Year\": 1980, \"H_idx\": 101.265}, {\"State\": \"MS\", \"Year\": 1981, \"H_idx\": 102.495}, {\"State\": \"MS\", \"Year\": 1982, \"H_idx\": 105.99}, {\"State\": \"MS\", \"Year\": 1983, \"H_idx\": 112.645}, {\"State\": \"MS\", \"Year\": 1984, \"H_idx\": 115.07}, {\"State\": \"MS\", \"Year\": 1985, \"H_idx\": 121.7825}, {\"State\": \"MS\", \"Year\": 1986, \"H_idx\": 124.495}, {\"State\": \"MS\", \"Year\": 1987, \"H_idx\": 124.9025}, {\"State\": \"MS\", \"Year\": 1988, \"H_idx\": 123.0025}, {\"State\": \"MS\", \"Year\": 1989, \"H_idx\": 123.33500000000001}, {\"State\": \"MS\", \"Year\": 1990, \"H_idx\": 125.21000000000001}, {\"State\": \"MS\", \"Year\": 1991, \"H_idx\": 127.255}, {\"State\": \"MS\", \"Year\": 1992, \"H_idx\": 132.02499999999998}, {\"State\": \"MS\", \"Year\": 1993, \"H_idx\": 136.14749999999998}, {\"State\": \"MS\", \"Year\": 1994, \"H_idx\": 143.38}, {\"State\": \"MS\", \"Year\": 1995, \"H_idx\": 150.38}, {\"State\": \"MS\", \"Year\": 1996, \"H_idx\": 156.845}, {\"State\": \"MS\", \"Year\": 1997, \"H_idx\": 162.4625}, {\"State\": \"MS\", \"Year\": 1998, \"H_idx\": 170.9625}, {\"State\": \"MS\", \"Year\": 1999, \"H_idx\": 178.1275}, {\"State\": \"MS\", \"Year\": 2000, \"H_idx\": 183.59}, {\"State\": \"MS\", \"Year\": 2001, \"H_idx\": 193.2525}, {\"State\": \"MS\", \"Year\": 2002, \"H_idx\": 198.2075}, {\"State\": \"MS\", \"Year\": 2003, \"H_idx\": 204.7125}, {\"State\": \"MS\", \"Year\": 2004, \"H_idx\": 212.6875}, {\"State\": \"MS\", \"Year\": 2005, \"H_idx\": 224.975}, {\"State\": \"MS\", \"Year\": 2006, \"H_idx\": 244.6675}, {\"State\": \"MS\", \"Year\": 2007, \"H_idx\": 256.85}, {\"State\": \"MS\", \"Year\": 2008, \"H_idx\": 256.475}, {\"State\": \"MS\", \"Year\": 2009, \"H_idx\": 251.68}, {\"State\": \"MS\", \"Year\": 2010, \"H_idx\": 243.4575}, {\"State\": \"MS\", \"Year\": 2011, \"H_idx\": 239.05}, {\"State\": \"MS\", \"Year\": 2012, \"H_idx\": 238.4425}, {\"State\": \"MS\", \"Year\": 2013, \"H_idx\": 237.98250000000002}, {\"State\": \"MS\", \"Year\": 2014, \"H_idx\": 241.34}, {\"State\": \"MS\", \"Year\": 2015, \"H_idx\": 248.5325}, {\"State\": \"MS\", \"Year\": 2016, \"H_idx\": 254.9525}, {\"State\": \"MS\", \"Year\": 2017, \"H_idx\": 260.885}, {\"State\": \"MS\", \"Year\": 2018, \"H_idx\": 266.9225}, {\"State\": \"MS\", \"Year\": 2019, \"H_idx\": 276.85}, {\"State\": \"MS\", \"Year\": 2020, \"H_idx\": 288.1325}, {\"State\": \"MS\", \"Year\": 2021, \"H_idx\": 317.3675}, {\"State\": \"MS\", \"Year\": 2022, \"H_idx\": 365.7625}, {\"State\": \"MT\", \"Year\": 1975, \"H_idx\": 57.8975}, {\"State\": \"MT\", \"Year\": 1976, \"H_idx\": 63.599999999999994}, {\"State\": \"MT\", \"Year\": 1977, \"H_idx\": 73.4975}, {\"State\": \"MT\", \"Year\": 1978, \"H_idx\": 90.58}, {\"State\": \"MT\", \"Year\": 1979, \"H_idx\": 98.8075}, {\"State\": \"MT\", \"Year\": 1980, \"H_idx\": 101.13499999999999}, {\"State\": \"MT\", \"Year\": 1981, \"H_idx\": 102.8}, {\"State\": \"MT\", \"Year\": 1982, \"H_idx\": 107.985}, {\"State\": \"MT\", \"Year\": 1983, \"H_idx\": 106.97}, {\"State\": \"MT\", \"Year\": 1984, \"H_idx\": 117.795}, {\"State\": \"MT\", \"Year\": 1985, \"H_idx\": 115.015}, {\"State\": \"MT\", \"Year\": 1986, \"H_idx\": 115.5825}, {\"State\": \"MT\", \"Year\": 1987, \"H_idx\": 109.725}, {\"State\": \"MT\", \"Year\": 1988, \"H_idx\": 111.655}, {\"State\": \"MT\", \"Year\": 1989, \"H_idx\": 113.48}, {\"State\": \"MT\", \"Year\": 1990, \"H_idx\": 118.575}, {\"State\": \"MT\", \"Year\": 1991, \"H_idx\": 125.025}, {\"State\": \"MT\", \"Year\": 1992, \"H_idx\": 137.04500000000002}, {\"State\": \"MT\", \"Year\": 1993, \"H_idx\": 150.9475}, {\"State\": \"MT\", \"Year\": 1994, \"H_idx\": 166.8375}, {\"State\": \"MT\", \"Year\": 1995, \"H_idx\": 178.2175}, {\"State\": \"MT\", \"Year\": 1996, \"H_idx\": 187.34}, {\"State\": \"MT\", \"Year\": 1997, \"H_idx\": 192.865}, {\"State\": \"MT\", \"Year\": 1998, \"H_idx\": 199.525}, {\"State\": \"MT\", \"Year\": 1999, \"H_idx\": 204.55}, {\"State\": \"MT\", \"Year\": 2000, \"H_idx\": 212.255}, {\"State\": \"MT\", \"Year\": 2001, \"H_idx\": 224.2475}, {\"State\": \"MT\", \"Year\": 2002, \"H_idx\": 236.5075}, {\"State\": \"MT\", \"Year\": 2003, \"H_idx\": 251.68}, {\"State\": \"MT\", \"Year\": 2004, \"H_idx\": 276.4475}, {\"State\": \"MT\", \"Year\": 2005, \"H_idx\": 310.88}, {\"State\": \"MT\", \"Year\": 2006, \"H_idx\": 346.545}, {\"State\": \"MT\", \"Year\": 2007, \"H_idx\": 371.4225}, {\"State\": \"MT\", \"Year\": 2008, \"H_idx\": 376.35749999999996}, {\"State\": \"MT\", \"Year\": 2009, \"H_idx\": 368.4925}, {\"State\": \"MT\", \"Year\": 2010, \"H_idx\": 353.385}, {\"State\": \"MT\", \"Year\": 2011, \"H_idx\": 343.2525}, {\"State\": \"MT\", \"Year\": 2012, \"H_idx\": 349.0675}, {\"State\": \"MT\", \"Year\": 2013, \"H_idx\": 361.8525}, {\"State\": \"MT\", \"Year\": 2014, \"H_idx\": 376.1675}, {\"State\": \"MT\", \"Year\": 2015, \"H_idx\": 392.0825}, {\"State\": \"MT\", \"Year\": 2016, \"H_idx\": 407.14250000000004}, {\"State\": \"MT\", \"Year\": 2017, \"H_idx\": 427.5875}, {\"State\": \"MT\", \"Year\": 2018, \"H_idx\": 452.09}, {\"State\": \"MT\", \"Year\": 2019, \"H_idx\": 475.3725}, {\"State\": \"MT\", \"Year\": 2020, \"H_idx\": 504.515}, {\"State\": \"MT\", \"Year\": 2021, \"H_idx\": 602.035}, {\"State\": \"MT\", \"Year\": 2022, \"H_idx\": 730.98}, {\"State\": \"NC\", \"Year\": 1975, \"H_idx\": 68.2025}, {\"State\": \"NC\", \"Year\": 1976, \"H_idx\": 69.995}, {\"State\": \"NC\", \"Year\": 1977, \"H_idx\": 76.8175}, {\"State\": \"NC\", \"Year\": 1978, \"H_idx\": 85.03}, {\"State\": \"NC\", \"Year\": 1979, \"H_idx\": 93.555}, {\"State\": \"NC\", \"Year\": 1980, \"H_idx\": 100.66}, {\"State\": \"NC\", \"Year\": 1981, \"H_idx\": 105.715}, {\"State\": \"NC\", \"Year\": 1982, \"H_idx\": 109.01}, {\"State\": \"NC\", \"Year\": 1983, \"H_idx\": 113.5275}, {\"State\": \"NC\", \"Year\": 1984, \"H_idx\": 121.8775}, {\"State\": \"NC\", \"Year\": 1985, \"H_idx\": 131.57}, {\"State\": \"NC\", \"Year\": 1986, \"H_idx\": 139.77249999999998}, {\"State\": \"NC\", \"Year\": 1987, \"H_idx\": 148.3725}, {\"State\": \"NC\", \"Year\": 1988, \"H_idx\": 154.5725}, {\"State\": \"NC\", \"Year\": 1989, \"H_idx\": 159.03}, {\"State\": \"NC\", \"Year\": 1990, \"H_idx\": 162.3225}, {\"State\": \"NC\", \"Year\": 1991, \"H_idx\": 165.7175}, {\"State\": \"NC\", \"Year\": 1992, \"H_idx\": 170.5075}, {\"State\": \"NC\", \"Year\": 1993, \"H_idx\": 175.0425}, {\"State\": \"NC\", \"Year\": 1994, \"H_idx\": 182.9125}, {\"State\": \"NC\", \"Year\": 1995, \"H_idx\": 192.0625}, {\"State\": \"NC\", \"Year\": 1996, \"H_idx\": 200.99}, {\"State\": \"NC\", \"Year\": 1997, \"H_idx\": 210.49}, {\"State\": \"NC\", \"Year\": 1998, \"H_idx\": 220.8725}, {\"State\": \"NC\", \"Year\": 1999, \"H_idx\": 229.1}, {\"State\": \"NC\", \"Year\": 2000, \"H_idx\": 237.58249999999998}, {\"State\": \"NC\", \"Year\": 2001, \"H_idx\": 250.2475}, {\"State\": \"NC\", \"Year\": 2002, \"H_idx\": 258.075}, {\"State\": \"NC\", \"Year\": 2003, \"H_idx\": 266.1575}, {\"State\": \"NC\", \"Year\": 2004, \"H_idx\": 276.61}, {\"State\": \"NC\", \"Year\": 2005, \"H_idx\": 294.435}, {\"State\": \"NC\", \"Year\": 2006, \"H_idx\": 315.6225}, {\"State\": \"NC\", \"Year\": 2007, \"H_idx\": 332.435}, {\"State\": \"NC\", \"Year\": 2008, \"H_idx\": 336.1025}, {\"State\": \"NC\", \"Year\": 2009, \"H_idx\": 328.4875}, {\"State\": \"NC\", \"Year\": 2010, \"H_idx\": 313.6875}, {\"State\": \"NC\", \"Year\": 2011, \"H_idx\": 302.16}, {\"State\": \"NC\", \"Year\": 2012, \"H_idx\": 297.115}, {\"State\": \"NC\", \"Year\": 2013, \"H_idx\": 299.37}, {\"State\": \"NC\", \"Year\": 2014, \"H_idx\": 305.9225}, {\"State\": \"NC\", \"Year\": 2015, \"H_idx\": 318.985}, {\"State\": \"NC\", \"Year\": 2016, \"H_idx\": 334.6575}, {\"State\": \"NC\", \"Year\": 2017, \"H_idx\": 352.31}, {\"State\": \"NC\", \"Year\": 2018, \"H_idx\": 374.39}, {\"State\": \"NC\", \"Year\": 2019, \"H_idx\": 395.4875}, {\"State\": \"NC\", \"Year\": 2020, \"H_idx\": 418.3825}, {\"State\": \"NC\", \"Year\": 2021, \"H_idx\": 482.6875}, {\"State\": \"NC\", \"Year\": 2022, \"H_idx\": 591.2975}, {\"State\": \"ND\", \"Year\": 1975, \"H_idx\": 64.0175}, {\"State\": \"ND\", \"Year\": 1976, \"H_idx\": 72.7}, {\"State\": \"ND\", \"Year\": 1977, \"H_idx\": 80.9725}, {\"State\": \"ND\", \"Year\": 1978, \"H_idx\": 86.4075}, {\"State\": \"ND\", \"Year\": 1979, \"H_idx\": 98.7075}, {\"State\": \"ND\", \"Year\": 1980, \"H_idx\": 100.21000000000001}, {\"State\": \"ND\", \"Year\": 1981, \"H_idx\": 107.2875}, {\"State\": \"ND\", \"Year\": 1982, \"H_idx\": 88.5625}, {\"State\": \"ND\", \"Year\": 1983, \"H_idx\": 100.4175}, {\"State\": \"ND\", \"Year\": 1984, \"H_idx\": 113.515}, {\"State\": \"ND\", \"Year\": 1985, \"H_idx\": 110.26}, {\"State\": \"ND\", \"Year\": 1986, \"H_idx\": 111.25}, {\"State\": \"ND\", \"Year\": 1987, \"H_idx\": 110.935}, {\"State\": \"ND\", \"Year\": 1988, \"H_idx\": 107.7075}, {\"State\": \"ND\", \"Year\": 1989, \"H_idx\": 109.605}, {\"State\": \"ND\", \"Year\": 1990, \"H_idx\": 111.0725}, {\"State\": \"ND\", \"Year\": 1991, \"H_idx\": 114.1175}, {\"State\": \"ND\", \"Year\": 1992, \"H_idx\": 118.75}, {\"State\": \"ND\", \"Year\": 1993, \"H_idx\": 124.47749999999999}, {\"State\": \"ND\", \"Year\": 1994, \"H_idx\": 132.195}, {\"State\": \"ND\", \"Year\": 1995, \"H_idx\": 138.675}, {\"State\": \"ND\", \"Year\": 1996, \"H_idx\": 144.0525}, {\"State\": \"ND\", \"Year\": 1997, \"H_idx\": 147.54}, {\"State\": \"ND\", \"Year\": 1998, \"H_idx\": 155.055}, {\"State\": \"ND\", \"Year\": 1999, \"H_idx\": 157.5125}, {\"State\": \"ND\", \"Year\": 2000, \"H_idx\": 160.60750000000002}, {\"State\": \"ND\", \"Year\": 2001, \"H_idx\": 168.7075}, {\"State\": \"ND\", \"Year\": 2002, \"H_idx\": 176.20749999999998}, {\"State\": \"ND\", \"Year\": 2003, \"H_idx\": 185.3875}, {\"State\": \"ND\", \"Year\": 2004, \"H_idx\": 198.375}, {\"State\": \"ND\", \"Year\": 2005, \"H_idx\": 214.445}, {\"State\": \"ND\", \"Year\": 2006, \"H_idx\": 227.875}, {\"State\": \"ND\", \"Year\": 2007, \"H_idx\": 239.14499999999998}, {\"State\": \"ND\", \"Year\": 2008, \"H_idx\": 246.70499999999998}, {\"State\": \"ND\", \"Year\": 2009, \"H_idx\": 250.4275}, {\"State\": \"ND\", \"Year\": 2010, \"H_idx\": 253.45}, {\"State\": \"ND\", \"Year\": 2011, \"H_idx\": 262.805}, {\"State\": \"ND\", \"Year\": 2012, \"H_idx\": 278.7875}, {\"State\": \"ND\", \"Year\": 2013, \"H_idx\": 304.85}, {\"State\": \"ND\", \"Year\": 2014, \"H_idx\": 326.8}, {\"State\": \"ND\", \"Year\": 2015, \"H_idx\": 344.4625}, {\"State\": \"ND\", \"Year\": 2016, \"H_idx\": 352.725}, {\"State\": \"ND\", \"Year\": 2017, \"H_idx\": 357.535}, {\"State\": \"ND\", \"Year\": 2018, \"H_idx\": 361.255}, {\"State\": \"ND\", \"Year\": 2019, \"H_idx\": 370.9125}, {\"State\": \"ND\", \"Year\": 2020, \"H_idx\": 379.7075}, {\"State\": \"ND\", \"Year\": 2021, \"H_idx\": 403.6775}, {\"State\": \"ND\", \"Year\": 2022, \"H_idx\": 447.9}, {\"State\": \"NE\", \"Year\": 1975, \"H_idx\": 63.8375}, {\"State\": \"NE\", \"Year\": 1976, \"H_idx\": 68.34}, {\"State\": \"NE\", \"Year\": 1977, \"H_idx\": 76.125}, {\"State\": \"NE\", \"Year\": 1978, \"H_idx\": 84.565}, {\"State\": \"NE\", \"Year\": 1979, \"H_idx\": 95.635}, {\"State\": \"NE\", \"Year\": 1980, \"H_idx\": 102.7225}, {\"State\": \"NE\", \"Year\": 1981, \"H_idx\": 101.39750000000001}, {\"State\": \"NE\", \"Year\": 1982, \"H_idx\": 107.86}, {\"State\": \"NE\", \"Year\": 1983, \"H_idx\": 110.4025}, {\"State\": \"NE\", \"Year\": 1984, \"H_idx\": 111.75}, {\"State\": \"NE\", \"Year\": 1985, \"H_idx\": 112.975}, {\"State\": \"NE\", \"Year\": 1986, \"H_idx\": 115.94749999999999}, {\"State\": \"NE\", \"Year\": 1987, \"H_idx\": 116.525}, {\"State\": \"NE\", \"Year\": 1988, \"H_idx\": 117.94}, {\"State\": \"NE\", \"Year\": 1989, \"H_idx\": 121.22}, {\"State\": \"NE\", \"Year\": 1990, \"H_idx\": 125.845}, {\"State\": \"NE\", \"Year\": 1991, \"H_idx\": 130.0375}, {\"State\": \"NE\", \"Year\": 1992, \"H_idx\": 135.9225}, {\"State\": \"NE\", \"Year\": 1993, \"H_idx\": 142.35500000000002}, {\"State\": \"NE\", \"Year\": 1994, \"H_idx\": 152.8025}, {\"State\": \"NE\", \"Year\": 1995, \"H_idx\": 161.3875}, {\"State\": \"NE\", \"Year\": 1996, \"H_idx\": 170.125}, {\"State\": \"NE\", \"Year\": 1997, \"H_idx\": 178.77}, {\"State\": \"NE\", \"Year\": 1998, \"H_idx\": 186.95250000000001}, {\"State\": \"NE\", \"Year\": 1999, \"H_idx\": 195.1175}, {\"State\": \"NE\", \"Year\": 2000, \"H_idx\": 201.925}, {\"State\": \"NE\", \"Year\": 2001, \"H_idx\": 210.37}, {\"State\": \"NE\", \"Year\": 2002, \"H_idx\": 217.23}, {\"State\": \"NE\", \"Year\": 2003, \"H_idx\": 223.88}, {\"State\": \"NE\", \"Year\": 2004, \"H_idx\": 234.5375}, {\"State\": \"NE\", \"Year\": 2005, \"H_idx\": 244.91750000000002}, {\"State\": \"NE\", \"Year\": 2006, \"H_idx\": 249.4625}, {\"State\": \"NE\", \"Year\": 2007, \"H_idx\": 252.4625}, {\"State\": \"NE\", \"Year\": 2008, \"H_idx\": 251.715}, {\"State\": \"NE\", \"Year\": 2009, \"H_idx\": 250.965}, {\"State\": \"NE\", \"Year\": 2010, \"H_idx\": 249.1625}, {\"State\": \"NE\", \"Year\": 2011, \"H_idx\": 248.55}, {\"State\": \"NE\", \"Year\": 2012, \"H_idx\": 251.6175}, {\"State\": \"NE\", \"Year\": 2013, \"H_idx\": 257.8725}, {\"State\": \"NE\", \"Year\": 2014, \"H_idx\": 266.5825}, {\"State\": \"NE\", \"Year\": 2015, \"H_idx\": 278.4075}, {\"State\": \"NE\", \"Year\": 2016, \"H_idx\": 289.7425}, {\"State\": \"NE\", \"Year\": 2017, \"H_idx\": 306.6625}, {\"State\": \"NE\", \"Year\": 2018, \"H_idx\": 322.7925}, {\"State\": \"NE\", \"Year\": 2019, \"H_idx\": 339.255}, {\"State\": \"NE\", \"Year\": 2020, \"H_idx\": 354.385}, {\"State\": \"NE\", \"Year\": 2021, \"H_idx\": 397.2375}, {\"State\": \"NE\", \"Year\": 2022, \"H_idx\": 456.145}, {\"State\": \"NH\", \"Year\": 1975, \"H_idx\": 62.387499999999996}, {\"State\": \"NH\", \"Year\": 1976, \"H_idx\": 68.4675}, {\"State\": \"NH\", \"Year\": 1977, \"H_idx\": 70.67999999999999}, {\"State\": \"NH\", \"Year\": 1978, \"H_idx\": 79.77}, {\"State\": \"NH\", \"Year\": 1979, \"H_idx\": 93.7425}, {\"State\": \"NH\", \"Year\": 1980, \"H_idx\": 99.6925}, {\"State\": \"NH\", \"Year\": 1981, \"H_idx\": 101.1125}, {\"State\": \"NH\", \"Year\": 1982, \"H_idx\": 106.495}, {\"State\": \"NH\", \"Year\": 1983, \"H_idx\": 113.7475}, {\"State\": \"NH\", \"Year\": 1984, \"H_idx\": 130.0925}, {\"State\": \"NH\", \"Year\": 1985, \"H_idx\": 155.8375}, {\"State\": \"NH\", \"Year\": 1986, \"H_idx\": 191.48}, {\"State\": \"NH\", \"Year\": 1987, \"H_idx\": 220.5425}, {\"State\": \"NH\", \"Year\": 1988, \"H_idx\": 228.3675}, {\"State\": \"NH\", \"Year\": 1989, \"H_idx\": 228.86}, {\"State\": \"NH\", \"Year\": 1990, \"H_idx\": 214.1825}, {\"State\": \"NH\", \"Year\": 1991, \"H_idx\": 196.9025}, {\"State\": \"NH\", \"Year\": 1992, \"H_idx\": 190.7775}, {\"State\": \"NH\", \"Year\": 1993, \"H_idx\": 189.58499999999998}, {\"State\": \"NH\", \"Year\": 1994, \"H_idx\": 187.2075}, {\"State\": \"NH\", \"Year\": 1995, \"H_idx\": 189.8025}, {\"State\": \"NH\", \"Year\": 1996, \"H_idx\": 196.195}, {\"State\": \"NH\", \"Year\": 1997, \"H_idx\": 203.495}, {\"State\": \"NH\", \"Year\": 1998, \"H_idx\": 216.685}, {\"State\": \"NH\", \"Year\": 1999, \"H_idx\": 235.5}, {\"State\": \"NH\", \"Year\": 2000, \"H_idx\": 266.94}, {\"State\": \"NH\", \"Year\": 2001, \"H_idx\": 299.76}, {\"State\": \"NH\", \"Year\": 2002, \"H_idx\": 335.5375}, {\"State\": \"NH\", \"Year\": 2003, \"H_idx\": 367.1975}, {\"State\": \"NH\", \"Year\": 2004, \"H_idx\": 408.57}, {\"State\": \"NH\", \"Year\": 2005, \"H_idx\": 451.9275}, {\"State\": \"NH\", \"Year\": 2006, \"H_idx\": 465.3675}, {\"State\": \"NH\", \"Year\": 2007, \"H_idx\": 458.515}, {\"State\": \"NH\", \"Year\": 2008, \"H_idx\": 437.08}, {\"State\": \"NH\", \"Year\": 2009, \"H_idx\": 410.3025}, {\"State\": \"NH\", \"Year\": 2010, \"H_idx\": 394.7025}, {\"State\": \"NH\", \"Year\": 2011, \"H_idx\": 382.075}, {\"State\": \"NH\", \"Year\": 2012, \"H_idx\": 376.285}, {\"State\": \"NH\", \"Year\": 2013, \"H_idx\": 379.1875}, {\"State\": \"NH\", \"Year\": 2014, \"H_idx\": 391.0675}, {\"State\": \"NH\", \"Year\": 2015, \"H_idx\": 406.7975}, {\"State\": \"NH\", \"Year\": 2016, \"H_idx\": 423.0375}, {\"State\": \"NH\", \"Year\": 2017, \"H_idx\": 444.8925}, {\"State\": \"NH\", \"Year\": 2018, \"H_idx\": 471.41499999999996}, {\"State\": \"NH\", \"Year\": 2019, \"H_idx\": 495.48}, {\"State\": \"NH\", \"Year\": 2020, \"H_idx\": 528.0625}, {\"State\": \"NH\", \"Year\": 2021, \"H_idx\": 612.2}, {\"State\": \"NH\", \"Year\": 2022, \"H_idx\": 716.69}, {\"State\": \"NJ\", \"Year\": 1975, \"H_idx\": 61.64}, {\"State\": \"NJ\", \"Year\": 1976, \"H_idx\": 63.6625}, {\"State\": \"NJ\", \"Year\": 1977, \"H_idx\": 66.845}, {\"State\": \"NJ\", \"Year\": 1978, \"H_idx\": 75.10249999999999}, {\"State\": \"NJ\", \"Year\": 1979, \"H_idx\": 89.47}, {\"State\": \"NJ\", \"Year\": 1980, \"H_idx\": 101.515}, {\"State\": \"NJ\", \"Year\": 1981, \"H_idx\": 105.9075}, {\"State\": \"NJ\", \"Year\": 1982, \"H_idx\": 108.28}, {\"State\": \"NJ\", \"Year\": 1983, \"H_idx\": 115.60249999999999}, {\"State\": \"NJ\", \"Year\": 1984, \"H_idx\": 131.79500000000002}, {\"State\": \"NJ\", \"Year\": 1985, \"H_idx\": 151.89499999999998}, {\"State\": \"NJ\", \"Year\": 1986, \"H_idx\": 183.60500000000002}, {\"State\": \"NJ\", \"Year\": 1987, \"H_idx\": 224.185}, {\"State\": \"NJ\", \"Year\": 1988, \"H_idx\": 245.10750000000002}, {\"State\": \"NJ\", \"Year\": 1989, \"H_idx\": 246.32}, {\"State\": \"NJ\", \"Year\": 1990, \"H_idx\": 237.7525}, {\"State\": \"NJ\", \"Year\": 1991, \"H_idx\": 229.5475}, {\"State\": \"NJ\", \"Year\": 1992, \"H_idx\": 232.125}, {\"State\": \"NJ\", \"Year\": 1993, \"H_idx\": 235.3325}, {\"State\": \"NJ\", \"Year\": 1994, \"H_idx\": 234.38}, {\"State\": \"NJ\", \"Year\": 1995, \"H_idx\": 234.58}, {\"State\": \"NJ\", \"Year\": 1996, \"H_idx\": 239.0675}, {\"State\": \"NJ\", \"Year\": 1997, \"H_idx\": 242.68}, {\"State\": \"NJ\", \"Year\": 1998, \"H_idx\": 253.0325}, {\"State\": \"NJ\", \"Year\": 1999, \"H_idx\": 265.775}, {\"State\": \"NJ\", \"Year\": 2000, \"H_idx\": 289.5575}, {\"State\": \"NJ\", \"Year\": 2001, \"H_idx\": 318.22249999999997}, {\"State\": \"NJ\", \"Year\": 2002, \"H_idx\": 356.72749999999996}, {\"State\": \"NJ\", \"Year\": 2003, \"H_idx\": 394.8325}, {\"State\": \"NJ\", \"Year\": 2004, \"H_idx\": 453.90999999999997}, {\"State\": \"NJ\", \"Year\": 2005, \"H_idx\": 525.3975}, {\"State\": \"NJ\", \"Year\": 2006, \"H_idx\": 570.91}, {\"State\": \"NJ\", \"Year\": 2007, \"H_idx\": 570.3875}, {\"State\": \"NJ\", \"Year\": 2008, \"H_idx\": 539.2075}, {\"State\": \"NJ\", \"Year\": 2009, \"H_idx\": 501.905}, {\"State\": \"NJ\", \"Year\": 2010, \"H_idx\": 484.4375}, {\"State\": \"NJ\", \"Year\": 2011, \"H_idx\": 465.1225}, {\"State\": \"NJ\", \"Year\": 2012, \"H_idx\": 452.7475}, {\"State\": \"NJ\", \"Year\": 2013, \"H_idx\": 454.2025}, {\"State\": \"NJ\", \"Year\": 2014, \"H_idx\": 464.27}, {\"State\": \"NJ\", \"Year\": 2015, \"H_idx\": 476.5725}, {\"State\": \"NJ\", \"Year\": 2016, \"H_idx\": 488.545}, {\"State\": \"NJ\", \"Year\": 2017, \"H_idx\": 498.27}, {\"State\": \"NJ\", \"Year\": 2018, \"H_idx\": 513.0074999999999}, {\"State\": \"NJ\", \"Year\": 2019, \"H_idx\": 531.3425}, {\"State\": \"NJ\", \"Year\": 2020, \"H_idx\": 556.4875}, {\"State\": \"NJ\", \"Year\": 2021, \"H_idx\": 626.6775}, {\"State\": \"NJ\", \"Year\": 2022, \"H_idx\": 727.875}, {\"State\": \"NM\", \"Year\": 1975, \"H_idx\": 57.745}, {\"State\": \"NM\", \"Year\": 1976, \"H_idx\": 62.675}, {\"State\": \"NM\", \"Year\": 1977, \"H_idx\": 72.4125}, {\"State\": \"NM\", \"Year\": 1978, \"H_idx\": 80.0975}, {\"State\": \"NM\", \"Year\": 1979, \"H_idx\": 92.565}, {\"State\": \"NM\", \"Year\": 1980, \"H_idx\": 100.6175}, {\"State\": \"NM\", \"Year\": 1981, \"H_idx\": 111.0875}, {\"State\": \"NM\", \"Year\": 1982, \"H_idx\": 118.9575}, {\"State\": \"NM\", \"Year\": 1983, \"H_idx\": 124.75999999999999}, {\"State\": \"NM\", \"Year\": 1984, \"H_idx\": 124.31}, {\"State\": \"NM\", \"Year\": 1985, \"H_idx\": 127.32499999999999}, {\"State\": \"NM\", \"Year\": 1986, \"H_idx\": 132.055}, {\"State\": \"NM\", \"Year\": 1987, \"H_idx\": 132.8425}, {\"State\": \"NM\", \"Year\": 1988, \"H_idx\": 130.51}, {\"State\": \"NM\", \"Year\": 1989, \"H_idx\": 132.4425}, {\"State\": \"NM\", \"Year\": 1990, \"H_idx\": 133.7775}, {\"State\": \"NM\", \"Year\": 1991, \"H_idx\": 138.1225}, {\"State\": \"NM\", \"Year\": 1992, \"H_idx\": 145.6025}, {\"State\": \"NM\", \"Year\": 1993, \"H_idx\": 154.8175}, {\"State\": \"NM\", \"Year\": 1994, \"H_idx\": 170.5025}, {\"State\": \"NM\", \"Year\": 1995, \"H_idx\": 182.20499999999998}, {\"State\": \"NM\", \"Year\": 1996, \"H_idx\": 187.0575}, {\"State\": \"NM\", \"Year\": 1997, \"H_idx\": 190.75}, {\"State\": \"NM\", \"Year\": 1998, \"H_idx\": 195.3475}, {\"State\": \"NM\", \"Year\": 1999, \"H_idx\": 197.665}, {\"State\": \"NM\", \"Year\": 2000, \"H_idx\": 199.98}, {\"State\": \"NM\", \"Year\": 2001, \"H_idx\": 208.6725}, {\"State\": \"NM\", \"Year\": 2002, \"H_idx\": 216.3075}, {\"State\": \"NM\", \"Year\": 2003, \"H_idx\": 227.3525}, {\"State\": \"NM\", \"Year\": 2004, \"H_idx\": 243.7475}, {\"State\": \"NM\", \"Year\": 2005, \"H_idx\": 272.75}, {\"State\": \"NM\", \"Year\": 2006, \"H_idx\": 309.055}, {\"State\": \"NM\", \"Year\": 2007, \"H_idx\": 328.4575}, {\"State\": \"NM\", \"Year\": 2008, \"H_idx\": 324.43}, {\"State\": \"NM\", \"Year\": 2009, \"H_idx\": 311.5875}, {\"State\": \"NM\", \"Year\": 2010, \"H_idx\": 299.8875}, {\"State\": \"NM\", \"Year\": 2011, \"H_idx\": 286.4575}, {\"State\": \"NM\", \"Year\": 2012, \"H_idx\": 281.2625}, {\"State\": \"NM\", \"Year\": 2013, \"H_idx\": 283.45}, {\"State\": \"NM\", \"Year\": 2014, \"H_idx\": 285.95}, {\"State\": \"NM\", \"Year\": 2015, \"H_idx\": 291.635}, {\"State\": \"NM\", \"Year\": 2016, \"H_idx\": 300.15}, {\"State\": \"NM\", \"Year\": 2017, \"H_idx\": 309.4825}, {\"State\": \"NM\", \"Year\": 2018, \"H_idx\": 321.0625}, {\"State\": \"NM\", \"Year\": 2019, \"H_idx\": 336.9275}, {\"State\": \"NM\", \"Year\": 2020, \"H_idx\": 357.5375}, {\"State\": \"NM\", \"Year\": 2021, \"H_idx\": 404.77250000000004}, {\"State\": \"NM\", \"Year\": 2022, \"H_idx\": 469.7475}, {\"State\": \"NV\", \"Year\": 1975, \"H_idx\": 52.307500000000005}, {\"State\": \"NV\", \"Year\": 1976, \"H_idx\": 61.8225}, {\"State\": \"NV\", \"Year\": 1977, \"H_idx\": 69.4025}, {\"State\": \"NV\", \"Year\": 1978, \"H_idx\": 83.2475}, {\"State\": \"NV\", \"Year\": 1979, \"H_idx\": 98.8125}, {\"State\": \"NV\", \"Year\": 1980, \"H_idx\": 104.92999999999999}, {\"State\": \"NV\", \"Year\": 1981, \"H_idx\": 116.9375}, {\"State\": \"NV\", \"Year\": 1982, \"H_idx\": 121.815}, {\"State\": \"NV\", \"Year\": 1983, \"H_idx\": 119.94}, {\"State\": \"NV\", \"Year\": 1984, \"H_idx\": 119.32}, {\"State\": \"NV\", \"Year\": 1985, \"H_idx\": 120.5375}, {\"State\": \"NV\", \"Year\": 1986, \"H_idx\": 125.6875}, {\"State\": \"NV\", \"Year\": 1987, \"H_idx\": 128.195}, {\"State\": \"NV\", \"Year\": 1988, \"H_idx\": 130.295}, {\"State\": \"NV\", \"Year\": 1989, \"H_idx\": 136.7975}, {\"State\": \"NV\", \"Year\": 1990, \"H_idx\": 147.2525}, {\"State\": \"NV\", \"Year\": 1991, \"H_idx\": 156.2575}, {\"State\": \"NV\", \"Year\": 1992, \"H_idx\": 162.16}, {\"State\": \"NV\", \"Year\": 1993, \"H_idx\": 166.0125}, {\"State\": \"NV\", \"Year\": 1994, \"H_idx\": 168.6975}, {\"State\": \"NV\", \"Year\": 1995, \"H_idx\": 174.675}, {\"State\": \"NV\", \"Year\": 1996, \"H_idx\": 179.70499999999998}, {\"State\": \"NV\", \"Year\": 1997, \"H_idx\": 183.815}, {\"State\": \"NV\", \"Year\": 1998, \"H_idx\": 189.45}, {\"State\": \"NV\", \"Year\": 1999, \"H_idx\": 191.82750000000001}, {\"State\": \"NV\", \"Year\": 2000, \"H_idx\": 197.775}, {\"State\": \"NV\", \"Year\": 2001, \"H_idx\": 210.505}, {\"State\": \"NV\", \"Year\": 2002, \"H_idx\": 223.9425}, {\"State\": \"NV\", \"Year\": 2003, \"H_idx\": 243.805}, {\"State\": \"NV\", \"Year\": 2004, \"H_idx\": 313.89}, {\"State\": \"NV\", \"Year\": 2005, \"H_idx\": 387.49}, {\"State\": \"NV\", \"Year\": 2006, \"H_idx\": 420.225}, {\"State\": \"NV\", \"Year\": 2007, \"H_idx\": 401.53999999999996}, {\"State\": \"NV\", \"Year\": 2008, \"H_idx\": 320.92}, {\"State\": \"NV\", \"Year\": 2009, \"H_idx\": 256.935}, {\"State\": \"NV\", \"Year\": 2010, \"H_idx\": 221.45499999999998}, {\"State\": \"NV\", \"Year\": 2011, \"H_idx\": 193.0525}, {\"State\": \"NV\", \"Year\": 2012, \"H_idx\": 190.5625}, {\"State\": \"NV\", \"Year\": 2013, \"H_idx\": 221.745}, {\"State\": \"NV\", \"Year\": 2014, \"H_idx\": 256.54}, {\"State\": \"NV\", \"Year\": 2015, \"H_idx\": 284.0725}, {\"State\": \"NV\", \"Year\": 2016, \"H_idx\": 310.1425}, {\"State\": \"NV\", \"Year\": 2017, \"H_idx\": 339.735}, {\"State\": \"NV\", \"Year\": 2018, \"H_idx\": 384.4}, {\"State\": \"NV\", \"Year\": 2019, \"H_idx\": 407.94}, {\"State\": \"NV\", \"Year\": 2020, \"H_idx\": 427.225}, {\"State\": \"NV\", \"Year\": 2021, \"H_idx\": 501.245}, {\"State\": \"NV\", \"Year\": 2022, \"H_idx\": 593.9}, {\"State\": \"NY\", \"Year\": 1975, \"H_idx\": 77.865}, {\"State\": \"NY\", \"Year\": 1976, \"H_idx\": 74.36749999999999}, {\"State\": \"NY\", \"Year\": 1977, \"H_idx\": 81.9475}, {\"State\": \"NY\", \"Year\": 1978, \"H_idx\": 84.715}, {\"State\": \"NY\", \"Year\": 1979, \"H_idx\": 96.37}, {\"State\": \"NY\", \"Year\": 1980, \"H_idx\": 108.34}, {\"State\": \"NY\", \"Year\": 1981, \"H_idx\": 112.64}, {\"State\": \"NY\", \"Year\": 1982, \"H_idx\": 124.335}, {\"State\": \"NY\", \"Year\": 1983, \"H_idx\": 136.71}, {\"State\": \"NY\", \"Year\": 1984, \"H_idx\": 159.6675}, {\"State\": \"NY\", \"Year\": 1985, \"H_idx\": 187.5725}, {\"State\": \"NY\", \"Year\": 1986, \"H_idx\": 221.94}, {\"State\": \"NY\", \"Year\": 1987, \"H_idx\": 259.9075}, {\"State\": \"NY\", \"Year\": 1988, \"H_idx\": 281.0525}, {\"State\": \"NY\", \"Year\": 1989, \"H_idx\": 284.6575}, {\"State\": \"NY\", \"Year\": 1990, \"H_idx\": 282.53249999999997}, {\"State\": \"NY\", \"Year\": 1991, \"H_idx\": 279.77750000000003}, {\"State\": \"NY\", \"Year\": 1992, \"H_idx\": 285.8825}, {\"State\": \"NY\", \"Year\": 1993, \"H_idx\": 287.48}, {\"State\": \"NY\", \"Year\": 1994, \"H_idx\": 281.28499999999997}, {\"State\": \"NY\", \"Year\": 1995, \"H_idx\": 280.0}, {\"State\": \"NY\", \"Year\": 1996, \"H_idx\": 285.2325}, {\"State\": \"NY\", \"Year\": 1997, \"H_idx\": 288.145}, {\"State\": \"NY\", \"Year\": 1998, \"H_idx\": 302.8475}, {\"State\": \"NY\", \"Year\": 1999, \"H_idx\": 320.2825}, {\"State\": \"NY\", \"Year\": 2000, \"H_idx\": 349.505}, {\"State\": \"NY\", \"Year\": 2001, \"H_idx\": 382.33000000000004}, {\"State\": \"NY\", \"Year\": 2002, \"H_idx\": 422.59749999999997}, {\"State\": \"NY\", \"Year\": 2003, \"H_idx\": 466.0725}, {\"State\": \"NY\", \"Year\": 2004, \"H_idx\": 525.975}, {\"State\": \"NY\", \"Year\": 2005, \"H_idx\": 594.11}, {\"State\": \"NY\", \"Year\": 2006, \"H_idx\": 632.81}, {\"State\": \"NY\", \"Year\": 2007, \"H_idx\": 636.4449999999999}, {\"State\": \"NY\", \"Year\": 2008, \"H_idx\": 617.5575}, {\"State\": \"NY\", \"Year\": 2009, \"H_idx\": 591.125}, {\"State\": \"NY\", \"Year\": 2010, \"H_idx\": 574.47}, {\"State\": \"NY\", \"Year\": 2011, \"H_idx\": 562.5475}, {\"State\": \"NY\", \"Year\": 2012, \"H_idx\": 555.3}, {\"State\": \"NY\", \"Year\": 2013, \"H_idx\": 559.135}, {\"State\": \"NY\", \"Year\": 2014, \"H_idx\": 569.7975}, {\"State\": \"NY\", \"Year\": 2015, \"H_idx\": 589.465}, {\"State\": \"NY\", \"Year\": 2016, \"H_idx\": 609.6375}, {\"State\": \"NY\", \"Year\": 2017, \"H_idx\": 637.2175}, {\"State\": \"NY\", \"Year\": 2018, \"H_idx\": 668.9675}, {\"State\": \"NY\", \"Year\": 2019, \"H_idx\": 697.5225}, {\"State\": \"NY\", \"Year\": 2020, \"H_idx\": 731.8625}, {\"State\": \"NY\", \"Year\": 2021, \"H_idx\": 814.715}, {\"State\": \"NY\", \"Year\": 2022, \"H_idx\": 926.9675}, {\"State\": \"OH\", \"Year\": 1975, \"H_idx\": 65.0575}, {\"State\": \"OH\", \"Year\": 1976, \"H_idx\": 69.685}, {\"State\": \"OH\", \"Year\": 1977, \"H_idx\": 77.1375}, {\"State\": \"OH\", \"Year\": 1978, \"H_idx\": 87.5625}, {\"State\": \"OH\", \"Year\": 1979, \"H_idx\": 98.5575}, {\"State\": \"OH\", \"Year\": 1980, \"H_idx\": 101.345}, {\"State\": \"OH\", \"Year\": 1981, \"H_idx\": 102.68}, {\"State\": \"OH\", \"Year\": 1982, \"H_idx\": 96.975}, {\"State\": \"OH\", \"Year\": 1983, \"H_idx\": 104.89}, {\"State\": \"OH\", \"Year\": 1984, \"H_idx\": 107.045}, {\"State\": \"OH\", \"Year\": 1985, \"H_idx\": 109.94500000000001}, {\"State\": \"OH\", \"Year\": 1986, \"H_idx\": 115.5}, {\"State\": \"OH\", \"Year\": 1987, \"H_idx\": 123.5675}, {\"State\": \"OH\", \"Year\": 1988, \"H_idx\": 131.415}, {\"State\": \"OH\", \"Year\": 1989, \"H_idx\": 137.945}, {\"State\": \"OH\", \"Year\": 1990, \"H_idx\": 144.10500000000002}, {\"State\": \"OH\", \"Year\": 1991, \"H_idx\": 149.9425}, {\"State\": \"OH\", \"Year\": 1992, \"H_idx\": 156.5375}, {\"State\": \"OH\", \"Year\": 1993, \"H_idx\": 162.61}, {\"State\": \"OH\", \"Year\": 1994, \"H_idx\": 170.355}, {\"State\": \"OH\", \"Year\": 1995, \"H_idx\": 178.19}, {\"State\": \"OH\", \"Year\": 1996, \"H_idx\": 187.2825}, {\"State\": \"OH\", \"Year\": 1997, \"H_idx\": 195.3775}, {\"State\": \"OH\", \"Year\": 1998, \"H_idx\": 204.48}, {\"State\": \"OH\", \"Year\": 1999, \"H_idx\": 212.085}, {\"State\": \"OH\", \"Year\": 2000, \"H_idx\": 220.14}, {\"State\": \"OH\", \"Year\": 2001, \"H_idx\": 231.8725}, {\"State\": \"OH\", \"Year\": 2002, \"H_idx\": 239.7425}, {\"State\": \"OH\", \"Year\": 2003, \"H_idx\": 247.4625}, {\"State\": \"OH\", \"Year\": 2004, \"H_idx\": 256.255}, {\"State\": \"OH\", \"Year\": 2005, \"H_idx\": 265.31}, {\"State\": \"OH\", \"Year\": 2006, \"H_idx\": 266.53}, {\"State\": \"OH\", \"Year\": 2007, \"H_idx\": 264.1275}, {\"State\": \"OH\", \"Year\": 2008, \"H_idx\": 257.32}, {\"State\": \"OH\", \"Year\": 2009, \"H_idx\": 251.11}, {\"State\": \"OH\", \"Year\": 2010, \"H_idx\": 244.045}, {\"State\": \"OH\", \"Year\": 2011, \"H_idx\": 235.93}, {\"State\": \"OH\", \"Year\": 2012, \"H_idx\": 234.305}, {\"State\": \"OH\", \"Year\": 2013, \"H_idx\": 234.6975}, {\"State\": \"OH\", \"Year\": 2014, \"H_idx\": 241.13}, {\"State\": \"OH\", \"Year\": 2015, \"H_idx\": 250.4175}, {\"State\": \"OH\", \"Year\": 2016, \"H_idx\": 260.28}, {\"State\": \"OH\", \"Year\": 2017, \"H_idx\": 272.695}, {\"State\": \"OH\", \"Year\": 2018, \"H_idx\": 287.5825}, {\"State\": \"OH\", \"Year\": 2019, \"H_idx\": 302.6275}, {\"State\": \"OH\", \"Year\": 2020, \"H_idx\": 320.90250000000003}, {\"State\": \"OH\", \"Year\": 2021, \"H_idx\": 361.51}, {\"State\": \"OH\", \"Year\": 2022, \"H_idx\": 415.9}, {\"State\": \"OK\", \"Year\": 1975, \"H_idx\": 53.05}, {\"State\": \"OK\", \"Year\": 1976, \"H_idx\": 59.215}, {\"State\": \"OK\", \"Year\": 1977, \"H_idx\": 66.3725}, {\"State\": \"OK\", \"Year\": 1978, \"H_idx\": 78.965}, {\"State\": \"OK\", \"Year\": 1979, \"H_idx\": 92.27250000000001}, {\"State\": \"OK\", \"Year\": 1980, \"H_idx\": 101.245}, {\"State\": \"OK\", \"Year\": 1981, \"H_idx\": 108.6625}, {\"State\": \"OK\", \"Year\": 1982, \"H_idx\": 119.6525}, {\"State\": \"OK\", \"Year\": 1983, \"H_idx\": 125.7775}, {\"State\": \"OK\", \"Year\": 1984, \"H_idx\": 121.21000000000001}, {\"State\": \"OK\", \"Year\": 1985, \"H_idx\": 116.8975}, {\"State\": \"OK\", \"Year\": 1986, \"H_idx\": 114.5125}, {\"State\": \"OK\", \"Year\": 1987, \"H_idx\": 105.7025}, {\"State\": \"OK\", \"Year\": 1988, \"H_idx\": 98.09}, {\"State\": \"OK\", \"Year\": 1989, \"H_idx\": 99.99}, {\"State\": \"OK\", \"Year\": 1990, \"H_idx\": 101.0225}, {\"State\": \"OK\", \"Year\": 1991, \"H_idx\": 104.285}, {\"State\": \"OK\", \"Year\": 1992, \"H_idx\": 107.7425}, {\"State\": \"OK\", \"Year\": 1993, \"H_idx\": 111.9525}, {\"State\": \"OK\", \"Year\": 1994, \"H_idx\": 116.6775}, {\"State\": \"OK\", \"Year\": 1995, \"H_idx\": 120.765}, {\"State\": \"OK\", \"Year\": 1996, \"H_idx\": 125.485}, {\"State\": \"OK\", \"Year\": 1997, \"H_idx\": 129.27}, {\"State\": \"OK\", \"Year\": 1998, \"H_idx\": 135.4975}, {\"State\": \"OK\", \"Year\": 1999, \"H_idx\": 140.81}, {\"State\": \"OK\", \"Year\": 2000, \"H_idx\": 146.3675}, {\"State\": \"OK\", \"Year\": 2001, \"H_idx\": 154.51}, {\"State\": \"OK\", \"Year\": 2002, \"H_idx\": 160.60999999999999}, {\"State\": \"OK\", \"Year\": 2003, \"H_idx\": 167.0925}, {\"State\": \"OK\", \"Year\": 2004, \"H_idx\": 173.935}, {\"State\": \"OK\", \"Year\": 2005, \"H_idx\": 182.8025}, {\"State\": \"OK\", \"Year\": 2006, \"H_idx\": 191.4425}, {\"State\": \"OK\", \"Year\": 2007, \"H_idx\": 199.6525}, {\"State\": \"OK\", \"Year\": 2008, \"H_idx\": 203.6575}, {\"State\": \"OK\", \"Year\": 2009, \"H_idx\": 204.7}, {\"State\": \"OK\", \"Year\": 2010, \"H_idx\": 203.2425}, {\"State\": \"OK\", \"Year\": 2011, \"H_idx\": 200.1}, {\"State\": \"OK\", \"Year\": 2012, \"H_idx\": 203.0675}, {\"State\": \"OK\", \"Year\": 2013, \"H_idx\": 206.485}, {\"State\": \"OK\", \"Year\": 2014, \"H_idx\": 212.37}, {\"State\": \"OK\", \"Year\": 2015, \"H_idx\": 220.5525}, {\"State\": \"OK\", \"Year\": 2016, \"H_idx\": 226.35}, {\"State\": \"OK\", \"Year\": 2017, \"H_idx\": 234.0025}, {\"State\": \"OK\", \"Year\": 2018, \"H_idx\": 240.265}, {\"State\": \"OK\", \"Year\": 2019, \"H_idx\": 249.555}, {\"State\": \"OK\", \"Year\": 2020, \"H_idx\": 261.925}, {\"State\": \"OK\", \"Year\": 2021, \"H_idx\": 292.27}, {\"State\": \"OK\", \"Year\": 2022, \"H_idx\": 339.995}, {\"State\": \"OR\", \"Year\": 1975, \"H_idx\": 52.46}, {\"State\": \"OR\", \"Year\": 1976, \"H_idx\": 59.4625}, {\"State\": \"OR\", \"Year\": 1977, \"H_idx\": 72.08250000000001}, {\"State\": \"OR\", \"Year\": 1978, \"H_idx\": 86.17999999999999}, {\"State\": \"OR\", \"Year\": 1979, \"H_idx\": 97.59}, {\"State\": \"OR\", \"Year\": 1980, \"H_idx\": 101.5375}, {\"State\": \"OR\", \"Year\": 1981, \"H_idx\": 95.4225}, {\"State\": \"OR\", \"Year\": 1982, \"H_idx\": 97.0775}, {\"State\": \"OR\", \"Year\": 1983, \"H_idx\": 99.1525}, {\"State\": \"OR\", \"Year\": 1984, \"H_idx\": 98.00999999999999}, {\"State\": \"OR\", \"Year\": 1985, \"H_idx\": 97.50999999999999}, {\"State\": \"OR\", \"Year\": 1986, \"H_idx\": 98.52}, {\"State\": \"OR\", \"Year\": 1987, \"H_idx\": 99.65}, {\"State\": \"OR\", \"Year\": 1988, \"H_idx\": 103.2625}, {\"State\": \"OR\", \"Year\": 1989, \"H_idx\": 112.2225}, {\"State\": \"OR\", \"Year\": 1990, \"H_idx\": 128.39}, {\"State\": \"OR\", \"Year\": 1991, \"H_idx\": 140.6875}, {\"State\": \"OR\", \"Year\": 1992, \"H_idx\": 151.87}, {\"State\": \"OR\", \"Year\": 1993, \"H_idx\": 163.59}, {\"State\": \"OR\", \"Year\": 1994, \"H_idx\": 180.69}, {\"State\": \"OR\", \"Year\": 1995, \"H_idx\": 197.675}, {\"State\": \"OR\", \"Year\": 1996, \"H_idx\": 212.64000000000001}, {\"State\": \"OR\", \"Year\": 1997, \"H_idx\": 226.2525}, {\"State\": \"OR\", \"Year\": 1998, \"H_idx\": 237.54500000000002}, {\"State\": \"OR\", \"Year\": 1999, \"H_idx\": 243.5175}, {\"State\": \"OR\", \"Year\": 2000, \"H_idx\": 250.51999999999998}, {\"State\": \"OR\", \"Year\": 2001, \"H_idx\": 264.65999999999997}, {\"State\": \"OR\", \"Year\": 2002, \"H_idx\": 275.925}, {\"State\": \"OR\", \"Year\": 2003, \"H_idx\": 289.1475}, {\"State\": \"OR\", \"Year\": 2004, \"H_idx\": 316.6175}, {\"State\": \"OR\", \"Year\": 2005, \"H_idx\": 369.2125}, {\"State\": \"OR\", \"Year\": 2006, \"H_idx\": 430.62}, {\"State\": \"OR\", \"Year\": 2007, \"H_idx\": 454.7625}, {\"State\": \"OR\", \"Year\": 2008, \"H_idx\": 438.555}, {\"State\": \"OR\", \"Year\": 2009, \"H_idx\": 401.07}, {\"State\": \"OR\", \"Year\": 2010, \"H_idx\": 372.3425}, {\"State\": \"OR\", \"Year\": 2011, \"H_idx\": 346.2325}, {\"State\": \"OR\", \"Year\": 2012, \"H_idx\": 344.0825}, {\"State\": \"OR\", \"Year\": 2013, \"H_idx\": 367.325}, {\"State\": \"OR\", \"Year\": 2014, \"H_idx\": 397.6875}, {\"State\": \"OR\", \"Year\": 2015, \"H_idx\": 432.98249999999996}, {\"State\": \"OR\", \"Year\": 2016, \"H_idx\": 479.8825}, {\"State\": \"OR\", \"Year\": 2017, \"H_idx\": 519.5975}, {\"State\": \"OR\", \"Year\": 2018, \"H_idx\": 551.3475}, {\"State\": \"OR\", \"Year\": 2019, \"H_idx\": 576.8025}, {\"State\": \"OR\", \"Year\": 2020, \"H_idx\": 607.3875}, {\"State\": \"OR\", \"Year\": 2021, \"H_idx\": 706.43}, {\"State\": \"OR\", \"Year\": 2022, \"H_idx\": 804.3175}, {\"State\": \"PA\", \"Year\": 1975, \"H_idx\": 71.5525}, {\"State\": \"PA\", \"Year\": 1976, \"H_idx\": 75.435}, {\"State\": \"PA\", \"Year\": 1977, \"H_idx\": 79.8}, {\"State\": \"PA\", \"Year\": 1978, \"H_idx\": 86.435}, {\"State\": \"PA\", \"Year\": 1979, \"H_idx\": 96.1725}, {\"State\": \"PA\", \"Year\": 1980, \"H_idx\": 99.8175}, {\"State\": \"PA\", \"Year\": 1981, \"H_idx\": 102.8725}, {\"State\": \"PA\", \"Year\": 1982, \"H_idx\": 104.33500000000001}, {\"State\": \"PA\", \"Year\": 1983, \"H_idx\": 111.44}, {\"State\": \"PA\", \"Year\": 1984, \"H_idx\": 117.18}, {\"State\": \"PA\", \"Year\": 1985, \"H_idx\": 125.0925}, {\"State\": \"PA\", \"Year\": 1986, \"H_idx\": 137.63}, {\"State\": \"PA\", \"Year\": 1987, \"H_idx\": 158.8375}, {\"State\": \"PA\", \"Year\": 1988, \"H_idx\": 179.91}, {\"State\": \"PA\", \"Year\": 1989, \"H_idx\": 191.3125}, {\"State\": \"PA\", \"Year\": 1990, \"H_idx\": 196.115}, {\"State\": \"PA\", \"Year\": 1991, \"H_idx\": 199.635}, {\"State\": \"PA\", \"Year\": 1992, \"H_idx\": 204.88}, {\"State\": \"PA\", \"Year\": 1993, \"H_idx\": 208.335}, {\"State\": \"PA\", \"Year\": 1994, \"H_idx\": 208.2725}, {\"State\": \"PA\", \"Year\": 1995, \"H_idx\": 209.9975}, {\"State\": \"PA\", \"Year\": 1996, \"H_idx\": 214.34}, {\"State\": \"PA\", \"Year\": 1997, \"H_idx\": 217.2625}, {\"State\": \"PA\", \"Year\": 1998, \"H_idx\": 225.0125}, {\"State\": \"PA\", \"Year\": 1999, \"H_idx\": 230.6175}, {\"State\": \"PA\", \"Year\": 2000, \"H_idx\": 238.9275}, {\"State\": \"PA\", \"Year\": 2001, \"H_idx\": 254.95499999999998}, {\"State\": \"PA\", \"Year\": 2002, \"H_idx\": 271.515}, {\"State\": \"PA\", \"Year\": 2003, \"H_idx\": 290.0725}, {\"State\": \"PA\", \"Year\": 2004, \"H_idx\": 319.98}, {\"State\": \"PA\", \"Year\": 2005, \"H_idx\": 357.2825}, {\"State\": \"PA\", \"Year\": 2006, \"H_idx\": 384.805}, {\"State\": \"PA\", \"Year\": 2007, \"H_idx\": 395.64750000000004}, {\"State\": \"PA\", \"Year\": 2008, \"H_idx\": 391.9925}, {\"State\": \"PA\", \"Year\": 2009, \"H_idx\": 382.5675}, {\"State\": \"PA\", \"Year\": 2010, \"H_idx\": 374.555}, {\"State\": \"PA\", \"Year\": 2011, \"H_idx\": 366.5375}, {\"State\": \"PA\", \"Year\": 2012, \"H_idx\": 363.5025}, {\"State\": \"PA\", \"Year\": 2013, \"H_idx\": 366.45500000000004}, {\"State\": \"PA\", \"Year\": 2014, \"H_idx\": 372.01}, {\"State\": \"PA\", \"Year\": 2015, \"H_idx\": 381.9425}, {\"State\": \"PA\", \"Year\": 2016, \"H_idx\": 392.2225}, {\"State\": \"PA\", \"Year\": 2017, \"H_idx\": 405.52}, {\"State\": \"PA\", \"Year\": 2018, \"H_idx\": 421.60749999999996}, {\"State\": \"PA\", \"Year\": 2019, \"H_idx\": 439.6225}, {\"State\": \"PA\", \"Year\": 2020, \"H_idx\": 462.18}, {\"State\": \"PA\", \"Year\": 2021, \"H_idx\": 516.9425}, {\"State\": \"PA\", \"Year\": 2022, \"H_idx\": 587.5725}, {\"State\": \"RI\", \"Year\": 1975, \"H_idx\": 64.735}, {\"State\": \"RI\", \"Year\": 1976, \"H_idx\": 68.68}, {\"State\": \"RI\", \"Year\": 1977, \"H_idx\": 73.4125}, {\"State\": \"RI\", \"Year\": 1978, \"H_idx\": 83.5525}, {\"State\": \"RI\", \"Year\": 1979, \"H_idx\": 93.975}, {\"State\": \"RI\", \"Year\": 1980, \"H_idx\": 100.5375}, {\"State\": \"RI\", \"Year\": 1981, \"H_idx\": 101.24}, {\"State\": \"RI\", \"Year\": 1982, \"H_idx\": 104.75}, {\"State\": \"RI\", \"Year\": 1983, \"H_idx\": 114.86500000000001}, {\"State\": \"RI\", \"Year\": 1984, \"H_idx\": 123.55}, {\"State\": \"RI\", \"Year\": 1985, \"H_idx\": 140.0}, {\"State\": \"RI\", \"Year\": 1986, \"H_idx\": 169.69}, {\"State\": \"RI\", \"Year\": 1987, \"H_idx\": 221.9625}, {\"State\": \"RI\", \"Year\": 1988, \"H_idx\": 252.565}, {\"State\": \"RI\", \"Year\": 1989, \"H_idx\": 262.385}, {\"State\": \"RI\", \"Year\": 1990, \"H_idx\": 259.0375}, {\"State\": \"RI\", \"Year\": 1991, \"H_idx\": 249.9525}, {\"State\": \"RI\", \"Year\": 1992, \"H_idx\": 245.8625}, {\"State\": \"RI\", \"Year\": 1993, \"H_idx\": 244.855}, {\"State\": \"RI\", \"Year\": 1994, \"H_idx\": 237.35}, {\"State\": \"RI\", \"Year\": 1995, \"H_idx\": 237.9675}, {\"State\": \"RI\", \"Year\": 1996, \"H_idx\": 239.775}, {\"State\": \"RI\", \"Year\": 1997, \"H_idx\": 241.4825}, {\"State\": \"RI\", \"Year\": 1998, \"H_idx\": 250.8125}, {\"State\": \"RI\", \"Year\": 1999, \"H_idx\": 261.59749999999997}, {\"State\": \"RI\", \"Year\": 2000, \"H_idx\": 289.15250000000003}, {\"State\": \"RI\", \"Year\": 2001, \"H_idx\": 321.505}, {\"State\": \"RI\", \"Year\": 2002, \"H_idx\": 371.14250000000004}, {\"State\": \"RI\", \"Year\": 2003, \"H_idx\": 425.7425}, {\"State\": \"RI\", \"Year\": 2004, \"H_idx\": 505.2125}, {\"State\": \"RI\", \"Year\": 2005, \"H_idx\": 574.27}, {\"State\": \"RI\", \"Year\": 2006, \"H_idx\": 597.5225}, {\"State\": \"RI\", \"Year\": 2007, \"H_idx\": 581.8050000000001}, {\"State\": \"RI\", \"Year\": 2008, \"H_idx\": 534.6575}, {\"State\": \"RI\", \"Year\": 2009, \"H_idx\": 491.61}, {\"State\": \"RI\", \"Year\": 2010, \"H_idx\": 470.315}, {\"State\": \"RI\", \"Year\": 2011, \"H_idx\": 449.55}, {\"State\": \"RI\", \"Year\": 2012, \"H_idx\": 436.94}, {\"State\": \"RI\", \"Year\": 2013, \"H_idx\": 435.3675}, {\"State\": \"RI\", \"Year\": 2014, \"H_idx\": 446.2275}, {\"State\": \"RI\", \"Year\": 2015, \"H_idx\": 467.255}, {\"State\": \"RI\", \"Year\": 2016, \"H_idx\": 488.12}, {\"State\": \"RI\", \"Year\": 2017, \"H_idx\": 517.0550000000001}, {\"State\": \"RI\", \"Year\": 2018, \"H_idx\": 548.85}, {\"State\": \"RI\", \"Year\": 2019, \"H_idx\": 573.6375}, {\"State\": \"RI\", \"Year\": 2020, \"H_idx\": 606.2275}, {\"State\": \"RI\", \"Year\": 2021, \"H_idx\": 701.3175}, {\"State\": \"RI\", \"Year\": 2022, \"H_idx\": 816.7175}, {\"State\": \"SC\", \"Year\": 1975, \"H_idx\": 71.765}, {\"State\": \"SC\", \"Year\": 1976, \"H_idx\": 75.0975}, {\"State\": \"SC\", \"Year\": 1977, \"H_idx\": 79.7525}, {\"State\": \"SC\", \"Year\": 1978, \"H_idx\": 86.71000000000001}, {\"State\": \"SC\", \"Year\": 1979, \"H_idx\": 96.865}, {\"State\": \"SC\", \"Year\": 1980, \"H_idx\": 104.78}, {\"State\": \"SC\", \"Year\": 1981, \"H_idx\": 115.6975}, {\"State\": \"SC\", \"Year\": 1982, \"H_idx\": 119.59}, {\"State\": \"SC\", \"Year\": 1983, \"H_idx\": 122.7125}, {\"State\": \"SC\", \"Year\": 1984, \"H_idx\": 126.375}, {\"State\": \"SC\", \"Year\": 1985, \"H_idx\": 131.7425}, {\"State\": \"SC\", \"Year\": 1986, \"H_idx\": 138.005}, {\"State\": \"SC\", \"Year\": 1987, \"H_idx\": 144.74}, {\"State\": \"SC\", \"Year\": 1988, \"H_idx\": 150.3925}, {\"State\": \"SC\", \"Year\": 1989, \"H_idx\": 156.305}, {\"State\": \"SC\", \"Year\": 1990, \"H_idx\": 161.4075}, {\"State\": \"SC\", \"Year\": 1991, \"H_idx\": 165.87}, {\"State\": \"SC\", \"Year\": 1992, \"H_idx\": 171.2325}, {\"State\": \"SC\", \"Year\": 1993, \"H_idx\": 175.79}, {\"State\": \"SC\", \"Year\": 1994, \"H_idx\": 180.2525}, {\"State\": \"SC\", \"Year\": 1995, \"H_idx\": 186.4225}, {\"State\": \"SC\", \"Year\": 1996, \"H_idx\": 194.69}, {\"State\": \"SC\", \"Year\": 1997, \"H_idx\": 203.2475}, {\"State\": \"SC\", \"Year\": 1998, \"H_idx\": 214.57999999999998}, {\"State\": \"SC\", \"Year\": 1999, \"H_idx\": 225.79500000000002}, {\"State\": \"SC\", \"Year\": 2000, \"H_idx\": 235.8675}, {\"State\": \"SC\", \"Year\": 2001, \"H_idx\": 250.4}, {\"State\": \"SC\", \"Year\": 2002, \"H_idx\": 259.34749999999997}, {\"State\": \"SC\", \"Year\": 2003, \"H_idx\": 268.315}, {\"State\": \"SC\", \"Year\": 2004, \"H_idx\": 280.52250000000004}, {\"State\": \"SC\", \"Year\": 2005, \"H_idx\": 301.8675}, {\"State\": \"SC\", \"Year\": 2006, \"H_idx\": 324.6675}, {\"State\": \"SC\", \"Year\": 2007, \"H_idx\": 339.255}, {\"State\": \"SC\", \"Year\": 2008, \"H_idx\": 341.26750000000004}, {\"State\": \"SC\", \"Year\": 2009, \"H_idx\": 333.4175}, {\"State\": \"SC\", \"Year\": 2010, \"H_idx\": 318.1325}, {\"State\": \"SC\", \"Year\": 2011, \"H_idx\": 305.28000000000003}, {\"State\": \"SC\", \"Year\": 2012, \"H_idx\": 302.045}, {\"State\": \"SC\", \"Year\": 2013, \"H_idx\": 303.2075}, {\"State\": \"SC\", \"Year\": 2014, \"H_idx\": 310.4625}, {\"State\": \"SC\", \"Year\": 2015, \"H_idx\": 326.1325}, {\"State\": \"SC\", \"Year\": 2016, \"H_idx\": 342.56}, {\"State\": \"SC\", \"Year\": 2017, \"H_idx\": 361.1075}, {\"State\": \"SC\", \"Year\": 2018, \"H_idx\": 382.15250000000003}, {\"State\": \"SC\", \"Year\": 2019, \"H_idx\": 402.265}, {\"State\": \"SC\", \"Year\": 2020, \"H_idx\": 423.975}, {\"State\": \"SC\", \"Year\": 2021, \"H_idx\": 482.6825}, {\"State\": \"SC\", \"Year\": 2022, \"H_idx\": 584.465}, {\"State\": \"SD\", \"Year\": 1975, \"H_idx\": 68.5825}, {\"State\": \"SD\", \"Year\": 1976, \"H_idx\": 66.4725}, {\"State\": \"SD\", \"Year\": 1977, \"H_idx\": 73.4925}, {\"State\": \"SD\", \"Year\": 1978, \"H_idx\": 82.9275}, {\"State\": \"SD\", \"Year\": 1979, \"H_idx\": 92.58}, {\"State\": \"SD\", \"Year\": 1980, \"H_idx\": 100.0325}, {\"State\": \"SD\", \"Year\": 1981, \"H_idx\": 95.43}, {\"State\": \"SD\", \"Year\": 1982, \"H_idx\": 101.07}, {\"State\": \"SD\", \"Year\": 1983, \"H_idx\": 105.695}, {\"State\": \"SD\", \"Year\": 1984, \"H_idx\": 111.99249999999999}, {\"State\": \"SD\", \"Year\": 1985, \"H_idx\": 111.02}, {\"State\": \"SD\", \"Year\": 1986, \"H_idx\": 116.455}, {\"State\": \"SD\", \"Year\": 1987, \"H_idx\": 119.03}, {\"State\": \"SD\", \"Year\": 1988, \"H_idx\": 116.475}, {\"State\": \"SD\", \"Year\": 1989, \"H_idx\": 119.72}, {\"State\": \"SD\", \"Year\": 1990, \"H_idx\": 124.1625}, {\"State\": \"SD\", \"Year\": 1991, \"H_idx\": 130.63750000000002}, {\"State\": \"SD\", \"Year\": 1992, \"H_idx\": 138.915}, {\"State\": \"SD\", \"Year\": 1993, \"H_idx\": 148.335}, {\"State\": \"SD\", \"Year\": 1994, \"H_idx\": 159.1325}, {\"State\": \"SD\", \"Year\": 1995, \"H_idx\": 166.0525}, {\"State\": \"SD\", \"Year\": 1996, \"H_idx\": 173.6275}, {\"State\": \"SD\", \"Year\": 1997, \"H_idx\": 180.54500000000002}, {\"State\": \"SD\", \"Year\": 1998, \"H_idx\": 188.1025}, {\"State\": \"SD\", \"Year\": 1999, \"H_idx\": 194.435}, {\"State\": \"SD\", \"Year\": 2000, \"H_idx\": 202.10500000000002}, {\"State\": \"SD\", \"Year\": 2001, \"H_idx\": 212.76999999999998}, {\"State\": \"SD\", \"Year\": 2002, \"H_idx\": 222.005}, {\"State\": \"SD\", \"Year\": 2003, \"H_idx\": 231.2525}, {\"State\": \"SD\", \"Year\": 2004, \"H_idx\": 244.4625}, {\"State\": \"SD\", \"Year\": 2005, \"H_idx\": 261.555}, {\"State\": \"SD\", \"Year\": 2006, \"H_idx\": 273.9325}, {\"State\": \"SD\", \"Year\": 2007, \"H_idx\": 284.7175}, {\"State\": \"SD\", \"Year\": 2008, \"H_idx\": 291.96500000000003}, {\"State\": \"SD\", \"Year\": 2009, \"H_idx\": 293.235}, {\"State\": \"SD\", \"Year\": 2010, \"H_idx\": 290.62}, {\"State\": \"SD\", \"Year\": 2011, \"H_idx\": 291.2575}, {\"State\": \"SD\", \"Year\": 2012, \"H_idx\": 296.255}, {\"State\": \"SD\", \"Year\": 2013, \"H_idx\": 306.5325}, {\"State\": \"SD\", \"Year\": 2014, \"H_idx\": 315.4075}, {\"State\": \"SD\", \"Year\": 2015, \"H_idx\": 328.95}, {\"State\": \"SD\", \"Year\": 2016, \"H_idx\": 343.28499999999997}, {\"State\": \"SD\", \"Year\": 2017, \"H_idx\": 360.4525}, {\"State\": \"SD\", \"Year\": 2018, \"H_idx\": 376.9125}, {\"State\": \"SD\", \"Year\": 2019, \"H_idx\": 393.64250000000004}, {\"State\": \"SD\", \"Year\": 2020, \"H_idx\": 413.1975}, {\"State\": \"SD\", \"Year\": 2021, \"H_idx\": 469.0225}, {\"State\": \"SD\", \"Year\": 2022, \"H_idx\": 554.4}, {\"State\": \"TN\", \"Year\": 1975, \"H_idx\": 68.8675}, {\"State\": \"TN\", \"Year\": 1976, \"H_idx\": 70.47}, {\"State\": \"TN\", \"Year\": 1977, \"H_idx\": 77.5475}, {\"State\": \"TN\", \"Year\": 1978, \"H_idx\": 86.4375}, {\"State\": \"TN\", \"Year\": 1979, \"H_idx\": 93.8575}, {\"State\": \"TN\", \"Year\": 1980, \"H_idx\": 99.9}, {\"State\": \"TN\", \"Year\": 1981, \"H_idx\": 102.125}, {\"State\": \"TN\", \"Year\": 1982, \"H_idx\": 103.49000000000001}, {\"State\": \"TN\", \"Year\": 1983, \"H_idx\": 111.6475}, {\"State\": \"TN\", \"Year\": 1984, \"H_idx\": 113.62}, {\"State\": \"TN\", \"Year\": 1985, \"H_idx\": 123.095}, {\"State\": \"TN\", \"Year\": 1986, \"H_idx\": 131.4}, {\"State\": \"TN\", \"Year\": 1987, \"H_idx\": 140.4025}, {\"State\": \"TN\", \"Year\": 1988, \"H_idx\": 144.2575}, {\"State\": \"TN\", \"Year\": 1989, \"H_idx\": 146.185}, {\"State\": \"TN\", \"Year\": 1990, \"H_idx\": 146.91}, {\"State\": \"TN\", \"Year\": 1991, \"H_idx\": 148.99}, {\"State\": \"TN\", \"Year\": 1992, \"H_idx\": 153.7575}, {\"State\": \"TN\", \"Year\": 1993, \"H_idx\": 158.9225}, {\"State\": \"TN\", \"Year\": 1994, \"H_idx\": 166.7025}, {\"State\": \"TN\", \"Year\": 1995, \"H_idx\": 176.31}, {\"State\": \"TN\", \"Year\": 1996, \"H_idx\": 185.9375}, {\"State\": \"TN\", \"Year\": 1997, \"H_idx\": 194.25}, {\"State\": \"TN\", \"Year\": 1998, \"H_idx\": 204.3375}, {\"State\": \"TN\", \"Year\": 1999, \"H_idx\": 210.9125}, {\"State\": \"TN\", \"Year\": 2000, \"H_idx\": 216.6175}, {\"State\": \"TN\", \"Year\": 2001, \"H_idx\": 227.1575}, {\"State\": \"TN\", \"Year\": 2002, \"H_idx\": 233.7575}, {\"State\": \"TN\", \"Year\": 2003, \"H_idx\": 241.64}, {\"State\": \"TN\", \"Year\": 2004, \"H_idx\": 251.535}, {\"State\": \"TN\", \"Year\": 2005, \"H_idx\": 267.8775}, {\"State\": \"TN\", \"Year\": 2006, \"H_idx\": 286.9575}, {\"State\": \"TN\", \"Year\": 2007, \"H_idx\": 300.275}, {\"State\": \"TN\", \"Year\": 2008, \"H_idx\": 301.4}, {\"State\": \"TN\", \"Year\": 2009, \"H_idx\": 295.9575}, {\"State\": \"TN\", \"Year\": 2010, \"H_idx\": 287.3975}, {\"State\": \"TN\", \"Year\": 2011, \"H_idx\": 279.775}, {\"State\": \"TN\", \"Year\": 2012, \"H_idx\": 279.385}, {\"State\": \"TN\", \"Year\": 2013, \"H_idx\": 283.88}, {\"State\": \"TN\", \"Year\": 2014, \"H_idx\": 294.245}, {\"State\": \"TN\", \"Year\": 2015, \"H_idx\": 308.7575}, {\"State\": \"TN\", \"Year\": 2016, \"H_idx\": 327.12}, {\"State\": \"TN\", \"Year\": 2017, \"H_idx\": 349.805}, {\"State\": \"TN\", \"Year\": 2018, \"H_idx\": 374.135}, {\"State\": \"TN\", \"Year\": 2019, \"H_idx\": 395.6725}, {\"State\": \"TN\", \"Year\": 2020, \"H_idx\": 420.48749999999995}, {\"State\": \"TN\", \"Year\": 2021, \"H_idx\": 489.66499999999996}, {\"State\": \"TN\", \"Year\": 2022, \"H_idx\": 602.905}, {\"State\": \"TX\", \"Year\": 1975, \"H_idx\": 57.425}, {\"State\": \"TX\", \"Year\": 1976, \"H_idx\": 62.16}, {\"State\": \"TX\", \"Year\": 1977, \"H_idx\": 70.045}, {\"State\": \"TX\", \"Year\": 1978, \"H_idx\": 80.57249999999999}, {\"State\": \"TX\", \"Year\": 1979, \"H_idx\": 93.6}, {\"State\": \"TX\", \"Year\": 1980, \"H_idx\": 103.5125}, {\"State\": \"TX\", \"Year\": 1981, \"H_idx\": 110.5575}, {\"State\": \"TX\", \"Year\": 1982, \"H_idx\": 120.13}, {\"State\": \"TX\", \"Year\": 1983, \"H_idx\": 125.86500000000001}, {\"State\": \"TX\", \"Year\": 1984, \"H_idx\": 127.01500000000001}, {\"State\": \"TX\", \"Year\": 1985, \"H_idx\": 127.16499999999999}, {\"State\": \"TX\", \"Year\": 1986, \"H_idx\": 129.1}, {\"State\": \"TX\", \"Year\": 1987, \"H_idx\": 120.7125}, {\"State\": \"TX\", \"Year\": 1988, \"H_idx\": 114.615}, {\"State\": \"TX\", \"Year\": 1989, \"H_idx\": 115.1625}, {\"State\": \"TX\", \"Year\": 1990, \"H_idx\": 116.9225}, {\"State\": \"TX\", \"Year\": 1991, \"H_idx\": 119.65}, {\"State\": \"TX\", \"Year\": 1992, \"H_idx\": 123.875}, {\"State\": \"TX\", \"Year\": 1993, \"H_idx\": 127.4625}, {\"State\": \"TX\", \"Year\": 1994, \"H_idx\": 130.05}, {\"State\": \"TX\", \"Year\": 1995, \"H_idx\": 132.2875}, {\"State\": \"TX\", \"Year\": 1996, \"H_idx\": 135.7325}, {\"State\": \"TX\", \"Year\": 1997, \"H_idx\": 138.645}, {\"State\": \"TX\", \"Year\": 1998, \"H_idx\": 145.3825}, {\"State\": \"TX\", \"Year\": 1999, \"H_idx\": 153.23}, {\"State\": \"TX\", \"Year\": 2000, \"H_idx\": 162.58749999999998}, {\"State\": \"TX\", \"Year\": 2001, \"H_idx\": 173.395}, {\"State\": \"TX\", \"Year\": 2002, \"H_idx\": 179.5575}, {\"State\": \"TX\", \"Year\": 2003, \"H_idx\": 185.0825}, {\"State\": \"TX\", \"Year\": 2004, \"H_idx\": 190.1625}, {\"State\": \"TX\", \"Year\": 2005, \"H_idx\": 198.565}, {\"State\": \"TX\", \"Year\": 2006, \"H_idx\": 209.79500000000002}, {\"State\": \"TX\", \"Year\": 2007, \"H_idx\": 220.6225}, {\"State\": \"TX\", \"Year\": 2008, \"H_idx\": 224.64249999999998}, {\"State\": \"TX\", \"Year\": 2009, \"H_idx\": 224.985}, {\"State\": \"TX\", \"Year\": 2010, \"H_idx\": 222.2275}, {\"State\": \"TX\", \"Year\": 2011, \"H_idx\": 219.135}, {\"State\": \"TX\", \"Year\": 2012, \"H_idx\": 222.3375}, {\"State\": \"TX\", \"Year\": 2013, \"H_idx\": 232.2475}, {\"State\": \"TX\", \"Year\": 2014, \"H_idx\": 248.85}, {\"State\": \"TX\", \"Year\": 2015, \"H_idx\": 266.90250000000003}, {\"State\": \"TX\", \"Year\": 2016, \"H_idx\": 285.9525}, {\"State\": \"TX\", \"Year\": 2017, \"H_idx\": 306.37}, {\"State\": \"TX\", \"Year\": 2018, \"H_idx\": 324.725}, {\"State\": \"TX\", \"Year\": 2019, \"H_idx\": 340.295}, {\"State\": \"TX\", \"Year\": 2020, \"H_idx\": 356.0675}, {\"State\": \"TX\", \"Year\": 2021, \"H_idx\": 407.67}, {\"State\": \"TX\", \"Year\": 2022, \"H_idx\": 489.65999999999997}, {\"State\": \"UT\", \"Year\": 1975, \"H_idx\": 57.1125}, {\"State\": \"UT\", \"Year\": 1976, \"H_idx\": 63.114999999999995}, {\"State\": \"UT\", \"Year\": 1977, \"H_idx\": 72.625}, {\"State\": \"UT\", \"Year\": 1978, \"H_idx\": 85.69749999999999}, {\"State\": \"UT\", \"Year\": 1979, \"H_idx\": 97.4675}, {\"State\": \"UT\", \"Year\": 1980, \"H_idx\": 101.615}, {\"State\": \"UT\", \"Year\": 1981, \"H_idx\": 108.77}, {\"State\": \"UT\", \"Year\": 1982, \"H_idx\": 110.24}, {\"State\": \"UT\", \"Year\": 1983, \"H_idx\": 113.4825}, {\"State\": \"UT\", \"Year\": 1984, \"H_idx\": 113.32}, {\"State\": \"UT\", \"Year\": 1985, \"H_idx\": 116.015}, {\"State\": \"UT\", \"Year\": 1986, \"H_idx\": 118.5425}, {\"State\": \"UT\", \"Year\": 1987, \"H_idx\": 115.885}, {\"State\": \"UT\", \"Year\": 1988, \"H_idx\": 112.8925}, {\"State\": \"UT\", \"Year\": 1989, \"H_idx\": 114.3775}, {\"State\": \"UT\", \"Year\": 1990, \"H_idx\": 118.0875}, {\"State\": \"UT\", \"Year\": 1991, \"H_idx\": 124.995}, {\"State\": \"UT\", \"Year\": 1992, \"H_idx\": 133.135}, {\"State\": \"UT\", \"Year\": 1993, \"H_idx\": 147.675}, {\"State\": \"UT\", \"Year\": 1994, \"H_idx\": 172.22}, {\"State\": \"UT\", \"Year\": 1995, \"H_idx\": 192.46}, {\"State\": \"UT\", \"Year\": 1996, \"H_idx\": 209.14999999999998}, {\"State\": \"UT\", \"Year\": 1997, \"H_idx\": 221.965}, {\"State\": \"UT\", \"Year\": 1998, \"H_idx\": 233.34}, {\"State\": \"UT\", \"Year\": 1999, \"H_idx\": 236.165}, {\"State\": \"UT\", \"Year\": 2000, \"H_idx\": 238.54}, {\"State\": \"UT\", \"Year\": 2001, \"H_idx\": 248.8875}, {\"State\": \"UT\", \"Year\": 2002, \"H_idx\": 252.1875}, {\"State\": \"UT\", \"Year\": 2003, \"H_idx\": 256.40999999999997}, {\"State\": \"UT\", \"Year\": 2004, \"H_idx\": 264.4475}, {\"State\": \"UT\", \"Year\": 2005, \"H_idx\": 289.83500000000004}, {\"State\": \"UT\", \"Year\": 2006, \"H_idx\": 335.445}, {\"State\": \"UT\", \"Year\": 2007, \"H_idx\": 376.45}, {\"State\": \"UT\", \"Year\": 2008, \"H_idx\": 371.78499999999997}, {\"State\": \"UT\", \"Year\": 2009, \"H_idx\": 342.4475}, {\"State\": \"UT\", \"Year\": 2010, \"H_idx\": 321.1975}, {\"State\": \"UT\", \"Year\": 2011, \"H_idx\": 303.9925}, {\"State\": \"UT\", \"Year\": 2012, \"H_idx\": 308.7675}, {\"State\": \"UT\", \"Year\": 2013, \"H_idx\": 329.99}, {\"State\": \"UT\", \"Year\": 2014, \"H_idx\": 349.1775}, {\"State\": \"UT\", \"Year\": 2015, \"H_idx\": 368.6375}, {\"State\": \"UT\", \"Year\": 2016, \"H_idx\": 395.22}, {\"State\": \"UT\", \"Year\": 2017, \"H_idx\": 429.32}, {\"State\": \"UT\", \"Year\": 2018, \"H_idx\": 468.9925}, {\"State\": \"UT\", \"Year\": 2019, \"H_idx\": 503.935}, {\"State\": \"UT\", \"Year\": 2020, \"H_idx\": 541.1675}, {\"State\": \"UT\", \"Year\": 2021, \"H_idx\": 661.26}, {\"State\": \"UT\", \"Year\": 2022, \"H_idx\": 789.8050000000001}, {\"State\": \"VA\", \"Year\": 1975, \"H_idx\": 67.94}, {\"State\": \"VA\", \"Year\": 1976, \"H_idx\": 70.1275}, {\"State\": \"VA\", \"Year\": 1977, \"H_idx\": 76.06}, {\"State\": \"VA\", \"Year\": 1978, \"H_idx\": 84.765}, {\"State\": \"VA\", \"Year\": 1979, \"H_idx\": 92.765}, {\"State\": \"VA\", \"Year\": 1980, \"H_idx\": 102.43}, {\"State\": \"VA\", \"Year\": 1981, \"H_idx\": 106.9175}, {\"State\": \"VA\", \"Year\": 1982, \"H_idx\": 105.9675}, {\"State\": \"VA\", \"Year\": 1983, \"H_idx\": 117.7225}, {\"State\": \"VA\", \"Year\": 1984, \"H_idx\": 123.47749999999999}, {\"State\": \"VA\", \"Year\": 1985, \"H_idx\": 130.195}, {\"State\": \"VA\", \"Year\": 1986, \"H_idx\": 138.45}, {\"State\": \"VA\", \"Year\": 1987, \"H_idx\": 152.965}, {\"State\": \"VA\", \"Year\": 1988, \"H_idx\": 171.98000000000002}, {\"State\": \"VA\", \"Year\": 1989, \"H_idx\": 185.925}, {\"State\": \"VA\", \"Year\": 1990, \"H_idx\": 188.57}, {\"State\": \"VA\", \"Year\": 1991, \"H_idx\": 188.41}, {\"State\": \"VA\", \"Year\": 1992, \"H_idx\": 191.4975}, {\"State\": \"VA\", \"Year\": 1993, \"H_idx\": 193.485}, {\"State\": \"VA\", \"Year\": 1994, \"H_idx\": 194.595}, {\"State\": \"VA\", \"Year\": 1995, \"H_idx\": 196.8125}, {\"State\": \"VA\", \"Year\": 1996, \"H_idx\": 200.845}, {\"State\": \"VA\", \"Year\": 1997, \"H_idx\": 204.73250000000002}, {\"State\": \"VA\", \"Year\": 1998, \"H_idx\": 211.1325}, {\"State\": \"VA\", \"Year\": 1999, \"H_idx\": 220.8075}, {\"State\": \"VA\", \"Year\": 2000, \"H_idx\": 236.07}, {\"State\": \"VA\", \"Year\": 2001, \"H_idx\": 256.5325}, {\"State\": \"VA\", \"Year\": 2002, \"H_idx\": 278.84000000000003}, {\"State\": \"VA\", \"Year\": 2003, \"H_idx\": 301.70500000000004}, {\"State\": \"VA\", \"Year\": 2004, \"H_idx\": 346.8875}, {\"State\": \"VA\", \"Year\": 2005, \"H_idx\": 413.8625}, {\"State\": \"VA\", \"Year\": 2006, \"H_idx\": 457.2375}, {\"State\": \"VA\", \"Year\": 2007, \"H_idx\": 465.2875}, {\"State\": \"VA\", \"Year\": 2008, \"H_idx\": 442.52}, {\"State\": \"VA\", \"Year\": 2009, \"H_idx\": 418.5425}, {\"State\": \"VA\", \"Year\": 2010, \"H_idx\": 402.8125}, {\"State\": \"VA\", \"Year\": 2011, \"H_idx\": 391.78499999999997}, {\"State\": \"VA\", \"Year\": 2012, \"H_idx\": 390.8425}, {\"State\": \"VA\", \"Year\": 2013, \"H_idx\": 396.5225}, {\"State\": \"VA\", \"Year\": 2014, \"H_idx\": 406.235}, {\"State\": \"VA\", \"Year\": 2015, \"H_idx\": 417.865}, {\"State\": \"VA\", \"Year\": 2016, \"H_idx\": 427.875}, {\"State\": \"VA\", \"Year\": 2017, \"H_idx\": 440.5875}, {\"State\": \"VA\", \"Year\": 2018, \"H_idx\": 455.2975}, {\"State\": \"VA\", \"Year\": 2019, \"H_idx\": 473.63}, {\"State\": \"VA\", \"Year\": 2020, \"H_idx\": 496.765}, {\"State\": \"VA\", \"Year\": 2021, \"H_idx\": 553.98}, {\"State\": \"VA\", \"Year\": 2022, \"H_idx\": 636.635}, {\"State\": \"VT\", \"Year\": 1975, \"H_idx\": 73.5575}, {\"State\": \"VT\", \"Year\": 1976, \"H_idx\": 83.83250000000001}, {\"State\": \"VT\", \"Year\": 1977, \"H_idx\": 87.725}, {\"State\": \"VT\", \"Year\": 1978, \"H_idx\": 92.72749999999999}, {\"State\": \"VT\", \"Year\": 1979, \"H_idx\": 96.825}, {\"State\": \"VT\", \"Year\": 1980, \"H_idx\": 103.7925}, {\"State\": \"VT\", \"Year\": 1981, \"H_idx\": 95.75}, {\"State\": \"VT\", \"Year\": 1982, \"H_idx\": 115.3575}, {\"State\": \"VT\", \"Year\": 1983, \"H_idx\": 118.25999999999999}, {\"State\": \"VT\", \"Year\": 1984, \"H_idx\": 124.6975}, {\"State\": \"VT\", \"Year\": 1985, \"H_idx\": 134.76749999999998}, {\"State\": \"VT\", \"Year\": 1986, \"H_idx\": 150.42000000000002}, {\"State\": \"VT\", \"Year\": 1987, \"H_idx\": 171.8225}, {\"State\": \"VT\", \"Year\": 1988, \"H_idx\": 196.42000000000002}, {\"State\": \"VT\", \"Year\": 1989, \"H_idx\": 213.0975}, {\"State\": \"VT\", \"Year\": 1990, \"H_idx\": 215.81}, {\"State\": \"VT\", \"Year\": 1991, \"H_idx\": 213.385}, {\"State\": \"VT\", \"Year\": 1992, \"H_idx\": 215.3725}, {\"State\": \"VT\", \"Year\": 1993, \"H_idx\": 217.3525}, {\"State\": \"VT\", \"Year\": 1994, \"H_idx\": 217.8075}, {\"State\": \"VT\", \"Year\": 1995, \"H_idx\": 219.3775}, {\"State\": \"VT\", \"Year\": 1996, \"H_idx\": 222.35}, {\"State\": \"VT\", \"Year\": 1997, \"H_idx\": 224.5275}, {\"State\": \"VT\", \"Year\": 1998, \"H_idx\": 229.85250000000002}, {\"State\": \"VT\", \"Year\": 1999, \"H_idx\": 239.73}, {\"State\": \"VT\", \"Year\": 2000, \"H_idx\": 257.1775}, {\"State\": \"VT\", \"Year\": 2001, \"H_idx\": 276.95}, {\"State\": \"VT\", \"Year\": 2002, \"H_idx\": 298.135}, {\"State\": \"VT\", \"Year\": 2003, \"H_idx\": 319.8375}, {\"State\": \"VT\", \"Year\": 2004, \"H_idx\": 362.735}, {\"State\": \"VT\", \"Year\": 2005, \"H_idx\": 413.435}, {\"State\": \"VT\", \"Year\": 2006, \"H_idx\": 446.5375}, {\"State\": \"VT\", \"Year\": 2007, \"H_idx\": 458.0875}, {\"State\": \"VT\", \"Year\": 2008, \"H_idx\": 457.1675}, {\"State\": \"VT\", \"Year\": 2009, \"H_idx\": 446.895}, {\"State\": \"VT\", \"Year\": 2010, \"H_idx\": 440.585}, {\"State\": \"VT\", \"Year\": 2011, \"H_idx\": 436.6225}, {\"State\": \"VT\", \"Year\": 2012, \"H_idx\": 437.5375}, {\"State\": \"VT\", \"Year\": 2013, \"H_idx\": 437.3325}, {\"State\": \"VT\", \"Year\": 2014, \"H_idx\": 437.1525}, {\"State\": \"VT\", \"Year\": 2015, \"H_idx\": 445.17}, {\"State\": \"VT\", \"Year\": 2016, \"H_idx\": 451.27750000000003}, {\"State\": \"VT\", \"Year\": 2017, \"H_idx\": 461.4925}, {\"State\": \"VT\", \"Year\": 2018, \"H_idx\": 475.51250000000005}, {\"State\": \"VT\", \"Year\": 2019, \"H_idx\": 493.1725}, {\"State\": \"VT\", \"Year\": 2020, \"H_idx\": 518.58}, {\"State\": \"VT\", \"Year\": 2021, \"H_idx\": 591.56}, {\"State\": \"VT\", \"Year\": 2022, \"H_idx\": 698.9100000000001}, {\"State\": \"WA\", \"Year\": 1975, \"H_idx\": 47.7975}, {\"State\": \"WA\", \"Year\": 1976, \"H_idx\": 54.5775}, {\"State\": \"WA\", \"Year\": 1977, \"H_idx\": 65.185}, {\"State\": \"WA\", \"Year\": 1978, \"H_idx\": 81.2225}, {\"State\": \"WA\", \"Year\": 1979, \"H_idx\": 94.185}, {\"State\": \"WA\", \"Year\": 1980, \"H_idx\": 101.3875}, {\"State\": \"WA\", \"Year\": 1981, \"H_idx\": 103.22}, {\"State\": \"WA\", \"Year\": 1982, \"H_idx\": 94.3275}, {\"State\": \"WA\", \"Year\": 1983, \"H_idx\": 104.5575}, {\"State\": \"WA\", \"Year\": 1984, \"H_idx\": 108.4025}, {\"State\": \"WA\", \"Year\": 1985, \"H_idx\": 111.2675}, {\"State\": \"WA\", \"Year\": 1986, \"H_idx\": 114.565}, {\"State\": \"WA\", \"Year\": 1987, \"H_idx\": 118.42}, {\"State\": \"WA\", \"Year\": 1988, \"H_idx\": 124.9675}, {\"State\": \"WA\", \"Year\": 1989, \"H_idx\": 141.915}, {\"State\": \"WA\", \"Year\": 1990, \"H_idx\": 172.945}, {\"State\": \"WA\", \"Year\": 1991, \"H_idx\": 184.47}, {\"State\": \"WA\", \"Year\": 1992, \"H_idx\": 192.13}, {\"State\": \"WA\", \"Year\": 1993, \"H_idx\": 199.725}, {\"State\": \"WA\", \"Year\": 1994, \"H_idx\": 209.25}, {\"State\": \"WA\", \"Year\": 1995, \"H_idx\": 216.375}, {\"State\": \"WA\", \"Year\": 1996, \"H_idx\": 223.1}, {\"State\": \"WA\", \"Year\": 1997, \"H_idx\": 232.07}, {\"State\": \"WA\", \"Year\": 1998, \"H_idx\": 247.76749999999998}, {\"State\": \"WA\", \"Year\": 1999, \"H_idx\": 260.77}, {\"State\": \"WA\", \"Year\": 2000, \"H_idx\": 274.3625}, {\"State\": \"WA\", \"Year\": 2001, \"H_idx\": 291.2}, {\"State\": \"WA\", \"Year\": 2002, \"H_idx\": 303.9225}, {\"State\": \"WA\", \"Year\": 2003, \"H_idx\": 317.11}, {\"State\": \"WA\", \"Year\": 2004, \"H_idx\": 347.2675}, {\"State\": \"WA\", \"Year\": 2005, \"H_idx\": 402.655}, {\"State\": \"WA\", \"Year\": 2006, \"H_idx\": 465.5525}, {\"State\": \"WA\", \"Year\": 2007, \"H_idx\": 498.045}, {\"State\": \"WA\", \"Year\": 2008, \"H_idx\": 484.865}, {\"State\": \"WA\", \"Year\": 2009, \"H_idx\": 443.8275}, {\"State\": \"WA\", \"Year\": 2010, \"H_idx\": 414.1575}, {\"State\": \"WA\", \"Year\": 2011, \"H_idx\": 386.885}, {\"State\": \"WA\", \"Year\": 2012, \"H_idx\": 381.16499999999996}, {\"State\": \"WA\", \"Year\": 2013, \"H_idx\": 400.59}, {\"State\": \"WA\", \"Year\": 2014, \"H_idx\": 427.9175}, {\"State\": \"WA\", \"Year\": 2015, \"H_idx\": 462.6625}, {\"State\": \"WA\", \"Year\": 2016, \"H_idx\": 510.34000000000003}, {\"State\": \"WA\", \"Year\": 2017, \"H_idx\": 563.5074999999999}, {\"State\": \"WA\", \"Year\": 2018, \"H_idx\": 616.8025}, {\"State\": \"WA\", \"Year\": 2019, \"H_idx\": 651.125}, {\"State\": \"WA\", \"Year\": 2020, \"H_idx\": 695.6575}, {\"State\": \"WA\", \"Year\": 2021, \"H_idx\": 814.1225}, {\"State\": \"WA\", \"Year\": 2022, \"H_idx\": 948.685}, {\"State\": \"WI\", \"Year\": 1975, \"H_idx\": 64.5575}, {\"State\": \"WI\", \"Year\": 1976, \"H_idx\": 66.745}, {\"State\": \"WI\", \"Year\": 1977, \"H_idx\": 76.9825}, {\"State\": \"WI\", \"Year\": 1978, \"H_idx\": 88.9525}, {\"State\": \"WI\", \"Year\": 1979, \"H_idx\": 99.045}, {\"State\": \"WI\", \"Year\": 1980, \"H_idx\": 101.895}, {\"State\": \"WI\", \"Year\": 1981, \"H_idx\": 100.0725}, {\"State\": \"WI\", \"Year\": 1982, \"H_idx\": 95.185}, {\"State\": \"WI\", \"Year\": 1983, \"H_idx\": 105.5725}, {\"State\": \"WI\", \"Year\": 1984, \"H_idx\": 107.14}, {\"State\": \"WI\", \"Year\": 1985, \"H_idx\": 109.8575}, {\"State\": \"WI\", \"Year\": 1986, \"H_idx\": 113.67}, {\"State\": \"WI\", \"Year\": 1987, \"H_idx\": 117.4675}, {\"State\": \"WI\", \"Year\": 1988, \"H_idx\": 123.07249999999999}, {\"State\": \"WI\", \"Year\": 1989, \"H_idx\": 129.8025}, {\"State\": \"WI\", \"Year\": 1990, \"H_idx\": 136.48250000000002}, {\"State\": \"WI\", \"Year\": 1991, \"H_idx\": 143.0225}, {\"State\": \"WI\", \"Year\": 1992, \"H_idx\": 150.7175}, {\"State\": \"WI\", \"Year\": 1993, \"H_idx\": 158.2725}, {\"State\": \"WI\", \"Year\": 1994, \"H_idx\": 172.24}, {\"State\": \"WI\", \"Year\": 1995, \"H_idx\": 182.76}, {\"State\": \"WI\", \"Year\": 1996, \"H_idx\": 191.1775}, {\"State\": \"WI\", \"Year\": 1997, \"H_idx\": 199.6725}, {\"State\": \"WI\", \"Year\": 1998, \"H_idx\": 207.4275}, {\"State\": \"WI\", \"Year\": 1999, \"H_idx\": 217.85250000000002}, {\"State\": \"WI\", \"Year\": 2000, \"H_idx\": 231.1775}, {\"State\": \"WI\", \"Year\": 2001, \"H_idx\": 243.34}, {\"State\": \"WI\", \"Year\": 2002, \"H_idx\": 255.60249999999996}, {\"State\": \"WI\", \"Year\": 2003, \"H_idx\": 267.8275}, {\"State\": \"WI\", \"Year\": 2004, \"H_idx\": 289.515}, {\"State\": \"WI\", \"Year\": 2005, \"H_idx\": 312.0775}, {\"State\": \"WI\", \"Year\": 2006, \"H_idx\": 322.63}, {\"State\": \"WI\", \"Year\": 2007, \"H_idx\": 326.72749999999996}, {\"State\": \"WI\", \"Year\": 2008, \"H_idx\": 321.395}, {\"State\": \"WI\", \"Year\": 2009, \"H_idx\": 311.98}, {\"State\": \"WI\", \"Year\": 2010, \"H_idx\": 302.4775}, {\"State\": \"WI\", \"Year\": 2011, \"H_idx\": 293.40250000000003}, {\"State\": \"WI\", \"Year\": 2012, \"H_idx\": 291.1225}, {\"State\": \"WI\", \"Year\": 2013, \"H_idx\": 290.57}, {\"State\": \"WI\", \"Year\": 2014, \"H_idx\": 294.53499999999997}, {\"State\": \"WI\", \"Year\": 2015, \"H_idx\": 304.4025}, {\"State\": \"WI\", \"Year\": 2016, \"H_idx\": 316.5125}, {\"State\": \"WI\", \"Year\": 2017, \"H_idx\": 332.315}, {\"State\": \"WI\", \"Year\": 2018, \"H_idx\": 350.325}, {\"State\": \"WI\", \"Year\": 2019, \"H_idx\": 367.0425}, {\"State\": \"WI\", \"Year\": 2020, \"H_idx\": 383.4675}, {\"State\": \"WI\", \"Year\": 2021, \"H_idx\": 428.255}, {\"State\": \"WI\", \"Year\": 2022, \"H_idx\": 495.15}, {\"State\": \"WV\", \"Year\": 1975, \"H_idx\": 62.1275}, {\"State\": \"WV\", \"Year\": 1976, \"H_idx\": 65.1225}, {\"State\": \"WV\", \"Year\": 1977, \"H_idx\": 78.0075}, {\"State\": \"WV\", \"Year\": 1978, \"H_idx\": 83.3}, {\"State\": \"WV\", \"Year\": 1979, \"H_idx\": 89.09}, {\"State\": \"WV\", \"Year\": 1980, \"H_idx\": 106.2875}, {\"State\": \"WV\", \"Year\": 1981, \"H_idx\": 103.1}, {\"State\": \"WV\", \"Year\": 1982, \"H_idx\": 88.235}, {\"State\": \"WV\", \"Year\": 1983, \"H_idx\": 93.9525}, {\"State\": \"WV\", \"Year\": 1984, \"H_idx\": 93.2325}, {\"State\": \"WV\", \"Year\": 1985, \"H_idx\": 92.1525}, {\"State\": \"WV\", \"Year\": 1986, \"H_idx\": 96.5575}, {\"State\": \"WV\", \"Year\": 1987, \"H_idx\": 97.245}, {\"State\": \"WV\", \"Year\": 1988, \"H_idx\": 98.375}, {\"State\": \"WV\", \"Year\": 1989, \"H_idx\": 100.7175}, {\"State\": \"WV\", \"Year\": 1990, \"H_idx\": 103.29}, {\"State\": \"WV\", \"Year\": 1991, \"H_idx\": 106.7825}, {\"State\": \"WV\", \"Year\": 1992, \"H_idx\": 111.91}, {\"State\": \"WV\", \"Year\": 1993, \"H_idx\": 117.2975}, {\"State\": \"WV\", \"Year\": 1994, \"H_idx\": 123.575}, {\"State\": \"WV\", \"Year\": 1995, \"H_idx\": 129.275}, {\"State\": \"WV\", \"Year\": 1996, \"H_idx\": 133.92}, {\"State\": \"WV\", \"Year\": 1997, \"H_idx\": 137.935}, {\"State\": \"WV\", \"Year\": 1998, \"H_idx\": 144.62}, {\"State\": \"WV\", \"Year\": 1999, \"H_idx\": 147.2375}, {\"State\": \"WV\", \"Year\": 2000, \"H_idx\": 149.64249999999998}, {\"State\": \"WV\", \"Year\": 2001, \"H_idx\": 157.695}, {\"State\": \"WV\", \"Year\": 2002, \"H_idx\": 163.155}, {\"State\": \"WV\", \"Year\": 2003, \"H_idx\": 169.3325}, {\"State\": \"WV\", \"Year\": 2004, \"H_idx\": 179.8975}, {\"State\": \"WV\", \"Year\": 2005, \"H_idx\": 197.56}, {\"State\": \"WV\", \"Year\": 2006, \"H_idx\": 209.1275}, {\"State\": \"WV\", \"Year\": 2007, \"H_idx\": 213.45749999999998}, {\"State\": \"WV\", \"Year\": 2008, \"H_idx\": 212.4275}, {\"State\": \"WV\", \"Year\": 2009, \"H_idx\": 208.29}, {\"State\": \"WV\", \"Year\": 2010, \"H_idx\": 205.6}, {\"State\": \"WV\", \"Year\": 2011, \"H_idx\": 202.4525}, {\"State\": \"WV\", \"Year\": 2012, \"H_idx\": 203.5575}, {\"State\": \"WV\", \"Year\": 2013, \"H_idx\": 206.4125}, {\"State\": \"WV\", \"Year\": 2014, \"H_idx\": 210.4925}, {\"State\": \"WV\", \"Year\": 2015, \"H_idx\": 215.365}, {\"State\": \"WV\", \"Year\": 2016, \"H_idx\": 219.64249999999998}, {\"State\": \"WV\", \"Year\": 2017, \"H_idx\": 221.745}, {\"State\": \"WV\", \"Year\": 2018, \"H_idx\": 226.9775}, {\"State\": \"WV\", \"Year\": 2019, \"H_idx\": 232.3325}, {\"State\": \"WV\", \"Year\": 2020, \"H_idx\": 242.1325}, {\"State\": \"WV\", \"Year\": 2021, \"H_idx\": 265.3675}, {\"State\": \"WV\", \"Year\": 2022, \"H_idx\": 297.255}, {\"State\": \"WY\", \"Year\": 1975, \"H_idx\": 50.155}, {\"State\": \"WY\", \"Year\": 1976, \"H_idx\": 57.7025}, {\"State\": \"WY\", \"Year\": 1977, \"H_idx\": 66.475}, {\"State\": \"WY\", \"Year\": 1978, \"H_idx\": 77.54}, {\"State\": \"WY\", \"Year\": 1979, \"H_idx\": 93.3325}, {\"State\": \"WY\", \"Year\": 1980, \"H_idx\": 98.355}, {\"State\": \"WY\", \"Year\": 1981, \"H_idx\": 108.7625}, {\"State\": \"WY\", \"Year\": 1982, \"H_idx\": 109.89}, {\"State\": \"WY\", \"Year\": 1983, \"H_idx\": 104.52}, {\"State\": \"WY\", \"Year\": 1984, \"H_idx\": 97.3975}, {\"State\": \"WY\", \"Year\": 1985, \"H_idx\": 95.01}, {\"State\": \"WY\", \"Year\": 1986, \"H_idx\": 94.985}, {\"State\": \"WY\", \"Year\": 1987, \"H_idx\": 85.4475}, {\"State\": \"WY\", \"Year\": 1988, \"H_idx\": 79.8075}, {\"State\": \"WY\", \"Year\": 1989, \"H_idx\": 81.705}, {\"State\": \"WY\", \"Year\": 1990, \"H_idx\": 88.34}, {\"State\": \"WY\", \"Year\": 1991, \"H_idx\": 93.28999999999999}, {\"State\": \"WY\", \"Year\": 1992, \"H_idx\": 99.13}, {\"State\": \"WY\", \"Year\": 1993, \"H_idx\": 106.9075}, {\"State\": \"WY\", \"Year\": 1994, \"H_idx\": 117.9075}, {\"State\": \"WY\", \"Year\": 1995, \"H_idx\": 126.89750000000001}, {\"State\": \"WY\", \"Year\": 1996, \"H_idx\": 133.315}, {\"State\": \"WY\", \"Year\": 1997, \"H_idx\": 137.39249999999998}, {\"State\": \"WY\", \"Year\": 1998, \"H_idx\": 142.29}, {\"State\": \"WY\", \"Year\": 1999, \"H_idx\": 146.195}, {\"State\": \"WY\", \"Year\": 2000, \"H_idx\": 152.5675}, {\"State\": \"WY\", \"Year\": 2001, \"H_idx\": 161.305}, {\"State\": \"WY\", \"Year\": 2002, \"H_idx\": 171.665}, {\"State\": \"WY\", \"Year\": 2003, \"H_idx\": 182.235}, {\"State\": \"WY\", \"Year\": 2004, \"H_idx\": 199.1625}, {\"State\": \"WY\", \"Year\": 2005, \"H_idx\": 221.84}, {\"State\": \"WY\", \"Year\": 2006, \"H_idx\": 250.0325}, {\"State\": \"WY\", \"Year\": 2007, \"H_idx\": 274.6475}, {\"State\": \"WY\", \"Year\": 2008, \"H_idx\": 280.40500000000003}, {\"State\": \"WY\", \"Year\": 2009, \"H_idx\": 275.425}, {\"State\": \"WY\", \"Year\": 2010, \"H_idx\": 266.72}, {\"State\": \"WY\", \"Year\": 2011, \"H_idx\": 262.865}, {\"State\": \"WY\", \"Year\": 2012, \"H_idx\": 266.4975}, {\"State\": \"WY\", \"Year\": 2013, \"H_idx\": 272.49}, {\"State\": \"WY\", \"Year\": 2014, \"H_idx\": 280.85749999999996}, {\"State\": \"WY\", \"Year\": 2015, \"H_idx\": 290.8325}, {\"State\": \"WY\", \"Year\": 2016, \"H_idx\": 296.8375}, {\"State\": \"WY\", \"Year\": 2017, \"H_idx\": 300.9175}, {\"State\": \"WY\", \"Year\": 2018, \"H_idx\": 311.6125}, {\"State\": \"WY\", \"Year\": 2019, \"H_idx\": 324.7325}, {\"State\": \"WY\", \"Year\": 2020, \"H_idx\": 341.1325}, {\"State\": \"WY\", \"Year\": 2021, \"H_idx\": 380.9475}, {\"State\": \"WY\", \"Year\": 2022, \"H_idx\": 440.4025}]}}, {\"mode\": \"vega-lite\"});\n",
       "</script>"
      ],
      "text/plain": [
       "alt.VConcatChart(...)"
      ]
     },
     "execution_count": 3,
     "metadata": {},
     "output_type": "execute_result"
    }
   ],
   "source": [
    "# | warning: false\n",
    "# The bar plot \n",
    "# make the bar can be selected, and selected based on the name od the appliances\n",
    "selection = alt.selection_single(fields=['State'],name='Random')\n",
    "color = alt.condition(selection,\n",
    "                      alt.value('steelblue'),         # the selected bar's color is steelblue\n",
    "                      alt.value('lightgray'))         # unselected bars is lightgray\n",
    "\n",
    "bar=(alt.Chart(df2_year)\n",
    " .mark_bar()\n",
    " .encode(y='mean(H_idx):Q',            # y is the value of the sum of the power\n",
    "         x=alt.X('State:N',            # x is the appliances, and each appliances is the sum of the power, \n",
    "         sort=alt.EncodingSortField(field='H_idx', op='mean',     \n",
    "                            order='descending')),  # and they are in descending order according to the sum of the power\n",
    "         color=color\n",
    "    \n",
    "        )\n",
    ").add_selection(selection)           # the selection and the color are defined above\n",
    "\n",
    "# set for the title, xlabel, and ylabel.\n",
    "bar.title =\"Mean of the House Price Indexes in each State in US from 1975 to 2022\"\n",
    "bar.encoding.x.title = 'State'\n",
    "bar.encoding.y.title = 'Mean of the House Price Indexes'\n",
    "\n",
    "\n",
    "# The corresponding line plot for the selected appliances.\n",
    "color2 = alt.condition(selection,\n",
    "                      alt.Color('State:N', legend=None),                # The color is based on the selected appliance\n",
    "#                       alt.value('steelblue'),\n",
    "                      alt.value('lightgray'))             # unselected is dark gray\n",
    "\n",
    "line1=(alt.Chart(df2_year)\n",
    " .mark_line()                                                     # line plot\n",
    " .encode(x=alt.X('Year:O',axis=alt.Axis(labelAngle=-45)),          # x is the hour\n",
    "         y='mean(H_idx):Q',                                      # y is the sum of the power\n",
    "         color=color2,                                 # selection of the color is defined above\n",
    "         opacity=alt.condition(selection, alt.value(1.0), alt.value(0.1))\n",
    "    \n",
    "        )\n",
    ")\n",
    "\n",
    "# set the title, x label, and y label\n",
    "line1.title =\"House Price Indexes in each State in US from 1975 to 2022\"\n",
    "line1.encoding.x.title = 'Year'\n",
    "line1.encoding.y.title = 'House Price Indexes'\n",
    "\n",
    "# plot horizontally \n",
    "bar & line1"
   ]
  },
  {
   "attachments": {},
   "cell_type": "markdown",
   "metadata": {},
   "source": [
    "<br>\n",
    "\n",
    "*Intrinsic factors that affect the housing price*"
   ]
  },
  {
   "cell_type": "code",
   "execution_count": 4,
   "metadata": {},
   "outputs": [],
   "source": [
    "# | echo: false\n",
    "df1=pd.read_csv(\"../data/Housing.csv\")\n",
    "df1=df1.drop(columns=['hotwaterheating', 'prefarea'])"
   ]
  },
  {
   "cell_type": "code",
   "execution_count": 5,
   "metadata": {},
   "outputs": [],
   "source": [
    "# | echo: false\n",
    "df1_area=df1[[\"price\",\"area\"]].groupby([\"area\"]).mean().reset_index()\n",
    "\n",
    "df1_bed=df1[[\"price\",\"bedrooms\"]].groupby([\"bedrooms\"]).mean().reset_index()\n",
    "\n",
    "df1_bath=df1[[\"price\",\"bathrooms\"]].groupby([\"bathrooms\"]).mean().reset_index()\n",
    "\n",
    "df1_stories=df1[[\"price\",\"stories\"]].groupby([\"stories\"]).mean().reset_index()\n",
    "\n",
    "df1_mainroad=df1[[\"price\",\"mainroad\"]].groupby([\"mainroad\"]).mean().reset_index()\n",
    "\n",
    "df1_guestroom=df1[[\"price\",\"guestroom\"]].groupby([\"guestroom\"]).mean().reset_index()\n",
    "\n",
    "df1_basement=df1[[\"price\",\"basement\"]].groupby([\"basement\"]).mean().reset_index()\n",
    "\n",
    "df1_air=df1[[\"price\",\"airconditioning\"]].groupby([\"airconditioning\"]).mean().reset_index()\n",
    "\n",
    "df1_parking=df1[[\"price\",\"parking\"]].groupby([\"parking\"]).mean().reset_index()\n",
    "\n",
    "df1_fur=df1[[\"price\",\"furnishingstatus\"]].groupby([\"furnishingstatus\"]).mean().reset_index()"
   ]
  },
  {
   "cell_type": "code",
   "execution_count": 13,
   "metadata": {},
   "outputs": [
    {
     "data": {
      "text/html": [
       "        <script type=\"text/javascript\">\n",
       "        window.PlotlyConfig = {MathJaxConfig: 'local'};\n",
       "        if (window.MathJax && window.MathJax.Hub && window.MathJax.Hub.Config) {window.MathJax.Hub.Config({SVG: {font: \"STIX-Web\"}});}\n",
       "        if (typeof require !== 'undefined') {\n",
       "        require.undef(\"plotly\");\n",
       "        requirejs.config({\n",
       "            paths: {\n",
       "                'plotly': ['https://cdn.plot.ly/plotly-2.12.1.min']\n",
       "            }\n",
       "        });\n",
       "        require(['plotly'], function(Plotly) {\n",
       "            window._Plotly = Plotly;\n",
       "        });\n",
       "        }\n",
       "        </script>\n",
       "        "
      ]
     },
     "metadata": {},
     "output_type": "display_data"
    },
    {
     "data": {
      "application/vnd.plotly.v1+json": {
       "config": {
        "plotlyServerURL": "https://plot.ly"
       },
       "data": [
        {
         "mode": "markers",
         "type": "scatter",
         "visible": true,
         "x": [
          1650,
          1700,
          1836,
          1905,
          1950,
          2000,
          2015,
          2135,
          2145,
          2160,
          2175,
          2176,
          2275,
          2325,
          2398,
          2400,
          2430,
          2475,
          2500,
          2520,
          2550,
          2610,
          2640,
          2650,
          2684,
          2700,
          2747,
          2787,
          2800,
          2817,
          2835,
          2850,
          2856,
          2870,
          2880,
          2910,
          2953,
          2970,
          2990,
          3000,
          3036,
          3040,
          3060,
          3069,
          3090,
          3100,
          3120,
          3150,
          3162,
          3180,
          3185,
          3210,
          3240,
          3264,
          3290,
          3300,
          3350,
          3360,
          3400,
          3410,
          3420,
          3450,
          3460,
          3480,
          3500,
          3510,
          3512,
          3520,
          3540,
          3570,
          3584,
          3600,
          3620,
          3630,
          3635,
          3640,
          3649,
          3650,
          3660,
          3680,
          3700,
          3720,
          3745,
          3750,
          3760,
          3780,
          3792,
          3800,
          3816,
          3840,
          3850,
          3880,
          3900,
          3930,
          3934,
          3960,
          3968,
          3970,
          3986,
          3990,
          4000,
          4032,
          4040,
          4046,
          4050,
          4075,
          4079,
          4080,
          4095,
          4100,
          4120,
          4130,
          4160,
          4200,
          4240,
          4260,
          4280,
          4300,
          4320,
          4340,
          4350,
          4352,
          4360,
          4370,
          4400,
          4410,
          4500,
          4510,
          4520,
          4560,
          4600,
          4632,
          4640,
          4646,
          4700,
          4750,
          4770,
          4775,
          4785,
          4800,
          4815,
          4820,
          4840,
          4880,
          4900,
          4920,
          4950,
          4960,
          4990,
          4992,
          4995,
          5000,
          5010,
          5020,
          5040,
          5076,
          5136,
          5150,
          5170,
          5200,
          5300,
          5320,
          5360,
          5400,
          5450,
          5495,
          5500,
          5600,
          5640,
          5680,
          5700,
          5720,
          5750,
          5800,
          5828,
          5830,
          5850,
          5880,
          5885,
          5900,
          5948,
          5960,
          5985,
          6000,
          6020,
          6040,
          6050,
          6060,
          6100,
          6210,
          6240,
          6254,
          6300,
          6321,
          6325,
          6350,
          6360,
          6400,
          6420,
          6440,
          6450,
          6480,
          6500,
          6525,
          6540,
          6550,
          6600,
          6615,
          6650,
          6660,
          6670,
          6710,
          6720,
          6750,
          6800,
          6825,
          6840,
          6862,
          6900,
          6930,
          7000,
          7020,
          7085,
          7152,
          7155,
          7160,
          7200,
          7231,
          7260,
          7320,
          7350,
          7410,
          7420,
          7424,
          7440,
          7475,
          7482,
          7500,
          7600,
          7680,
          7686,
          7700,
          7770,
          7800,
          7950,
          7980,
          8000,
          8050,
          8080,
          8100,
          8150,
          8250,
          8372,
          8400,
          8500,
          8520,
          8580,
          8800,
          8875,
          8880,
          8960,
          9000,
          9166,
          9500,
          9620,
          9667,
          9800,
          9860,
          9960,
          10240,
          10269,
          10360,
          10500,
          10700,
          11175,
          11410,
          11440,
          11460,
          12090,
          12900,
          12944,
          13200,
          15600,
          16200
         ],
         "y": [
          3150000,
          1890000,
          2275000,
          4340000,
          2835000,
          2660000,
          3850000,
          3500000,
          3606166.6666666665,
          3080000,
          4270000,
          3850000,
          3640000,
          4200000,
          3118850,
          1933575,
          2660000,
          2380000,
          3290000,
          3773000,
          4550000,
          3815000,
          2835000,
          2800000,
          3220000,
          3146500,
          4200000,
          3307500,
          3808000,
          5495000,
          3010000,
          3640000,
          3780000,
          4620000,
          3461500,
          2177000,
          4200000,
          4900000,
          1855000,
          3309000,
          3500000,
          2870000,
          3465000,
          3150000,
          3045000,
          3360000,
          3474333.3333333335,
          3946250,
          4473000,
          3530000,
          3147666.6666666665,
          2450000,
          3855833.3333333335,
          2380000,
          3920000,
          4182500,
          3836000,
          2100000,
          4277000,
          5145000,
          3850000,
          3680600,
          4016250,
          3227000,
          4275833.333333333,
          4494000,
          3500000,
          4107600,
          5040000,
          3640000,
          3710000,
          3360437.5,
          1750000,
          3515000,
          2408000,
          3542000,
          1890000,
          4515000,
          2940000,
          4095000,
          5950000,
          3360000,
          4655000,
          3605000,
          5530000,
          3885000,
          3290000,
          4147500,
          3920000,
          4585000,
          3136000,
          4620000,
          4375000,
          3255000,
          2660000,
          4421666.666666667,
          4410000,
          2275000,
          3150000,
          3500000,
          4040272.727272727,
          4319000,
          4139000,
          4165000,
          3850000,
          4340000,
          4200000,
          4007500,
          4025000,
          4944333.333333333,
          4130000,
          3640000,
          4725000,
          4907000,
          3500000,
          5950000,
          3640000,
          6769000,
          5180000,
          4060000,
          3850000,
          2975000,
          4270000,
          3220000,
          3736250,
          4585000,
          4031192.3076923075,
          4546500,
          4900000,
          8645000,
          4977000,
          4130000,
          5740000,
          4900000,
          5600000,
          3360000,
          4900000,
          3325000,
          3395000,
          5742800,
          4830000,
          3780000,
          3307500,
          6349000,
          3951500,
          4403000,
          4382000,
          3126666.6666666665,
          4543000,
          4060000,
          4893000,
          5926666.666666667,
          4620000,
          6720000,
          4200000,
          3010000,
          5600000,
          7350000,
          4690000,
          4331250,
          3777666.6666666665,
          4007500,
          4550000,
          4631666.666666667,
          4931500,
          3129000,
          5762555.555555556,
          4095000,
          3675000,
          4620000,
          6650000,
          5075000,
          9800000,
          4946666.666666667,
          5810000,
          3780000,
          3570000,
          3395000,
          4480000,
          3780000,
          4935000,
          5915000,
          4130000,
          7051479.166666667,
          3710000,
          4830000,
          5243000,
          3706500,
          5366666.666666667,
          5460000,
          7070000,
          5950000,
          4900000,
          4760000,
          7420000,
          6195000,
          5604000,
          6300000,
          6895000,
          4753000,
          4861500,
          5845000,
          6265000,
          5950000,
          6580000,
          8592500,
          6443111.111111111,
          4515000,
          4235000,
          5652500,
          6510000,
          5390000,
          4900000,
          4784500,
          4375000,
          5425000,
          8120000,
          4830000,
          5771500,
          3773000,
          6255788,
          5950000,
          5229000,
          3850000,
          8680000,
          5880000,
          5757500,
          5950000,
          3920000,
          5950000,
          3500000,
          6475000,
          12355000,
          3500000,
          7420000,
          8400000,
          8043000,
          11532500,
          5040000,
          7210000,
          4970000,
          4672500,
          4270000,
          7280000,
          8400000,
          5320000,
          6020000,
          5824000,
          3920000,
          5917333.333333333,
          5005000,
          4739000,
          6090000,
          4526666.666666667,
          8960000,
          5250000,
          8295000,
          8575000,
          8400000,
          7000000,
          12250000,
          6168750,
          4760000,
          3500000,
          6083000,
          4690000,
          5250000,
          4515000,
          12250000,
          4760000,
          5250000,
          4305000,
          5938333.333333333,
          5040000,
          7000000,
          5110000,
          7343000,
          5873000,
          6790000,
          4900000,
          3500000,
          8365000,
          5943000,
          10150000
         ]
        },
        {
         "type": "bar",
         "visible": false,
         "x": [
          "1",
          "2",
          "3",
          "4",
          "5",
          "6"
         ],
         "y": [
          2712500,
          3632022.0588235296,
          4954598.133333334,
          5729757.894736842,
          5819800,
          4791500
         ]
        },
        {
         "type": "bar",
         "visible": false,
         "x": [
          "1",
          "2",
          "3",
          "4"
         ],
         "y": [
          4206912.718204489,
          6209206.315789473,
          7282100,
          12250000
         ]
        },
        {
         "type": "bar",
         "visible": false,
         "x": [
          "1",
          "2",
          "3",
          "4"
         ],
         "y": [
          "1",
          "2",
          "3",
          "4"
         ]
        },
        {
         "type": "bar",
         "visible": false,
         "x": [
          "no",
          "yes"
         ],
         "y": [
          3398904.5454545454,
          4991777.329059829
         ]
        },
        {
         "type": "bar",
         "visible": false,
         "x": [
          "no",
          "yes"
         ],
         "y": [
          4544545.625,
          5792896.907216495
         ]
        },
        {
         "type": "bar",
         "visible": false,
         "x": [
          "no",
          "yes"
         ],
         "y": [
          4509965.93220339,
          5242615.183246073
         ]
        },
        {
         "type": "bar",
         "visible": false,
         "x": [
          "no",
          "yes"
         ],
         "y": [
          4191939.678284182,
          6013220.5813953485
         ]
        },
        {
         "type": "bar",
         "visible": false,
         "x": [
          "0",
          "1",
          "2",
          "3"
         ],
         "y": [
          4136016.722408027,
          5190388.888888889,
          5896328.148148148,
          5867166.666666667
         ]
        },
        {
         "type": "bar",
         "visible": false,
         "x": [
          "furnished",
          "semi-furnished",
          "unfurnished"
         ],
         "y": [
          5495696,
          4907524.22907489,
          4013831.4606741574
         ]
        }
       ],
       "layout": {
        "template": {
         "data": {
          "bar": [
           {
            "error_x": {
             "color": "#2a3f5f"
            },
            "error_y": {
             "color": "#2a3f5f"
            },
            "marker": {
             "line": {
              "color": "white",
              "width": 0.5
             },
             "pattern": {
              "fillmode": "overlay",
              "size": 10,
              "solidity": 0.2
             }
            },
            "type": "bar"
           }
          ],
          "barpolar": [
           {
            "marker": {
             "line": {
              "color": "white",
              "width": 0.5
             },
             "pattern": {
              "fillmode": "overlay",
              "size": 10,
              "solidity": 0.2
             }
            },
            "type": "barpolar"
           }
          ],
          "carpet": [
           {
            "aaxis": {
             "endlinecolor": "#2a3f5f",
             "gridcolor": "#C8D4E3",
             "linecolor": "#C8D4E3",
             "minorgridcolor": "#C8D4E3",
             "startlinecolor": "#2a3f5f"
            },
            "baxis": {
             "endlinecolor": "#2a3f5f",
             "gridcolor": "#C8D4E3",
             "linecolor": "#C8D4E3",
             "minorgridcolor": "#C8D4E3",
             "startlinecolor": "#2a3f5f"
            },
            "type": "carpet"
           }
          ],
          "choropleth": [
           {
            "colorbar": {
             "outlinewidth": 0,
             "ticks": ""
            },
            "type": "choropleth"
           }
          ],
          "contour": [
           {
            "colorbar": {
             "outlinewidth": 0,
             "ticks": ""
            },
            "colorscale": [
             [
              0,
              "#0d0887"
             ],
             [
              0.1111111111111111,
              "#46039f"
             ],
             [
              0.2222222222222222,
              "#7201a8"
             ],
             [
              0.3333333333333333,
              "#9c179e"
             ],
             [
              0.4444444444444444,
              "#bd3786"
             ],
             [
              0.5555555555555556,
              "#d8576b"
             ],
             [
              0.6666666666666666,
              "#ed7953"
             ],
             [
              0.7777777777777778,
              "#fb9f3a"
             ],
             [
              0.8888888888888888,
              "#fdca26"
             ],
             [
              1,
              "#f0f921"
             ]
            ],
            "type": "contour"
           }
          ],
          "contourcarpet": [
           {
            "colorbar": {
             "outlinewidth": 0,
             "ticks": ""
            },
            "type": "contourcarpet"
           }
          ],
          "heatmap": [
           {
            "colorbar": {
             "outlinewidth": 0,
             "ticks": ""
            },
            "colorscale": [
             [
              0,
              "#0d0887"
             ],
             [
              0.1111111111111111,
              "#46039f"
             ],
             [
              0.2222222222222222,
              "#7201a8"
             ],
             [
              0.3333333333333333,
              "#9c179e"
             ],
             [
              0.4444444444444444,
              "#bd3786"
             ],
             [
              0.5555555555555556,
              "#d8576b"
             ],
             [
              0.6666666666666666,
              "#ed7953"
             ],
             [
              0.7777777777777778,
              "#fb9f3a"
             ],
             [
              0.8888888888888888,
              "#fdca26"
             ],
             [
              1,
              "#f0f921"
             ]
            ],
            "type": "heatmap"
           }
          ],
          "heatmapgl": [
           {
            "colorbar": {
             "outlinewidth": 0,
             "ticks": ""
            },
            "colorscale": [
             [
              0,
              "#0d0887"
             ],
             [
              0.1111111111111111,
              "#46039f"
             ],
             [
              0.2222222222222222,
              "#7201a8"
             ],
             [
              0.3333333333333333,
              "#9c179e"
             ],
             [
              0.4444444444444444,
              "#bd3786"
             ],
             [
              0.5555555555555556,
              "#d8576b"
             ],
             [
              0.6666666666666666,
              "#ed7953"
             ],
             [
              0.7777777777777778,
              "#fb9f3a"
             ],
             [
              0.8888888888888888,
              "#fdca26"
             ],
             [
              1,
              "#f0f921"
             ]
            ],
            "type": "heatmapgl"
           }
          ],
          "histogram": [
           {
            "marker": {
             "pattern": {
              "fillmode": "overlay",
              "size": 10,
              "solidity": 0.2
             }
            },
            "type": "histogram"
           }
          ],
          "histogram2d": [
           {
            "colorbar": {
             "outlinewidth": 0,
             "ticks": ""
            },
            "colorscale": [
             [
              0,
              "#0d0887"
             ],
             [
              0.1111111111111111,
              "#46039f"
             ],
             [
              0.2222222222222222,
              "#7201a8"
             ],
             [
              0.3333333333333333,
              "#9c179e"
             ],
             [
              0.4444444444444444,
              "#bd3786"
             ],
             [
              0.5555555555555556,
              "#d8576b"
             ],
             [
              0.6666666666666666,
              "#ed7953"
             ],
             [
              0.7777777777777778,
              "#fb9f3a"
             ],
             [
              0.8888888888888888,
              "#fdca26"
             ],
             [
              1,
              "#f0f921"
             ]
            ],
            "type": "histogram2d"
           }
          ],
          "histogram2dcontour": [
           {
            "colorbar": {
             "outlinewidth": 0,
             "ticks": ""
            },
            "colorscale": [
             [
              0,
              "#0d0887"
             ],
             [
              0.1111111111111111,
              "#46039f"
             ],
             [
              0.2222222222222222,
              "#7201a8"
             ],
             [
              0.3333333333333333,
              "#9c179e"
             ],
             [
              0.4444444444444444,
              "#bd3786"
             ],
             [
              0.5555555555555556,
              "#d8576b"
             ],
             [
              0.6666666666666666,
              "#ed7953"
             ],
             [
              0.7777777777777778,
              "#fb9f3a"
             ],
             [
              0.8888888888888888,
              "#fdca26"
             ],
             [
              1,
              "#f0f921"
             ]
            ],
            "type": "histogram2dcontour"
           }
          ],
          "mesh3d": [
           {
            "colorbar": {
             "outlinewidth": 0,
             "ticks": ""
            },
            "type": "mesh3d"
           }
          ],
          "parcoords": [
           {
            "line": {
             "colorbar": {
              "outlinewidth": 0,
              "ticks": ""
             }
            },
            "type": "parcoords"
           }
          ],
          "pie": [
           {
            "automargin": true,
            "type": "pie"
           }
          ],
          "scatter": [
           {
            "fillpattern": {
             "fillmode": "overlay",
             "size": 10,
             "solidity": 0.2
            },
            "type": "scatter"
           }
          ],
          "scatter3d": [
           {
            "line": {
             "colorbar": {
              "outlinewidth": 0,
              "ticks": ""
             }
            },
            "marker": {
             "colorbar": {
              "outlinewidth": 0,
              "ticks": ""
             }
            },
            "type": "scatter3d"
           }
          ],
          "scattercarpet": [
           {
            "marker": {
             "colorbar": {
              "outlinewidth": 0,
              "ticks": ""
             }
            },
            "type": "scattercarpet"
           }
          ],
          "scattergeo": [
           {
            "marker": {
             "colorbar": {
              "outlinewidth": 0,
              "ticks": ""
             }
            },
            "type": "scattergeo"
           }
          ],
          "scattergl": [
           {
            "marker": {
             "colorbar": {
              "outlinewidth": 0,
              "ticks": ""
             }
            },
            "type": "scattergl"
           }
          ],
          "scattermapbox": [
           {
            "marker": {
             "colorbar": {
              "outlinewidth": 0,
              "ticks": ""
             }
            },
            "type": "scattermapbox"
           }
          ],
          "scatterpolar": [
           {
            "marker": {
             "colorbar": {
              "outlinewidth": 0,
              "ticks": ""
             }
            },
            "type": "scatterpolar"
           }
          ],
          "scatterpolargl": [
           {
            "marker": {
             "colorbar": {
              "outlinewidth": 0,
              "ticks": ""
             }
            },
            "type": "scatterpolargl"
           }
          ],
          "scatterternary": [
           {
            "marker": {
             "colorbar": {
              "outlinewidth": 0,
              "ticks": ""
             }
            },
            "type": "scatterternary"
           }
          ],
          "surface": [
           {
            "colorbar": {
             "outlinewidth": 0,
             "ticks": ""
            },
            "colorscale": [
             [
              0,
              "#0d0887"
             ],
             [
              0.1111111111111111,
              "#46039f"
             ],
             [
              0.2222222222222222,
              "#7201a8"
             ],
             [
              0.3333333333333333,
              "#9c179e"
             ],
             [
              0.4444444444444444,
              "#bd3786"
             ],
             [
              0.5555555555555556,
              "#d8576b"
             ],
             [
              0.6666666666666666,
              "#ed7953"
             ],
             [
              0.7777777777777778,
              "#fb9f3a"
             ],
             [
              0.8888888888888888,
              "#fdca26"
             ],
             [
              1,
              "#f0f921"
             ]
            ],
            "type": "surface"
           }
          ],
          "table": [
           {
            "cells": {
             "fill": {
              "color": "#EBF0F8"
             },
             "line": {
              "color": "white"
             }
            },
            "header": {
             "fill": {
              "color": "#C8D4E3"
             },
             "line": {
              "color": "white"
             }
            },
            "type": "table"
           }
          ]
         },
         "layout": {
          "annotationdefaults": {
           "arrowcolor": "#2a3f5f",
           "arrowhead": 0,
           "arrowwidth": 1
          },
          "autotypenumbers": "strict",
          "coloraxis": {
           "colorbar": {
            "outlinewidth": 0,
            "ticks": ""
           }
          },
          "colorscale": {
           "diverging": [
            [
             0,
             "#8e0152"
            ],
            [
             0.1,
             "#c51b7d"
            ],
            [
             0.2,
             "#de77ae"
            ],
            [
             0.3,
             "#f1b6da"
            ],
            [
             0.4,
             "#fde0ef"
            ],
            [
             0.5,
             "#f7f7f7"
            ],
            [
             0.6,
             "#e6f5d0"
            ],
            [
             0.7,
             "#b8e186"
            ],
            [
             0.8,
             "#7fbc41"
            ],
            [
             0.9,
             "#4d9221"
            ],
            [
             1,
             "#276419"
            ]
           ],
           "sequential": [
            [
             0,
             "#0d0887"
            ],
            [
             0.1111111111111111,
             "#46039f"
            ],
            [
             0.2222222222222222,
             "#7201a8"
            ],
            [
             0.3333333333333333,
             "#9c179e"
            ],
            [
             0.4444444444444444,
             "#bd3786"
            ],
            [
             0.5555555555555556,
             "#d8576b"
            ],
            [
             0.6666666666666666,
             "#ed7953"
            ],
            [
             0.7777777777777778,
             "#fb9f3a"
            ],
            [
             0.8888888888888888,
             "#fdca26"
            ],
            [
             1,
             "#f0f921"
            ]
           ],
           "sequentialminus": [
            [
             0,
             "#0d0887"
            ],
            [
             0.1111111111111111,
             "#46039f"
            ],
            [
             0.2222222222222222,
             "#7201a8"
            ],
            [
             0.3333333333333333,
             "#9c179e"
            ],
            [
             0.4444444444444444,
             "#bd3786"
            ],
            [
             0.5555555555555556,
             "#d8576b"
            ],
            [
             0.6666666666666666,
             "#ed7953"
            ],
            [
             0.7777777777777778,
             "#fb9f3a"
            ],
            [
             0.8888888888888888,
             "#fdca26"
            ],
            [
             1,
             "#f0f921"
            ]
           ]
          },
          "colorway": [
           "#636efa",
           "#EF553B",
           "#00cc96",
           "#ab63fa",
           "#FFA15A",
           "#19d3f3",
           "#FF6692",
           "#B6E880",
           "#FF97FF",
           "#FECB52"
          ],
          "font": {
           "color": "#2a3f5f"
          },
          "geo": {
           "bgcolor": "white",
           "lakecolor": "white",
           "landcolor": "white",
           "showlakes": true,
           "showland": true,
           "subunitcolor": "#C8D4E3"
          },
          "hoverlabel": {
           "align": "left"
          },
          "hovermode": "closest",
          "mapbox": {
           "style": "light"
          },
          "paper_bgcolor": "white",
          "plot_bgcolor": "white",
          "polar": {
           "angularaxis": {
            "gridcolor": "#EBF0F8",
            "linecolor": "#EBF0F8",
            "ticks": ""
           },
           "bgcolor": "white",
           "radialaxis": {
            "gridcolor": "#EBF0F8",
            "linecolor": "#EBF0F8",
            "ticks": ""
           }
          },
          "scene": {
           "xaxis": {
            "backgroundcolor": "white",
            "gridcolor": "#DFE8F3",
            "gridwidth": 2,
            "linecolor": "#EBF0F8",
            "showbackground": true,
            "ticks": "",
            "zerolinecolor": "#EBF0F8"
           },
           "yaxis": {
            "backgroundcolor": "white",
            "gridcolor": "#DFE8F3",
            "gridwidth": 2,
            "linecolor": "#EBF0F8",
            "showbackground": true,
            "ticks": "",
            "zerolinecolor": "#EBF0F8"
           },
           "zaxis": {
            "backgroundcolor": "white",
            "gridcolor": "#DFE8F3",
            "gridwidth": 2,
            "linecolor": "#EBF0F8",
            "showbackground": true,
            "ticks": "",
            "zerolinecolor": "#EBF0F8"
           }
          },
          "shapedefaults": {
           "line": {
            "color": "#2a3f5f"
           }
          },
          "ternary": {
           "aaxis": {
            "gridcolor": "#DFE8F3",
            "linecolor": "#A2B1C6",
            "ticks": ""
           },
           "baxis": {
            "gridcolor": "#DFE8F3",
            "linecolor": "#A2B1C6",
            "ticks": ""
           },
           "bgcolor": "white",
           "caxis": {
            "gridcolor": "#DFE8F3",
            "linecolor": "#A2B1C6",
            "ticks": ""
           }
          },
          "title": {
           "x": 0.05
          },
          "xaxis": {
           "automargin": true,
           "gridcolor": "#EBF0F8",
           "linecolor": "#EBF0F8",
           "ticks": "",
           "title": {
            "standoff": 15
           },
           "zerolinecolor": "#EBF0F8",
           "zerolinewidth": 2
          },
          "yaxis": {
           "automargin": true,
           "gridcolor": "#EBF0F8",
           "linecolor": "#EBF0F8",
           "ticks": "",
           "title": {
            "standoff": 15
           },
           "zerolinecolor": "#EBF0F8",
           "zerolinewidth": 2
          }
         }
        },
        "title": {
         "text": "area",
         "x": 0.1,
         "y": 0.98
        },
        "updatemenus": [
         {
          "buttons": [
           {
            "args": [
             {
              "visible": [
               true,
               false,
               false,
               false,
               false,
               false,
               false,
               false,
               false,
               false
              ]
             },
             {
              "title": "area",
              "xaxis": {
               "title": "area",
               "yaxis": "housing price"
              }
             }
            ],
            "label": "area",
            "method": "update"
           },
           {
            "args": [
             {
              "visible": [
               false,
               true,
               false,
               false,
               false,
               false,
               false,
               false,
               false,
               false
              ]
             },
             {
              "title": "bedrooms",
              "xaxis": {
               "title": "bedrooms",
               "yaxis": "housing price"
              }
             }
            ],
            "label": "bedrooms",
            "method": "update"
           },
           {
            "args": [
             {
              "visible": [
               false,
               false,
               true,
               false,
               false,
               false,
               false,
               false,
               false,
               false
              ]
             },
             {
              "title": "bathrooms",
              "xaxis": {
               "title": "bathrooms",
               "yaxis": "housing price"
              }
             }
            ],
            "label": "bathrooms",
            "method": "update"
           },
           {
            "args": [
             {
              "visible": [
               false,
               false,
               false,
               true,
               false,
               false,
               false,
               false,
               false,
               false
              ]
             },
             {
              "title": "stories",
              "xaxis": {
               "title": "stories",
               "yaxis": "housing price"
              }
             }
            ],
            "label": "stories",
            "method": "update"
           },
           {
            "args": [
             {
              "visible": [
               false,
               false,
               false,
               false,
               true,
               false,
               false,
               false,
               false,
               false
              ]
             },
             {
              "title": "mainroad",
              "xaxis": {
               "title": "mainroad",
               "yaxis": "housing price"
              }
             }
            ],
            "label": "mainroad",
            "method": "update"
           },
           {
            "args": [
             {
              "visible": [
               false,
               false,
               false,
               false,
               false,
               true,
               false,
               false,
               false,
               false
              ]
             },
             {
              "title": "guestroom",
              "xaxis": {
               "title": "guestroom",
               "yaxis": "housing price"
              }
             }
            ],
            "label": "guestroom",
            "method": "update"
           },
           {
            "args": [
             {
              "visible": [
               false,
               false,
               false,
               false,
               false,
               false,
               true,
               false,
               false,
               false
              ]
             },
             {
              "title": "basement",
              "xaxis": {
               "title": "basement",
               "yaxis": "housing price"
              }
             }
            ],
            "label": "basement",
            "method": "update"
           },
           {
            "args": [
             {
              "visible": [
               false,
               false,
               false,
               false,
               false,
               false,
               false,
               true,
               false,
               false
              ]
             },
             {
              "title": "airconditioning",
              "xaxis": {
               "title": "airconditioning",
               "yaxis": "housing price"
              }
             }
            ],
            "label": "airconditioning",
            "method": "update"
           },
           {
            "args": [
             {
              "visible": [
               false,
               false,
               false,
               false,
               false,
               false,
               false,
               false,
               true,
               false
              ]
             },
             {
              "title": "parking",
              "xaxis": {
               "title": "parking",
               "yaxis": "housing price"
              }
             }
            ],
            "label": "parking",
            "method": "update"
           },
           {
            "args": [
             {
              "visible": [
               false,
               false,
               false,
               false,
               false,
               false,
               false,
               false,
               false,
               true
              ]
             },
             {
              "title": "furnishingstatus",
              "xaxis": {
               "title": "furnishingstatus",
               "yaxis": "housing price"
              }
             }
            ],
            "label": "furnishingstatus",
            "method": "update"
           }
          ],
          "direction": "down",
          "pad": {
           "r": 10,
           "t": 10
          },
          "showactive": true,
          "x": 0,
          "xanchor": "left",
          "y": 1.2,
          "yanchor": "top"
         }
        ],
        "xaxis": {
         "title": {
          "text": "area"
         }
        },
        "yaxis": {
         "title": {
          "text": "housing price"
         }
        }
       }
      },
      "text/html": [
       "<div>                            <div id=\"edf31bf0-42cf-4b8c-8c2d-80ab1ce044b5\" class=\"plotly-graph-div\" style=\"height:525px; width:100%;\"></div>            <script type=\"text/javascript\">                require([\"plotly\"], function(Plotly) {                    window.PLOTLYENV=window.PLOTLYENV || {};                                    if (document.getElementById(\"edf31bf0-42cf-4b8c-8c2d-80ab1ce044b5\")) {                    Plotly.newPlot(                        \"edf31bf0-42cf-4b8c-8c2d-80ab1ce044b5\",                        [{\"mode\":\"markers\",\"visible\":true,\"x\":[1650,1700,1836,1905,1950,2000,2015,2135,2145,2160,2175,2176,2275,2325,2398,2400,2430,2475,2500,2520,2550,2610,2640,2650,2684,2700,2747,2787,2800,2817,2835,2850,2856,2870,2880,2910,2953,2970,2990,3000,3036,3040,3060,3069,3090,3100,3120,3150,3162,3180,3185,3210,3240,3264,3290,3300,3350,3360,3400,3410,3420,3450,3460,3480,3500,3510,3512,3520,3540,3570,3584,3600,3620,3630,3635,3640,3649,3650,3660,3680,3700,3720,3745,3750,3760,3780,3792,3800,3816,3840,3850,3880,3900,3930,3934,3960,3968,3970,3986,3990,4000,4032,4040,4046,4050,4075,4079,4080,4095,4100,4120,4130,4160,4200,4240,4260,4280,4300,4320,4340,4350,4352,4360,4370,4400,4410,4500,4510,4520,4560,4600,4632,4640,4646,4700,4750,4770,4775,4785,4800,4815,4820,4840,4880,4900,4920,4950,4960,4990,4992,4995,5000,5010,5020,5040,5076,5136,5150,5170,5200,5300,5320,5360,5400,5450,5495,5500,5600,5640,5680,5700,5720,5750,5800,5828,5830,5850,5880,5885,5900,5948,5960,5985,6000,6020,6040,6050,6060,6100,6210,6240,6254,6300,6321,6325,6350,6360,6400,6420,6440,6450,6480,6500,6525,6540,6550,6600,6615,6650,6660,6670,6710,6720,6750,6800,6825,6840,6862,6900,6930,7000,7020,7085,7152,7155,7160,7200,7231,7260,7320,7350,7410,7420,7424,7440,7475,7482,7500,7600,7680,7686,7700,7770,7800,7950,7980,8000,8050,8080,8100,8150,8250,8372,8400,8500,8520,8580,8800,8875,8880,8960,9000,9166,9500,9620,9667,9800,9860,9960,10240,10269,10360,10500,10700,11175,11410,11440,11460,12090,12900,12944,13200,15600,16200],\"y\":[3150000.0,1890000.0,2275000.0,4340000.0,2835000.0,2660000.0,3850000.0,3500000.0,3606166.6666666665,3080000.0,4270000.0,3850000.0,3640000.0,4200000.0,3118850.0,1933575.0,2660000.0,2380000.0,3290000.0,3773000.0,4550000.0,3815000.0,2835000.0,2800000.0,3220000.0,3146500.0,4200000.0,3307500.0,3808000.0,5495000.0,3010000.0,3640000.0,3780000.0,4620000.0,3461500.0,2177000.0,4200000.0,4900000.0,1855000.0,3309000.0,3500000.0,2870000.0,3465000.0,3150000.0,3045000.0,3360000.0,3474333.3333333335,3946250.0,4473000.0,3530000.0,3147666.6666666665,2450000.0,3855833.3333333335,2380000.0,3920000.0,4182500.0,3836000.0,2100000.0,4277000.0,5145000.0,3850000.0,3680600.0,4016250.0,3227000.0,4275833.333333333,4494000.0,3500000.0,4107600.0,5040000.0,3640000.0,3710000.0,3360437.5,1750000.0,3515000.0,2408000.0,3542000.0,1890000.0,4515000.0,2940000.0,4095000.0,5950000.0,3360000.0,4655000.0,3605000.0,5530000.0,3885000.0,3290000.0,4147500.0,3920000.0,4585000.0,3136000.0,4620000.0,4375000.0,3255000.0,2660000.0,4421666.666666667,4410000.0,2275000.0,3150000.0,3500000.0,4040272.727272727,4319000.0,4139000.0,4165000.0,3850000.0,4340000.0,4200000.0,4007500.0,4025000.0,4944333.333333333,4130000.0,3640000.0,4725000.0,4907000.0,3500000.0,5950000.0,3640000.0,6769000.0,5180000.0,4060000.0,3850000.0,2975000.0,4270000.0,3220000.0,3736250.0,4585000.0,4031192.3076923075,4546500.0,4900000.0,8645000.0,4977000.0,4130000.0,5740000.0,4900000.0,5600000.0,3360000.0,4900000.0,3325000.0,3395000.0,5742800.0,4830000.0,3780000.0,3307500.0,6349000.0,3951500.0,4403000.0,4382000.0,3126666.6666666665,4543000.0,4060000.0,4893000.0,5926666.666666667,4620000.0,6720000.0,4200000.0,3010000.0,5600000.0,7350000.0,4690000.0,4331250.0,3777666.6666666665,4007500.0,4550000.0,4631666.666666667,4931500.0,3129000.0,5762555.555555556,4095000.0,3675000.0,4620000.0,6650000.0,5075000.0,9800000.0,4946666.666666667,5810000.0,3780000.0,3570000.0,3395000.0,4480000.0,3780000.0,4935000.0,5915000.0,4130000.0,7051479.166666667,3710000.0,4830000.0,5243000.0,3706500.0,5366666.666666667,5460000.0,7070000.0,5950000.0,4900000.0,4760000.0,7420000.0,6195000.0,5604000.0,6300000.0,6895000.0,4753000.0,4861500.0,5845000.0,6265000.0,5950000.0,6580000.0,8592500.0,6443111.111111111,4515000.0,4235000.0,5652500.0,6510000.0,5390000.0,4900000.0,4784500.0,4375000.0,5425000.0,8120000.0,4830000.0,5771500.0,3773000.0,6255788.0,5950000.0,5229000.0,3850000.0,8680000.0,5880000.0,5757500.0,5950000.0,3920000.0,5950000.0,3500000.0,6475000.0,12355000.0,3500000.0,7420000.0,8400000.0,8043000.0,11532500.0,5040000.0,7210000.0,4970000.0,4672500.0,4270000.0,7280000.0,8400000.0,5320000.0,6020000.0,5824000.0,3920000.0,5917333.333333333,5005000.0,4739000.0,6090000.0,4526666.666666667,8960000.0,5250000.0,8295000.0,8575000.0,8400000.0,7000000.0,12250000.0,6168750.0,4760000.0,3500000.0,6083000.0,4690000.0,5250000.0,4515000.0,12250000.0,4760000.0,5250000.0,4305000.0,5938333.333333333,5040000.0,7000000.0,5110000.0,7343000.0,5873000.0,6790000.0,4900000.0,3500000.0,8365000.0,5943000.0,10150000.0],\"type\":\"scatter\"},{\"visible\":false,\"x\":[\"1\",\"2\",\"3\",\"4\",\"5\",\"6\"],\"y\":[2712500.0,3632022.0588235296,4954598.133333334,5729757.894736842,5819800.0,4791500.0],\"type\":\"bar\"},{\"visible\":false,\"x\":[\"1\",\"2\",\"3\",\"4\"],\"y\":[4206912.718204489,6209206.315789473,7282100.0,12250000.0],\"type\":\"bar\"},{\"visible\":false,\"x\":[\"1\",\"2\",\"3\",\"4\"],\"y\":[\"1\",\"2\",\"3\",\"4\"],\"type\":\"bar\"},{\"visible\":false,\"x\":[\"no\",\"yes\"],\"y\":[3398904.5454545454,4991777.329059829],\"type\":\"bar\"},{\"visible\":false,\"x\":[\"no\",\"yes\"],\"y\":[4544545.625,5792896.907216495],\"type\":\"bar\"},{\"visible\":false,\"x\":[\"no\",\"yes\"],\"y\":[4509965.93220339,5242615.183246073],\"type\":\"bar\"},{\"visible\":false,\"x\":[\"no\",\"yes\"],\"y\":[4191939.678284182,6013220.5813953485],\"type\":\"bar\"},{\"visible\":false,\"x\":[\"0\",\"1\",\"2\",\"3\"],\"y\":[4136016.722408027,5190388.888888889,5896328.148148148,5867166.666666667],\"type\":\"bar\"},{\"visible\":false,\"x\":[\"furnished\",\"semi-furnished\",\"unfurnished\"],\"y\":[5495696.0,4907524.22907489,4013831.4606741574],\"type\":\"bar\"}],                        {\"template\":{\"data\":{\"barpolar\":[{\"marker\":{\"line\":{\"color\":\"white\",\"width\":0.5},\"pattern\":{\"fillmode\":\"overlay\",\"size\":10,\"solidity\":0.2}},\"type\":\"barpolar\"}],\"bar\":[{\"error_x\":{\"color\":\"#2a3f5f\"},\"error_y\":{\"color\":\"#2a3f5f\"},\"marker\":{\"line\":{\"color\":\"white\",\"width\":0.5},\"pattern\":{\"fillmode\":\"overlay\",\"size\":10,\"solidity\":0.2}},\"type\":\"bar\"}],\"carpet\":[{\"aaxis\":{\"endlinecolor\":\"#2a3f5f\",\"gridcolor\":\"#C8D4E3\",\"linecolor\":\"#C8D4E3\",\"minorgridcolor\":\"#C8D4E3\",\"startlinecolor\":\"#2a3f5f\"},\"baxis\":{\"endlinecolor\":\"#2a3f5f\",\"gridcolor\":\"#C8D4E3\",\"linecolor\":\"#C8D4E3\",\"minorgridcolor\":\"#C8D4E3\",\"startlinecolor\":\"#2a3f5f\"},\"type\":\"carpet\"}],\"choropleth\":[{\"colorbar\":{\"outlinewidth\":0,\"ticks\":\"\"},\"type\":\"choropleth\"}],\"contourcarpet\":[{\"colorbar\":{\"outlinewidth\":0,\"ticks\":\"\"},\"type\":\"contourcarpet\"}],\"contour\":[{\"colorbar\":{\"outlinewidth\":0,\"ticks\":\"\"},\"colorscale\":[[0.0,\"#0d0887\"],[0.1111111111111111,\"#46039f\"],[0.2222222222222222,\"#7201a8\"],[0.3333333333333333,\"#9c179e\"],[0.4444444444444444,\"#bd3786\"],[0.5555555555555556,\"#d8576b\"],[0.6666666666666666,\"#ed7953\"],[0.7777777777777778,\"#fb9f3a\"],[0.8888888888888888,\"#fdca26\"],[1.0,\"#f0f921\"]],\"type\":\"contour\"}],\"heatmapgl\":[{\"colorbar\":{\"outlinewidth\":0,\"ticks\":\"\"},\"colorscale\":[[0.0,\"#0d0887\"],[0.1111111111111111,\"#46039f\"],[0.2222222222222222,\"#7201a8\"],[0.3333333333333333,\"#9c179e\"],[0.4444444444444444,\"#bd3786\"],[0.5555555555555556,\"#d8576b\"],[0.6666666666666666,\"#ed7953\"],[0.7777777777777778,\"#fb9f3a\"],[0.8888888888888888,\"#fdca26\"],[1.0,\"#f0f921\"]],\"type\":\"heatmapgl\"}],\"heatmap\":[{\"colorbar\":{\"outlinewidth\":0,\"ticks\":\"\"},\"colorscale\":[[0.0,\"#0d0887\"],[0.1111111111111111,\"#46039f\"],[0.2222222222222222,\"#7201a8\"],[0.3333333333333333,\"#9c179e\"],[0.4444444444444444,\"#bd3786\"],[0.5555555555555556,\"#d8576b\"],[0.6666666666666666,\"#ed7953\"],[0.7777777777777778,\"#fb9f3a\"],[0.8888888888888888,\"#fdca26\"],[1.0,\"#f0f921\"]],\"type\":\"heatmap\"}],\"histogram2dcontour\":[{\"colorbar\":{\"outlinewidth\":0,\"ticks\":\"\"},\"colorscale\":[[0.0,\"#0d0887\"],[0.1111111111111111,\"#46039f\"],[0.2222222222222222,\"#7201a8\"],[0.3333333333333333,\"#9c179e\"],[0.4444444444444444,\"#bd3786\"],[0.5555555555555556,\"#d8576b\"],[0.6666666666666666,\"#ed7953\"],[0.7777777777777778,\"#fb9f3a\"],[0.8888888888888888,\"#fdca26\"],[1.0,\"#f0f921\"]],\"type\":\"histogram2dcontour\"}],\"histogram2d\":[{\"colorbar\":{\"outlinewidth\":0,\"ticks\":\"\"},\"colorscale\":[[0.0,\"#0d0887\"],[0.1111111111111111,\"#46039f\"],[0.2222222222222222,\"#7201a8\"],[0.3333333333333333,\"#9c179e\"],[0.4444444444444444,\"#bd3786\"],[0.5555555555555556,\"#d8576b\"],[0.6666666666666666,\"#ed7953\"],[0.7777777777777778,\"#fb9f3a\"],[0.8888888888888888,\"#fdca26\"],[1.0,\"#f0f921\"]],\"type\":\"histogram2d\"}],\"histogram\":[{\"marker\":{\"pattern\":{\"fillmode\":\"overlay\",\"size\":10,\"solidity\":0.2}},\"type\":\"histogram\"}],\"mesh3d\":[{\"colorbar\":{\"outlinewidth\":0,\"ticks\":\"\"},\"type\":\"mesh3d\"}],\"parcoords\":[{\"line\":{\"colorbar\":{\"outlinewidth\":0,\"ticks\":\"\"}},\"type\":\"parcoords\"}],\"pie\":[{\"automargin\":true,\"type\":\"pie\"}],\"scatter3d\":[{\"line\":{\"colorbar\":{\"outlinewidth\":0,\"ticks\":\"\"}},\"marker\":{\"colorbar\":{\"outlinewidth\":0,\"ticks\":\"\"}},\"type\":\"scatter3d\"}],\"scattercarpet\":[{\"marker\":{\"colorbar\":{\"outlinewidth\":0,\"ticks\":\"\"}},\"type\":\"scattercarpet\"}],\"scattergeo\":[{\"marker\":{\"colorbar\":{\"outlinewidth\":0,\"ticks\":\"\"}},\"type\":\"scattergeo\"}],\"scattergl\":[{\"marker\":{\"colorbar\":{\"outlinewidth\":0,\"ticks\":\"\"}},\"type\":\"scattergl\"}],\"scattermapbox\":[{\"marker\":{\"colorbar\":{\"outlinewidth\":0,\"ticks\":\"\"}},\"type\":\"scattermapbox\"}],\"scatterpolargl\":[{\"marker\":{\"colorbar\":{\"outlinewidth\":0,\"ticks\":\"\"}},\"type\":\"scatterpolargl\"}],\"scatterpolar\":[{\"marker\":{\"colorbar\":{\"outlinewidth\":0,\"ticks\":\"\"}},\"type\":\"scatterpolar\"}],\"scatter\":[{\"fillpattern\":{\"fillmode\":\"overlay\",\"size\":10,\"solidity\":0.2},\"type\":\"scatter\"}],\"scatterternary\":[{\"marker\":{\"colorbar\":{\"outlinewidth\":0,\"ticks\":\"\"}},\"type\":\"scatterternary\"}],\"surface\":[{\"colorbar\":{\"outlinewidth\":0,\"ticks\":\"\"},\"colorscale\":[[0.0,\"#0d0887\"],[0.1111111111111111,\"#46039f\"],[0.2222222222222222,\"#7201a8\"],[0.3333333333333333,\"#9c179e\"],[0.4444444444444444,\"#bd3786\"],[0.5555555555555556,\"#d8576b\"],[0.6666666666666666,\"#ed7953\"],[0.7777777777777778,\"#fb9f3a\"],[0.8888888888888888,\"#fdca26\"],[1.0,\"#f0f921\"]],\"type\":\"surface\"}],\"table\":[{\"cells\":{\"fill\":{\"color\":\"#EBF0F8\"},\"line\":{\"color\":\"white\"}},\"header\":{\"fill\":{\"color\":\"#C8D4E3\"},\"line\":{\"color\":\"white\"}},\"type\":\"table\"}]},\"layout\":{\"annotationdefaults\":{\"arrowcolor\":\"#2a3f5f\",\"arrowhead\":0,\"arrowwidth\":1},\"autotypenumbers\":\"strict\",\"coloraxis\":{\"colorbar\":{\"outlinewidth\":0,\"ticks\":\"\"}},\"colorscale\":{\"diverging\":[[0,\"#8e0152\"],[0.1,\"#c51b7d\"],[0.2,\"#de77ae\"],[0.3,\"#f1b6da\"],[0.4,\"#fde0ef\"],[0.5,\"#f7f7f7\"],[0.6,\"#e6f5d0\"],[0.7,\"#b8e186\"],[0.8,\"#7fbc41\"],[0.9,\"#4d9221\"],[1,\"#276419\"]],\"sequential\":[[0.0,\"#0d0887\"],[0.1111111111111111,\"#46039f\"],[0.2222222222222222,\"#7201a8\"],[0.3333333333333333,\"#9c179e\"],[0.4444444444444444,\"#bd3786\"],[0.5555555555555556,\"#d8576b\"],[0.6666666666666666,\"#ed7953\"],[0.7777777777777778,\"#fb9f3a\"],[0.8888888888888888,\"#fdca26\"],[1.0,\"#f0f921\"]],\"sequentialminus\":[[0.0,\"#0d0887\"],[0.1111111111111111,\"#46039f\"],[0.2222222222222222,\"#7201a8\"],[0.3333333333333333,\"#9c179e\"],[0.4444444444444444,\"#bd3786\"],[0.5555555555555556,\"#d8576b\"],[0.6666666666666666,\"#ed7953\"],[0.7777777777777778,\"#fb9f3a\"],[0.8888888888888888,\"#fdca26\"],[1.0,\"#f0f921\"]]},\"colorway\":[\"#636efa\",\"#EF553B\",\"#00cc96\",\"#ab63fa\",\"#FFA15A\",\"#19d3f3\",\"#FF6692\",\"#B6E880\",\"#FF97FF\",\"#FECB52\"],\"font\":{\"color\":\"#2a3f5f\"},\"geo\":{\"bgcolor\":\"white\",\"lakecolor\":\"white\",\"landcolor\":\"white\",\"showlakes\":true,\"showland\":true,\"subunitcolor\":\"#C8D4E3\"},\"hoverlabel\":{\"align\":\"left\"},\"hovermode\":\"closest\",\"mapbox\":{\"style\":\"light\"},\"paper_bgcolor\":\"white\",\"plot_bgcolor\":\"white\",\"polar\":{\"angularaxis\":{\"gridcolor\":\"#EBF0F8\",\"linecolor\":\"#EBF0F8\",\"ticks\":\"\"},\"bgcolor\":\"white\",\"radialaxis\":{\"gridcolor\":\"#EBF0F8\",\"linecolor\":\"#EBF0F8\",\"ticks\":\"\"}},\"scene\":{\"xaxis\":{\"backgroundcolor\":\"white\",\"gridcolor\":\"#DFE8F3\",\"gridwidth\":2,\"linecolor\":\"#EBF0F8\",\"showbackground\":true,\"ticks\":\"\",\"zerolinecolor\":\"#EBF0F8\"},\"yaxis\":{\"backgroundcolor\":\"white\",\"gridcolor\":\"#DFE8F3\",\"gridwidth\":2,\"linecolor\":\"#EBF0F8\",\"showbackground\":true,\"ticks\":\"\",\"zerolinecolor\":\"#EBF0F8\"},\"zaxis\":{\"backgroundcolor\":\"white\",\"gridcolor\":\"#DFE8F3\",\"gridwidth\":2,\"linecolor\":\"#EBF0F8\",\"showbackground\":true,\"ticks\":\"\",\"zerolinecolor\":\"#EBF0F8\"}},\"shapedefaults\":{\"line\":{\"color\":\"#2a3f5f\"}},\"ternary\":{\"aaxis\":{\"gridcolor\":\"#DFE8F3\",\"linecolor\":\"#A2B1C6\",\"ticks\":\"\"},\"baxis\":{\"gridcolor\":\"#DFE8F3\",\"linecolor\":\"#A2B1C6\",\"ticks\":\"\"},\"bgcolor\":\"white\",\"caxis\":{\"gridcolor\":\"#DFE8F3\",\"linecolor\":\"#A2B1C6\",\"ticks\":\"\"}},\"title\":{\"x\":0.05},\"xaxis\":{\"automargin\":true,\"gridcolor\":\"#EBF0F8\",\"linecolor\":\"#EBF0F8\",\"ticks\":\"\",\"title\":{\"standoff\":15},\"zerolinecolor\":\"#EBF0F8\",\"zerolinewidth\":2},\"yaxis\":{\"automargin\":true,\"gridcolor\":\"#EBF0F8\",\"linecolor\":\"#EBF0F8\",\"ticks\":\"\",\"title\":{\"standoff\":15},\"zerolinecolor\":\"#EBF0F8\",\"zerolinewidth\":2}}},\"xaxis\":{\"title\":{\"text\":\"area\"}},\"yaxis\":{\"title\":{\"text\":\"housing price\"}},\"title\":{\"text\":\"area\",\"x\":0.1,\"y\":0.98},\"updatemenus\":[{\"buttons\":[{\"args\":[{\"visible\":[true,false,false,false,false,false,false,false,false,false]},{\"title\":\"area\",\"xaxis\":{\"title\":\"area\",\"yaxis\":\"housing price\"}}],\"label\":\"area\",\"method\":\"update\"},{\"args\":[{\"visible\":[false,true,false,false,false,false,false,false,false,false]},{\"title\":\"bedrooms\",\"xaxis\":{\"title\":\"bedrooms\",\"yaxis\":\"housing price\"}}],\"label\":\"bedrooms\",\"method\":\"update\"},{\"args\":[{\"visible\":[false,false,true,false,false,false,false,false,false,false]},{\"title\":\"bathrooms\",\"xaxis\":{\"title\":\"bathrooms\",\"yaxis\":\"housing price\"}}],\"label\":\"bathrooms\",\"method\":\"update\"},{\"args\":[{\"visible\":[false,false,false,true,false,false,false,false,false,false]},{\"title\":\"stories\",\"xaxis\":{\"title\":\"stories\",\"yaxis\":\"housing price\"}}],\"label\":\"stories\",\"method\":\"update\"},{\"args\":[{\"visible\":[false,false,false,false,true,false,false,false,false,false]},{\"title\":\"mainroad\",\"xaxis\":{\"title\":\"mainroad\",\"yaxis\":\"housing price\"}}],\"label\":\"mainroad\",\"method\":\"update\"},{\"args\":[{\"visible\":[false,false,false,false,false,true,false,false,false,false]},{\"title\":\"guestroom\",\"xaxis\":{\"title\":\"guestroom\",\"yaxis\":\"housing price\"}}],\"label\":\"guestroom\",\"method\":\"update\"},{\"args\":[{\"visible\":[false,false,false,false,false,false,true,false,false,false]},{\"title\":\"basement\",\"xaxis\":{\"title\":\"basement\",\"yaxis\":\"housing price\"}}],\"label\":\"basement\",\"method\":\"update\"},{\"args\":[{\"visible\":[false,false,false,false,false,false,false,true,false,false]},{\"title\":\"airconditioning\",\"xaxis\":{\"title\":\"airconditioning\",\"yaxis\":\"housing price\"}}],\"label\":\"airconditioning\",\"method\":\"update\"},{\"args\":[{\"visible\":[false,false,false,false,false,false,false,false,true,false]},{\"title\":\"parking\",\"xaxis\":{\"title\":\"parking\",\"yaxis\":\"housing price\"}}],\"label\":\"parking\",\"method\":\"update\"},{\"args\":[{\"visible\":[false,false,false,false,false,false,false,false,false,true]},{\"title\":\"furnishingstatus\",\"xaxis\":{\"title\":\"furnishingstatus\",\"yaxis\":\"housing price\"}}],\"label\":\"furnishingstatus\",\"method\":\"update\"}],\"direction\":\"down\",\"pad\":{\"r\":10,\"t\":10},\"showactive\":true,\"x\":0,\"xanchor\":\"left\",\"y\":1.2,\"yanchor\":\"top\"}]},                        {\"responsive\": true}                    ).then(function(){\n",
       "                            \n",
       "var gd = document.getElementById('edf31bf0-42cf-4b8c-8c2d-80ab1ce044b5');\n",
       "var x = new MutationObserver(function (mutations, observer) {{\n",
       "        var display = window.getComputedStyle(gd).display;\n",
       "        if (!display || display === 'none') {{\n",
       "            console.log([gd, 'removed!']);\n",
       "            Plotly.purge(gd);\n",
       "            observer.disconnect();\n",
       "        }}\n",
       "}});\n",
       "\n",
       "// Listen for the removal of the full notebook cells\n",
       "var notebookContainer = gd.closest('#notebook-container');\n",
       "if (notebookContainer) {{\n",
       "    x.observe(notebookContainer, {childList: true});\n",
       "}}\n",
       "\n",
       "// Listen for the clearing of the current output cell\n",
       "var outputEl = gd.closest('.output');\n",
       "if (outputEl) {{\n",
       "    x.observe(outputEl, {childList: true});\n",
       "}}\n",
       "\n",
       "                        })                };                });            </script>        </div>"
      ]
     },
     "metadata": {},
     "output_type": "display_data"
    }
   ],
   "source": [
    "# | warning: false\n",
    "fig = go.Figure()\n",
    "\n",
    "# area\n",
    "fig.add_trace(\n",
    "    go.Scatter(\n",
    "    x=df1_area[\"area\"],\n",
    "    y=df1_area[\"price\"],\n",
    "    mode=\"markers\",\n",
    "    visible=True)\n",
    "    )\n",
    "\n",
    "# bed room\n",
    "fig.add_trace(\n",
    "    go.Bar(\n",
    "    x=df1_bed[\"bedrooms\"].astype(\"str\"),\n",
    "    y=df1_bed[\"price\"],\n",
    "    visible=False)\n",
    "    )\n",
    "\n",
    "# bathrooms\n",
    "fig.add_trace(\n",
    "    go.Bar(\n",
    "    x=df1_bath[\"bathrooms\"].astype(\"str\"),\n",
    "    y=df1_bath[\"price\"],\n",
    "    visible=False)\n",
    "    )\n",
    "\n",
    "# stories\n",
    "fig.add_trace(\n",
    "    go.Bar(\n",
    "    x=df1_stories[\"stories\"].astype(\"str\"),\n",
    "    y=df1_stories[\"stories\"].astype(\"str\"),\n",
    "    visible=False)\n",
    "    )\n",
    "\n",
    "# mainroad\n",
    "fig.add_trace(\n",
    "    go.Bar(\n",
    "    x=df1_mainroad[\"mainroad\"].astype(\"str\"),\n",
    "    y=df1_mainroad[\"price\"],\n",
    "    visible=False)\n",
    "    )\n",
    "\n",
    "# guestroom\n",
    "fig.add_trace(\n",
    "    go.Bar(\n",
    "    x=df1_guestroom[\"guestroom\"].astype(\"str\"),\n",
    "    y=df1_guestroom[\"price\"],\n",
    "    visible=False)\n",
    "    )\n",
    "\n",
    "# basement\n",
    "fig.add_trace(\n",
    "    go.Bar(\n",
    "    x=df1_basement[\"basement\"].astype(\"str\"),\n",
    "    y=df1_basement[\"price\"],\n",
    "    visible=False)\n",
    "    )\n",
    "\n",
    "# airconditioning\n",
    "fig.add_trace(\n",
    "    go.Bar(\n",
    "    x=df1_air[\"airconditioning\"].astype(\"str\"),\n",
    "    y=df1_air[\"price\"],\n",
    "    visible=False)\n",
    "    )\n",
    "\n",
    "# parking\n",
    "fig.add_trace(\n",
    "    go.Bar(\n",
    "    x=df1_parking[\"parking\"].astype(\"str\"),\n",
    "    y=df1_parking[\"price\"],\n",
    "    visible=False)\n",
    "    )\n",
    "\n",
    "# furnishingstatus\n",
    "fig.add_trace(\n",
    "    go.Bar(\n",
    "    x=df1_fur[\"furnishingstatus\"].astype(\"str\"),\n",
    "    y=df1_fur[\"price\"],\n",
    "    visible=False)\n",
    "    )\n",
    "\n",
    "\n",
    "# create buttom\n",
    "buttons = []       # create a list for the buttons\n",
    "\n",
    "for i in range(1,len(df1.columns)):\n",
    "    visbility_list = [False] * (len(df1.columns)-1)\n",
    "    visbility_list[i-1] = True\n",
    "    buttons.append(\n",
    "        dict(label=list(df1.columns)[i],\n",
    "        method=\"update\",\n",
    "        args=[{\"visible\": visbility_list},\n",
    "        {\"title\": list(df1.columns)[i],\n",
    "        \"xaxis\": {\"title\": list(df1.columns)[i],\n",
    "        \"yaxis\": \"housing price\"}}\n",
    "        ]\n",
    "        ))\n",
    "\n",
    "\n",
    "# update the figure layout\n",
    "fig.update_layout(\n",
    "    template=\"plotly_white\",\n",
    "    xaxis_title=\"area\",\n",
    "    yaxis_title=\"housing price\",\n",
    "    title=go.layout.Title(\n",
    "        text =\"area\",\n",
    "        x=.1,\n",
    "        y=.98),\n",
    ")\n",
    "\n",
    "\n",
    "x1_loc = 0\n",
    "y1_loc = 1.2\n",
    "\n",
    "# DROPDOWN MENUS\n",
    "fig.update_layout(\n",
    "    # DEFINE A LIST OF THE VARIOUS BUTTONS (STORED AS DICTIONARIES)\n",
    "    updatemenus=[\n",
    "        # BUTTON-1: OPACITY\n",
    "        dict(\n",
    "            # NOTICE THAT THE OPTION ARE A LIST OF DICTIONARIES\n",
    "            # IMPORTANT: args specifies the key-value pairing for what to change\n",
    "            buttons=buttons,\n",
    "            # PLACEMENT AND META DATA FOR THE BUTTON\n",
    "            direction=\"down\",\n",
    "            showactive=True,  # HIGHLIGHTS ACTIVE DROPDOWN ITEM OR ACTIVE BUTTON IF TRUE\n",
    "            pad={\"r\": 10, \"t\": 10},  # PADDING\n",
    "            x=x1_loc,  # POSITION\n",
    "            y=y1_loc,\n",
    "            xanchor=\"left\",  # ANCHOR POINT\n",
    "            yanchor=\"top\",\n",
    "        )\n",
    "    ]\n",
    ")\n",
    "\n",
    "\n",
    "fig.show()"
   ]
  },
  {
   "attachments": {},
   "cell_type": "markdown",
   "metadata": {},
   "source": [
    "<br>\n",
    "\n",
    "*Relationship between Housing Price and Population & Salaries*"
   ]
  },
  {
   "cell_type": "code",
   "execution_count": 14,
   "metadata": {},
   "outputs": [],
   "source": [
    "# | echo: false\n",
    "df3= df2_year.copy()\n",
    "df3_house=df3.loc[df3[\"Year\"]==2022].reset_index(drop=True)\n",
    "df3_house[\"State_long\"]=df3_house[\"State\"]\n",
    "\n",
    "state_mapping = {\n",
    "    'AK': 'Alaska', 'AL': 'Alabama', 'AR': 'Arkansas', 'AZ': 'Arizona', 'CA': 'California',\n",
    "    'CO': 'Colorado', 'CT': 'Connecticut', 'DC': 'District of Columbia', 'DE': 'Delaware',\n",
    "    'FL': 'Florida', 'GA': 'Georgia', 'HI': 'Hawaii', 'IA': 'Iowa', 'ID': 'Idaho',\n",
    "    'IL': 'Illinois', 'IN': 'Indiana', 'KS': 'Kansas', 'KY': 'Kentucky', 'LA': 'Louisiana',\n",
    "    'MA': 'Massachusetts', 'MD': 'Maryland', 'ME': 'Maine', 'MI': 'Michigan', 'MN': 'Minnesota',\n",
    "    'MO': 'Missouri', 'MS': 'Mississippi', 'MT': 'Montana', 'NC': 'North Carolina', 'ND': 'North Dakota',\n",
    "    'NE': 'Nebraska', 'NH': 'New Hampshire', 'NJ': 'New Jersey', 'NM': 'New Mexico', 'NV': 'Nevada',\n",
    "    'NY': 'New York', 'OH': 'Ohio', 'OK': 'Oklahoma', 'OR': 'Oregon', 'PA': 'Pennsylvania',\n",
    "    'RI': 'Rhode Island', 'SC': 'South Carolina', 'SD': 'South Dakota', 'TN': 'Tennessee', 'TX': 'Texas',\n",
    "    'UT': 'Utah', 'VA': 'Virginia', 'VT': 'Vermont', 'WA': 'Washington', 'WI': 'Wisconsin',\n",
    "    'WV': 'West Virginia', 'WY': 'Wyoming'\n",
    "}\n",
    "\n",
    "df3_house[\"State_long\"]=df3_house[\"State_long\"].map(state_mapping)\n",
    "df3_house.rename(columns = {'H_idx':'Price_index'}, inplace = True)"
   ]
  },
  {
   "cell_type": "code",
   "execution_count": 15,
   "metadata": {},
   "outputs": [],
   "source": [
    "# | echo: false\n",
    "df3_salary=pd.read_csv(\"../data/Salaries_2022.csv\")\n",
    "df3_salary.columns=[\"State_long\",\"Average_Salary\",\"Median_Salary\"]\n",
    "df3_population=pd.read_csv(\"../data/Population_2022.csv\")\n",
    "df3_population.columns=[\"State_long\",\"FIPS_Code\",\"Population\"]"
   ]
  },
  {
   "cell_type": "code",
   "execution_count": 16,
   "metadata": {},
   "outputs": [],
   "source": [
    "# | echo: false\n",
    "\n",
    "from functools import reduce\n",
    "df3_list=[df3_house,df3_population,df3_salary]\n",
    "df3_use = reduce(lambda  left,right: pd.merge(left,right,on=['State_long'],how='outer'), df3_list)\n",
    "df3_use['Population']=df3_use['Population'].str.replace('\\W', '', regex=True)\n",
    "df3_use['Average_Salary']=df3_use['Average_Salary'].str.replace('\\W', '', regex=True)\n",
    "df3_use['Median_Salary']=df3_use['Median_Salary'].str.replace('\\W', '', regex=True)\n",
    "df3_use[\"Price_index\"]=round(df3_use[\"Price_index\"],2)\n",
    "\n",
    "df3_use['text1']= df3_use[\"State_long\"]+ '<br>' + \"Population: \"+ df3_use[\"Population\"].astype(\"str\") + '<br>' + \"Housing Price Index: \"+ df3_use[\"Price_index\"].astype(\"str\")\n",
    "\n",
    "df3_use['text2']= df3_use[\"State_long\"]+ '<br>' + \"Average Salary: \"+ df3_use[\"Population\"].astype(\"str\") + '<br>' + \"Housing Price Index: \"+ df3_use[\"Price_index\"].astype(\"str\")\n"
   ]
  },
  {
   "cell_type": "code",
   "execution_count": 17,
   "metadata": {},
   "outputs": [
    {
     "data": {
      "application/vnd.plotly.v1+json": {
       "config": {
        "plotlyServerURL": "https://plot.ly"
       },
       "data": [
        {
         "locationmode": "USA-states",
         "locations": [
          "AK",
          "AL",
          "AR",
          "AZ",
          "CA",
          "CO",
          "CT",
          "DC",
          "DE",
          "FL",
          "GA",
          "HI",
          "IA",
          "ID",
          "IL",
          "IN",
          "KS",
          "KY",
          "LA",
          "MA",
          "MD",
          "ME",
          "MI",
          "MN",
          "MO",
          "MS",
          "MT",
          "NC",
          "ND",
          "NE",
          "NH",
          "NJ",
          "NM",
          "NV",
          "NY",
          "OH",
          "OK",
          "OR",
          "PA",
          "RI",
          "SC",
          "SD",
          "TN",
          "TX",
          "UT",
          "VA",
          "VT",
          "WA",
          "WI",
          "WV",
          "WY"
         ],
         "marker": {
          "autocolorscale": false,
          "cmax": 1090.29,
          "cmin": 297.26,
          "color": [
           412.3,
           461.86,
           404.44,
           682,
           902.22,
           813.08,
           552.35,
           1085.4,
           636.82,
           737.44,
           562.82,
           861.73,
           388.38,
           750.64,
           441.39,
           435.38,
           396.16,
           479.13,
           356.6,
           1090.29,
           622.35,
           832.85,
           469.28,
           534.78,
           468.52,
           365.76,
           730.98,
           591.3,
           447.9,
           456.14,
           716.69,
           727.88,
           469.75,
           593.9,
           926.97,
           415.9,
           340,
           804.32,
           587.57,
           816.72,
           584.46,
           554.4,
           602.9,
           489.66,
           789.8,
           636.64,
           698.91,
           948.68,
           495.15,
           297.26,
           440.4
          ],
          "colorbar": {
           "title": {
            "text": "Housing Price Index"
           }
          },
          "line": {
           "color": "rgb(40,40,40)",
           "width": 1
          },
          "opacity": 0.8,
          "size": [
           2.7084737399502323,
           7.123409296116572,
           5.518729020345174,
           8.57857622219445,
           19.755845210974904,
           7.6419408529509045,
           6.0217979042807475,
           2.5919162795121298,
           3.1912317371196974,
           14.914698454880005,
           10.4464711745163,
           3.794991436090469,
           5.657311198794,
           4.403445242080342,
           11.216965721620085,
           8.266218603448618,
           5.419547951628438,
           6.717372998427287,
           6.775131733036636,
           8.355820725697745,
           7.8515348817922215,
           3.722015582987261,
           10.017041978548358,
           7.5612062529731325,
           7.859998091602821,
           5.422229246352463,
           3.3509207689827583,
           10.343584001689162,
           2.791524673005775,
           4.436127816012519,
           3.735279106037459,
           9.623772129471895,
           4.597112136983391,
           5.63717305038616,
           14.027526866842923,
           10.842535681287842,
           6.340189271622733,
           6.511633435628882,
           11.389472331938824,
           3.3071649490159998,
           7.268173085445889,
           3.0163288945338835,
           8.39722513691279,
           17.329042674077527,
           5.814464721709127,
           9.31859377803325,
           2.543745270265873,
           8.823710104032203,
           7.676287514156827,
           4.2132600204592165,
           2.4111843562863458
          ]
         },
         "mode": "markers",
         "text": [
          "Alaska<br>Population: 733583<br>Housing Price Index: 412.3",
          "Alabama<br>Population: 5074296<br>Housing Price Index: 461.86",
          "Arkansas<br>Population: 3045637<br>Housing Price Index: 404.44",
          "Arizona<br>Population: 7359197<br>Housing Price Index: 682.0",
          "California<br>Population: 39029342<br>Housing Price Index: 902.22",
          "Colorado<br>Population: 5839926<br>Housing Price Index: 813.08",
          "Connecticut<br>Population: 3626205<br>Housing Price Index: 552.35",
          "District of Columbia<br>Population: 671803<br>Housing Price Index: 1085.4",
          "Delaware<br>Population: 1018396<br>Housing Price Index: 636.82",
          "Florida<br>Population: 22244823<br>Housing Price Index: 737.44",
          "Georgia<br>Population: 10912876<br>Housing Price Index: 562.82",
          "Hawaii<br>Population: 1440196<br>Housing Price Index: 861.73",
          "Iowa<br>Population: 3200517<br>Housing Price Index: 388.38",
          "Idaho<br>Population: 1939033<br>Housing Price Index: 750.64",
          "Illinois<br>Population: 12582032<br>Housing Price Index: 441.39",
          "Indiana<br>Population: 6833037<br>Housing Price Index: 435.38",
          "Kansas<br>Population: 2937150<br>Housing Price Index: 396.16",
          "Kentucky<br>Population: 4512310<br>Housing Price Index: 479.13",
          "Louisiana<br>Population: 4590241<br>Housing Price Index: 356.6",
          "Massachusetts<br>Population: 6981974<br>Housing Price Index: 1090.29",
          "Maryland<br>Population: 6164660<br>Housing Price Index: 622.35",
          "Maine<br>Population: 1385340<br>Housing Price Index: 832.85",
          "Michigan<br>Population: 10034113<br>Housing Price Index: 469.28",
          "Minnesota<br>Population: 5717184<br>Housing Price Index: 534.78",
          "Missouri<br>Population: 6177957<br>Housing Price Index: 468.52",
          "Mississippi<br>Population: 2940057<br>Housing Price Index: 365.76",
          "Montana<br>Population: 1122867<br>Housing Price Index: 730.98",
          "North Carolina<br>Population: 10698973<br>Housing Price Index: 591.3",
          "North Dakota<br>Population: 779261<br>Housing Price Index: 447.9",
          "Nebraska<br>Population: 1967923<br>Housing Price Index: 456.14",
          "New Hampshire<br>Population: 1395231<br>Housing Price Index: 716.69",
          "New Jersey<br>Population: 9261699<br>Housing Price Index: 727.88",
          "New Mexico<br>Population: 2113344<br>Housing Price Index: 469.75",
          "Nevada<br>Population: 3177772<br>Housing Price Index: 593.9",
          "New York<br>Population: 19677151<br>Housing Price Index: 926.97",
          "Ohio<br>Population: 11756058<br>Housing Price Index: 415.9",
          "Oklahoma<br>Population: 4019800<br>Housing Price Index: 340.0",
          "Oregon<br>Population: 4240137<br>Housing Price Index: 804.32",
          "Pennsylvania<br>Population: 12972008<br>Housing Price Index: 587.57",
          "Rhode Island<br>Population: 1093734<br>Housing Price Index: 816.72",
          "South Carolina<br>Population: 5282634<br>Housing Price Index: 584.46",
          "South Dakota<br>Population: 909824<br>Housing Price Index: 554.4",
          "Tennessee<br>Population: 7051339<br>Housing Price Index: 602.9",
          "Texas<br>Population: 30029572<br>Housing Price Index: 489.66",
          "Utah<br>Population: 3380800<br>Housing Price Index: 789.8",
          "Virginia<br>Population: 8683619<br>Housing Price Index: 636.64",
          "Vermont<br>Population: 647064<br>Housing Price Index: 698.91",
          "Washington<br>Population: 7785786<br>Housing Price Index: 948.68",
          "Wisconsin<br>Population: 5892539<br>Housing Price Index: 495.15",
          "West Virginia<br>Population: 1775156<br>Housing Price Index: 297.26",
          "Wyoming<br>Population: 581381<br>Housing Price Index: 440.4"
         ],
         "type": "scattergeo"
        }
       ],
       "layout": {
        "geo": {
         "countrycolor": "rgb(217, 217, 217)",
         "countrywidth": 0.5,
         "landcolor": "rgb(250, 250, 250)",
         "projection": {
          "type": "albers usa"
         },
         "scope": "usa",
         "showland": true,
         "subunitcolor": "rgb(217, 217, 217)",
         "subunitwidth": 0.5
        },
        "template": {
         "data": {
          "bar": [
           {
            "error_x": {
             "color": "#2a3f5f"
            },
            "error_y": {
             "color": "#2a3f5f"
            },
            "marker": {
             "line": {
              "color": "#E5ECF6",
              "width": 0.5
             },
             "pattern": {
              "fillmode": "overlay",
              "size": 10,
              "solidity": 0.2
             }
            },
            "type": "bar"
           }
          ],
          "barpolar": [
           {
            "marker": {
             "line": {
              "color": "#E5ECF6",
              "width": 0.5
             },
             "pattern": {
              "fillmode": "overlay",
              "size": 10,
              "solidity": 0.2
             }
            },
            "type": "barpolar"
           }
          ],
          "carpet": [
           {
            "aaxis": {
             "endlinecolor": "#2a3f5f",
             "gridcolor": "white",
             "linecolor": "white",
             "minorgridcolor": "white",
             "startlinecolor": "#2a3f5f"
            },
            "baxis": {
             "endlinecolor": "#2a3f5f",
             "gridcolor": "white",
             "linecolor": "white",
             "minorgridcolor": "white",
             "startlinecolor": "#2a3f5f"
            },
            "type": "carpet"
           }
          ],
          "choropleth": [
           {
            "colorbar": {
             "outlinewidth": 0,
             "ticks": ""
            },
            "type": "choropleth"
           }
          ],
          "contour": [
           {
            "colorbar": {
             "outlinewidth": 0,
             "ticks": ""
            },
            "colorscale": [
             [
              0,
              "#0d0887"
             ],
             [
              0.1111111111111111,
              "#46039f"
             ],
             [
              0.2222222222222222,
              "#7201a8"
             ],
             [
              0.3333333333333333,
              "#9c179e"
             ],
             [
              0.4444444444444444,
              "#bd3786"
             ],
             [
              0.5555555555555556,
              "#d8576b"
             ],
             [
              0.6666666666666666,
              "#ed7953"
             ],
             [
              0.7777777777777778,
              "#fb9f3a"
             ],
             [
              0.8888888888888888,
              "#fdca26"
             ],
             [
              1,
              "#f0f921"
             ]
            ],
            "type": "contour"
           }
          ],
          "contourcarpet": [
           {
            "colorbar": {
             "outlinewidth": 0,
             "ticks": ""
            },
            "type": "contourcarpet"
           }
          ],
          "heatmap": [
           {
            "colorbar": {
             "outlinewidth": 0,
             "ticks": ""
            },
            "colorscale": [
             [
              0,
              "#0d0887"
             ],
             [
              0.1111111111111111,
              "#46039f"
             ],
             [
              0.2222222222222222,
              "#7201a8"
             ],
             [
              0.3333333333333333,
              "#9c179e"
             ],
             [
              0.4444444444444444,
              "#bd3786"
             ],
             [
              0.5555555555555556,
              "#d8576b"
             ],
             [
              0.6666666666666666,
              "#ed7953"
             ],
             [
              0.7777777777777778,
              "#fb9f3a"
             ],
             [
              0.8888888888888888,
              "#fdca26"
             ],
             [
              1,
              "#f0f921"
             ]
            ],
            "type": "heatmap"
           }
          ],
          "heatmapgl": [
           {
            "colorbar": {
             "outlinewidth": 0,
             "ticks": ""
            },
            "colorscale": [
             [
              0,
              "#0d0887"
             ],
             [
              0.1111111111111111,
              "#46039f"
             ],
             [
              0.2222222222222222,
              "#7201a8"
             ],
             [
              0.3333333333333333,
              "#9c179e"
             ],
             [
              0.4444444444444444,
              "#bd3786"
             ],
             [
              0.5555555555555556,
              "#d8576b"
             ],
             [
              0.6666666666666666,
              "#ed7953"
             ],
             [
              0.7777777777777778,
              "#fb9f3a"
             ],
             [
              0.8888888888888888,
              "#fdca26"
             ],
             [
              1,
              "#f0f921"
             ]
            ],
            "type": "heatmapgl"
           }
          ],
          "histogram": [
           {
            "marker": {
             "pattern": {
              "fillmode": "overlay",
              "size": 10,
              "solidity": 0.2
             }
            },
            "type": "histogram"
           }
          ],
          "histogram2d": [
           {
            "colorbar": {
             "outlinewidth": 0,
             "ticks": ""
            },
            "colorscale": [
             [
              0,
              "#0d0887"
             ],
             [
              0.1111111111111111,
              "#46039f"
             ],
             [
              0.2222222222222222,
              "#7201a8"
             ],
             [
              0.3333333333333333,
              "#9c179e"
             ],
             [
              0.4444444444444444,
              "#bd3786"
             ],
             [
              0.5555555555555556,
              "#d8576b"
             ],
             [
              0.6666666666666666,
              "#ed7953"
             ],
             [
              0.7777777777777778,
              "#fb9f3a"
             ],
             [
              0.8888888888888888,
              "#fdca26"
             ],
             [
              1,
              "#f0f921"
             ]
            ],
            "type": "histogram2d"
           }
          ],
          "histogram2dcontour": [
           {
            "colorbar": {
             "outlinewidth": 0,
             "ticks": ""
            },
            "colorscale": [
             [
              0,
              "#0d0887"
             ],
             [
              0.1111111111111111,
              "#46039f"
             ],
             [
              0.2222222222222222,
              "#7201a8"
             ],
             [
              0.3333333333333333,
              "#9c179e"
             ],
             [
              0.4444444444444444,
              "#bd3786"
             ],
             [
              0.5555555555555556,
              "#d8576b"
             ],
             [
              0.6666666666666666,
              "#ed7953"
             ],
             [
              0.7777777777777778,
              "#fb9f3a"
             ],
             [
              0.8888888888888888,
              "#fdca26"
             ],
             [
              1,
              "#f0f921"
             ]
            ],
            "type": "histogram2dcontour"
           }
          ],
          "mesh3d": [
           {
            "colorbar": {
             "outlinewidth": 0,
             "ticks": ""
            },
            "type": "mesh3d"
           }
          ],
          "parcoords": [
           {
            "line": {
             "colorbar": {
              "outlinewidth": 0,
              "ticks": ""
             }
            },
            "type": "parcoords"
           }
          ],
          "pie": [
           {
            "automargin": true,
            "type": "pie"
           }
          ],
          "scatter": [
           {
            "fillpattern": {
             "fillmode": "overlay",
             "size": 10,
             "solidity": 0.2
            },
            "type": "scatter"
           }
          ],
          "scatter3d": [
           {
            "line": {
             "colorbar": {
              "outlinewidth": 0,
              "ticks": ""
             }
            },
            "marker": {
             "colorbar": {
              "outlinewidth": 0,
              "ticks": ""
             }
            },
            "type": "scatter3d"
           }
          ],
          "scattercarpet": [
           {
            "marker": {
             "colorbar": {
              "outlinewidth": 0,
              "ticks": ""
             }
            },
            "type": "scattercarpet"
           }
          ],
          "scattergeo": [
           {
            "marker": {
             "colorbar": {
              "outlinewidth": 0,
              "ticks": ""
             }
            },
            "type": "scattergeo"
           }
          ],
          "scattergl": [
           {
            "marker": {
             "colorbar": {
              "outlinewidth": 0,
              "ticks": ""
             }
            },
            "type": "scattergl"
           }
          ],
          "scattermapbox": [
           {
            "marker": {
             "colorbar": {
              "outlinewidth": 0,
              "ticks": ""
             }
            },
            "type": "scattermapbox"
           }
          ],
          "scatterpolar": [
           {
            "marker": {
             "colorbar": {
              "outlinewidth": 0,
              "ticks": ""
             }
            },
            "type": "scatterpolar"
           }
          ],
          "scatterpolargl": [
           {
            "marker": {
             "colorbar": {
              "outlinewidth": 0,
              "ticks": ""
             }
            },
            "type": "scatterpolargl"
           }
          ],
          "scatterternary": [
           {
            "marker": {
             "colorbar": {
              "outlinewidth": 0,
              "ticks": ""
             }
            },
            "type": "scatterternary"
           }
          ],
          "surface": [
           {
            "colorbar": {
             "outlinewidth": 0,
             "ticks": ""
            },
            "colorscale": [
             [
              0,
              "#0d0887"
             ],
             [
              0.1111111111111111,
              "#46039f"
             ],
             [
              0.2222222222222222,
              "#7201a8"
             ],
             [
              0.3333333333333333,
              "#9c179e"
             ],
             [
              0.4444444444444444,
              "#bd3786"
             ],
             [
              0.5555555555555556,
              "#d8576b"
             ],
             [
              0.6666666666666666,
              "#ed7953"
             ],
             [
              0.7777777777777778,
              "#fb9f3a"
             ],
             [
              0.8888888888888888,
              "#fdca26"
             ],
             [
              1,
              "#f0f921"
             ]
            ],
            "type": "surface"
           }
          ],
          "table": [
           {
            "cells": {
             "fill": {
              "color": "#EBF0F8"
             },
             "line": {
              "color": "white"
             }
            },
            "header": {
             "fill": {
              "color": "#C8D4E3"
             },
             "line": {
              "color": "white"
             }
            },
            "type": "table"
           }
          ]
         },
         "layout": {
          "annotationdefaults": {
           "arrowcolor": "#2a3f5f",
           "arrowhead": 0,
           "arrowwidth": 1
          },
          "autotypenumbers": "strict",
          "coloraxis": {
           "colorbar": {
            "outlinewidth": 0,
            "ticks": ""
           }
          },
          "colorscale": {
           "diverging": [
            [
             0,
             "#8e0152"
            ],
            [
             0.1,
             "#c51b7d"
            ],
            [
             0.2,
             "#de77ae"
            ],
            [
             0.3,
             "#f1b6da"
            ],
            [
             0.4,
             "#fde0ef"
            ],
            [
             0.5,
             "#f7f7f7"
            ],
            [
             0.6,
             "#e6f5d0"
            ],
            [
             0.7,
             "#b8e186"
            ],
            [
             0.8,
             "#7fbc41"
            ],
            [
             0.9,
             "#4d9221"
            ],
            [
             1,
             "#276419"
            ]
           ],
           "sequential": [
            [
             0,
             "#0d0887"
            ],
            [
             0.1111111111111111,
             "#46039f"
            ],
            [
             0.2222222222222222,
             "#7201a8"
            ],
            [
             0.3333333333333333,
             "#9c179e"
            ],
            [
             0.4444444444444444,
             "#bd3786"
            ],
            [
             0.5555555555555556,
             "#d8576b"
            ],
            [
             0.6666666666666666,
             "#ed7953"
            ],
            [
             0.7777777777777778,
             "#fb9f3a"
            ],
            [
             0.8888888888888888,
             "#fdca26"
            ],
            [
             1,
             "#f0f921"
            ]
           ],
           "sequentialminus": [
            [
             0,
             "#0d0887"
            ],
            [
             0.1111111111111111,
             "#46039f"
            ],
            [
             0.2222222222222222,
             "#7201a8"
            ],
            [
             0.3333333333333333,
             "#9c179e"
            ],
            [
             0.4444444444444444,
             "#bd3786"
            ],
            [
             0.5555555555555556,
             "#d8576b"
            ],
            [
             0.6666666666666666,
             "#ed7953"
            ],
            [
             0.7777777777777778,
             "#fb9f3a"
            ],
            [
             0.8888888888888888,
             "#fdca26"
            ],
            [
             1,
             "#f0f921"
            ]
           ]
          },
          "colorway": [
           "#636efa",
           "#EF553B",
           "#00cc96",
           "#ab63fa",
           "#FFA15A",
           "#19d3f3",
           "#FF6692",
           "#B6E880",
           "#FF97FF",
           "#FECB52"
          ],
          "font": {
           "color": "#2a3f5f"
          },
          "geo": {
           "bgcolor": "white",
           "lakecolor": "white",
           "landcolor": "#E5ECF6",
           "showlakes": true,
           "showland": true,
           "subunitcolor": "white"
          },
          "hoverlabel": {
           "align": "left"
          },
          "hovermode": "closest",
          "mapbox": {
           "style": "light"
          },
          "paper_bgcolor": "white",
          "plot_bgcolor": "#E5ECF6",
          "polar": {
           "angularaxis": {
            "gridcolor": "white",
            "linecolor": "white",
            "ticks": ""
           },
           "bgcolor": "#E5ECF6",
           "radialaxis": {
            "gridcolor": "white",
            "linecolor": "white",
            "ticks": ""
           }
          },
          "scene": {
           "xaxis": {
            "backgroundcolor": "#E5ECF6",
            "gridcolor": "white",
            "gridwidth": 2,
            "linecolor": "white",
            "showbackground": true,
            "ticks": "",
            "zerolinecolor": "white"
           },
           "yaxis": {
            "backgroundcolor": "#E5ECF6",
            "gridcolor": "white",
            "gridwidth": 2,
            "linecolor": "white",
            "showbackground": true,
            "ticks": "",
            "zerolinecolor": "white"
           },
           "zaxis": {
            "backgroundcolor": "#E5ECF6",
            "gridcolor": "white",
            "gridwidth": 2,
            "linecolor": "white",
            "showbackground": true,
            "ticks": "",
            "zerolinecolor": "white"
           }
          },
          "shapedefaults": {
           "line": {
            "color": "#2a3f5f"
           }
          },
          "ternary": {
           "aaxis": {
            "gridcolor": "white",
            "linecolor": "white",
            "ticks": ""
           },
           "baxis": {
            "gridcolor": "white",
            "linecolor": "white",
            "ticks": ""
           },
           "bgcolor": "#E5ECF6",
           "caxis": {
            "gridcolor": "white",
            "linecolor": "white",
            "ticks": ""
           }
          },
          "title": {
           "x": 0.05
          },
          "xaxis": {
           "automargin": true,
           "gridcolor": "white",
           "linecolor": "white",
           "ticks": "",
           "title": {
            "standoff": 15
           },
           "zerolinecolor": "white",
           "zerolinewidth": 2
          },
          "yaxis": {
           "automargin": true,
           "gridcolor": "white",
           "linecolor": "white",
           "ticks": "",
           "title": {
            "standoff": 15
           },
           "zerolinecolor": "white",
           "zerolinewidth": 2
          }
         }
        },
        "title": {
         "text": "Housing Price & Population in 2022<br>(Hover to see the information)"
        }
       }
      },
      "text/html": [
       "<div>                            <div id=\"69de34c0-179f-4c60-9eeb-7c669ad5129f\" class=\"plotly-graph-div\" style=\"height:525px; width:100%;\"></div>            <script type=\"text/javascript\">                require([\"plotly\"], function(Plotly) {                    window.PLOTLYENV=window.PLOTLYENV || {};                                    if (document.getElementById(\"69de34c0-179f-4c60-9eeb-7c669ad5129f\")) {                    Plotly.newPlot(                        \"69de34c0-179f-4c60-9eeb-7c669ad5129f\",                        [{\"locationmode\":\"USA-states\",\"locations\":[\"AK\",\"AL\",\"AR\",\"AZ\",\"CA\",\"CO\",\"CT\",\"DC\",\"DE\",\"FL\",\"GA\",\"HI\",\"IA\",\"ID\",\"IL\",\"IN\",\"KS\",\"KY\",\"LA\",\"MA\",\"MD\",\"ME\",\"MI\",\"MN\",\"MO\",\"MS\",\"MT\",\"NC\",\"ND\",\"NE\",\"NH\",\"NJ\",\"NM\",\"NV\",\"NY\",\"OH\",\"OK\",\"OR\",\"PA\",\"RI\",\"SC\",\"SD\",\"TN\",\"TX\",\"UT\",\"VA\",\"VT\",\"WA\",\"WI\",\"WV\",\"WY\"],\"marker\":{\"autocolorscale\":false,\"cmax\":1090.29,\"cmin\":297.26,\"color\":[412.3,461.86,404.44,682.0,902.22,813.08,552.35,1085.4,636.82,737.44,562.82,861.73,388.38,750.64,441.39,435.38,396.16,479.13,356.6,1090.29,622.35,832.85,469.28,534.78,468.52,365.76,730.98,591.3,447.9,456.14,716.69,727.88,469.75,593.9,926.97,415.9,340.0,804.32,587.57,816.72,584.46,554.4,602.9,489.66,789.8,636.64,698.91,948.68,495.15,297.26,440.4],\"colorbar\":{\"title\":{\"text\":\"Housing Price Index\"}},\"line\":{\"color\":\"rgb(40,40,40)\",\"width\":1},\"opacity\":0.8,\"size\":[2.7084737399502323,7.123409296116572,5.518729020345174,8.57857622219445,19.755845210974904,7.6419408529509045,6.0217979042807475,2.5919162795121298,3.1912317371196974,14.914698454880005,10.4464711745163,3.794991436090469,5.657311198794,4.403445242080342,11.216965721620085,8.266218603448618,5.419547951628438,6.717372998427287,6.775131733036636,8.355820725697745,7.8515348817922215,3.722015582987261,10.017041978548358,7.5612062529731325,7.859998091602821,5.422229246352463,3.3509207689827583,10.343584001689162,2.791524673005775,4.436127816012519,3.735279106037459,9.623772129471895,4.597112136983391,5.63717305038616,14.027526866842923,10.842535681287842,6.340189271622733,6.511633435628882,11.389472331938824,3.3071649490159998,7.268173085445889,3.0163288945338835,8.39722513691279,17.329042674077527,5.814464721709127,9.31859377803325,2.543745270265873,8.823710104032203,7.676287514156827,4.2132600204592165,2.4111843562863458]},\"mode\":\"markers\",\"text\":[\"Alaska<br>Population: 733583<br>Housing Price Index: 412.3\",\"Alabama<br>Population: 5074296<br>Housing Price Index: 461.86\",\"Arkansas<br>Population: 3045637<br>Housing Price Index: 404.44\",\"Arizona<br>Population: 7359197<br>Housing Price Index: 682.0\",\"California<br>Population: 39029342<br>Housing Price Index: 902.22\",\"Colorado<br>Population: 5839926<br>Housing Price Index: 813.08\",\"Connecticut<br>Population: 3626205<br>Housing Price Index: 552.35\",\"District of Columbia<br>Population: 671803<br>Housing Price Index: 1085.4\",\"Delaware<br>Population: 1018396<br>Housing Price Index: 636.82\",\"Florida<br>Population: 22244823<br>Housing Price Index: 737.44\",\"Georgia<br>Population: 10912876<br>Housing Price Index: 562.82\",\"Hawaii<br>Population: 1440196<br>Housing Price Index: 861.73\",\"Iowa<br>Population: 3200517<br>Housing Price Index: 388.38\",\"Idaho<br>Population: 1939033<br>Housing Price Index: 750.64\",\"Illinois<br>Population: 12582032<br>Housing Price Index: 441.39\",\"Indiana<br>Population: 6833037<br>Housing Price Index: 435.38\",\"Kansas<br>Population: 2937150<br>Housing Price Index: 396.16\",\"Kentucky<br>Population: 4512310<br>Housing Price Index: 479.13\",\"Louisiana<br>Population: 4590241<br>Housing Price Index: 356.6\",\"Massachusetts<br>Population: 6981974<br>Housing Price Index: 1090.29\",\"Maryland<br>Population: 6164660<br>Housing Price Index: 622.35\",\"Maine<br>Population: 1385340<br>Housing Price Index: 832.85\",\"Michigan<br>Population: 10034113<br>Housing Price Index: 469.28\",\"Minnesota<br>Population: 5717184<br>Housing Price Index: 534.78\",\"Missouri<br>Population: 6177957<br>Housing Price Index: 468.52\",\"Mississippi<br>Population: 2940057<br>Housing Price Index: 365.76\",\"Montana<br>Population: 1122867<br>Housing Price Index: 730.98\",\"North Carolina<br>Population: 10698973<br>Housing Price Index: 591.3\",\"North Dakota<br>Population: 779261<br>Housing Price Index: 447.9\",\"Nebraska<br>Population: 1967923<br>Housing Price Index: 456.14\",\"New Hampshire<br>Population: 1395231<br>Housing Price Index: 716.69\",\"New Jersey<br>Population: 9261699<br>Housing Price Index: 727.88\",\"New Mexico<br>Population: 2113344<br>Housing Price Index: 469.75\",\"Nevada<br>Population: 3177772<br>Housing Price Index: 593.9\",\"New York<br>Population: 19677151<br>Housing Price Index: 926.97\",\"Ohio<br>Population: 11756058<br>Housing Price Index: 415.9\",\"Oklahoma<br>Population: 4019800<br>Housing Price Index: 340.0\",\"Oregon<br>Population: 4240137<br>Housing Price Index: 804.32\",\"Pennsylvania<br>Population: 12972008<br>Housing Price Index: 587.57\",\"Rhode Island<br>Population: 1093734<br>Housing Price Index: 816.72\",\"South Carolina<br>Population: 5282634<br>Housing Price Index: 584.46\",\"South Dakota<br>Population: 909824<br>Housing Price Index: 554.4\",\"Tennessee<br>Population: 7051339<br>Housing Price Index: 602.9\",\"Texas<br>Population: 30029572<br>Housing Price Index: 489.66\",\"Utah<br>Population: 3380800<br>Housing Price Index: 789.8\",\"Virginia<br>Population: 8683619<br>Housing Price Index: 636.64\",\"Vermont<br>Population: 647064<br>Housing Price Index: 698.91\",\"Washington<br>Population: 7785786<br>Housing Price Index: 948.68\",\"Wisconsin<br>Population: 5892539<br>Housing Price Index: 495.15\",\"West Virginia<br>Population: 1775156<br>Housing Price Index: 297.26\",\"Wyoming<br>Population: 581381<br>Housing Price Index: 440.4\"],\"type\":\"scattergeo\"}],                        {\"template\":{\"data\":{\"histogram2dcontour\":[{\"type\":\"histogram2dcontour\",\"colorbar\":{\"outlinewidth\":0,\"ticks\":\"\"},\"colorscale\":[[0.0,\"#0d0887\"],[0.1111111111111111,\"#46039f\"],[0.2222222222222222,\"#7201a8\"],[0.3333333333333333,\"#9c179e\"],[0.4444444444444444,\"#bd3786\"],[0.5555555555555556,\"#d8576b\"],[0.6666666666666666,\"#ed7953\"],[0.7777777777777778,\"#fb9f3a\"],[0.8888888888888888,\"#fdca26\"],[1.0,\"#f0f921\"]]}],\"choropleth\":[{\"type\":\"choropleth\",\"colorbar\":{\"outlinewidth\":0,\"ticks\":\"\"}}],\"histogram2d\":[{\"type\":\"histogram2d\",\"colorbar\":{\"outlinewidth\":0,\"ticks\":\"\"},\"colorscale\":[[0.0,\"#0d0887\"],[0.1111111111111111,\"#46039f\"],[0.2222222222222222,\"#7201a8\"],[0.3333333333333333,\"#9c179e\"],[0.4444444444444444,\"#bd3786\"],[0.5555555555555556,\"#d8576b\"],[0.6666666666666666,\"#ed7953\"],[0.7777777777777778,\"#fb9f3a\"],[0.8888888888888888,\"#fdca26\"],[1.0,\"#f0f921\"]]}],\"heatmap\":[{\"type\":\"heatmap\",\"colorbar\":{\"outlinewidth\":0,\"ticks\":\"\"},\"colorscale\":[[0.0,\"#0d0887\"],[0.1111111111111111,\"#46039f\"],[0.2222222222222222,\"#7201a8\"],[0.3333333333333333,\"#9c179e\"],[0.4444444444444444,\"#bd3786\"],[0.5555555555555556,\"#d8576b\"],[0.6666666666666666,\"#ed7953\"],[0.7777777777777778,\"#fb9f3a\"],[0.8888888888888888,\"#fdca26\"],[1.0,\"#f0f921\"]]}],\"heatmapgl\":[{\"type\":\"heatmapgl\",\"colorbar\":{\"outlinewidth\":0,\"ticks\":\"\"},\"colorscale\":[[0.0,\"#0d0887\"],[0.1111111111111111,\"#46039f\"],[0.2222222222222222,\"#7201a8\"],[0.3333333333333333,\"#9c179e\"],[0.4444444444444444,\"#bd3786\"],[0.5555555555555556,\"#d8576b\"],[0.6666666666666666,\"#ed7953\"],[0.7777777777777778,\"#fb9f3a\"],[0.8888888888888888,\"#fdca26\"],[1.0,\"#f0f921\"]]}],\"contourcarpet\":[{\"type\":\"contourcarpet\",\"colorbar\":{\"outlinewidth\":0,\"ticks\":\"\"}}],\"contour\":[{\"type\":\"contour\",\"colorbar\":{\"outlinewidth\":0,\"ticks\":\"\"},\"colorscale\":[[0.0,\"#0d0887\"],[0.1111111111111111,\"#46039f\"],[0.2222222222222222,\"#7201a8\"],[0.3333333333333333,\"#9c179e\"],[0.4444444444444444,\"#bd3786\"],[0.5555555555555556,\"#d8576b\"],[0.6666666666666666,\"#ed7953\"],[0.7777777777777778,\"#fb9f3a\"],[0.8888888888888888,\"#fdca26\"],[1.0,\"#f0f921\"]]}],\"surface\":[{\"type\":\"surface\",\"colorbar\":{\"outlinewidth\":0,\"ticks\":\"\"},\"colorscale\":[[0.0,\"#0d0887\"],[0.1111111111111111,\"#46039f\"],[0.2222222222222222,\"#7201a8\"],[0.3333333333333333,\"#9c179e\"],[0.4444444444444444,\"#bd3786\"],[0.5555555555555556,\"#d8576b\"],[0.6666666666666666,\"#ed7953\"],[0.7777777777777778,\"#fb9f3a\"],[0.8888888888888888,\"#fdca26\"],[1.0,\"#f0f921\"]]}],\"mesh3d\":[{\"type\":\"mesh3d\",\"colorbar\":{\"outlinewidth\":0,\"ticks\":\"\"}}],\"scatter\":[{\"fillpattern\":{\"fillmode\":\"overlay\",\"size\":10,\"solidity\":0.2},\"type\":\"scatter\"}],\"parcoords\":[{\"type\":\"parcoords\",\"line\":{\"colorbar\":{\"outlinewidth\":0,\"ticks\":\"\"}}}],\"scatterpolargl\":[{\"type\":\"scatterpolargl\",\"marker\":{\"colorbar\":{\"outlinewidth\":0,\"ticks\":\"\"}}}],\"bar\":[{\"error_x\":{\"color\":\"#2a3f5f\"},\"error_y\":{\"color\":\"#2a3f5f\"},\"marker\":{\"line\":{\"color\":\"#E5ECF6\",\"width\":0.5},\"pattern\":{\"fillmode\":\"overlay\",\"size\":10,\"solidity\":0.2}},\"type\":\"bar\"}],\"scattergeo\":[{\"type\":\"scattergeo\",\"marker\":{\"colorbar\":{\"outlinewidth\":0,\"ticks\":\"\"}}}],\"scatterpolar\":[{\"type\":\"scatterpolar\",\"marker\":{\"colorbar\":{\"outlinewidth\":0,\"ticks\":\"\"}}}],\"histogram\":[{\"marker\":{\"pattern\":{\"fillmode\":\"overlay\",\"size\":10,\"solidity\":0.2}},\"type\":\"histogram\"}],\"scattergl\":[{\"type\":\"scattergl\",\"marker\":{\"colorbar\":{\"outlinewidth\":0,\"ticks\":\"\"}}}],\"scatter3d\":[{\"type\":\"scatter3d\",\"line\":{\"colorbar\":{\"outlinewidth\":0,\"ticks\":\"\"}},\"marker\":{\"colorbar\":{\"outlinewidth\":0,\"ticks\":\"\"}}}],\"scattermapbox\":[{\"type\":\"scattermapbox\",\"marker\":{\"colorbar\":{\"outlinewidth\":0,\"ticks\":\"\"}}}],\"scatterternary\":[{\"type\":\"scatterternary\",\"marker\":{\"colorbar\":{\"outlinewidth\":0,\"ticks\":\"\"}}}],\"scattercarpet\":[{\"type\":\"scattercarpet\",\"marker\":{\"colorbar\":{\"outlinewidth\":0,\"ticks\":\"\"}}}],\"carpet\":[{\"aaxis\":{\"endlinecolor\":\"#2a3f5f\",\"gridcolor\":\"white\",\"linecolor\":\"white\",\"minorgridcolor\":\"white\",\"startlinecolor\":\"#2a3f5f\"},\"baxis\":{\"endlinecolor\":\"#2a3f5f\",\"gridcolor\":\"white\",\"linecolor\":\"white\",\"minorgridcolor\":\"white\",\"startlinecolor\":\"#2a3f5f\"},\"type\":\"carpet\"}],\"table\":[{\"cells\":{\"fill\":{\"color\":\"#EBF0F8\"},\"line\":{\"color\":\"white\"}},\"header\":{\"fill\":{\"color\":\"#C8D4E3\"},\"line\":{\"color\":\"white\"}},\"type\":\"table\"}],\"barpolar\":[{\"marker\":{\"line\":{\"color\":\"#E5ECF6\",\"width\":0.5},\"pattern\":{\"fillmode\":\"overlay\",\"size\":10,\"solidity\":0.2}},\"type\":\"barpolar\"}],\"pie\":[{\"automargin\":true,\"type\":\"pie\"}]},\"layout\":{\"autotypenumbers\":\"strict\",\"colorway\":[\"#636efa\",\"#EF553B\",\"#00cc96\",\"#ab63fa\",\"#FFA15A\",\"#19d3f3\",\"#FF6692\",\"#B6E880\",\"#FF97FF\",\"#FECB52\"],\"font\":{\"color\":\"#2a3f5f\"},\"hovermode\":\"closest\",\"hoverlabel\":{\"align\":\"left\"},\"paper_bgcolor\":\"white\",\"plot_bgcolor\":\"#E5ECF6\",\"polar\":{\"bgcolor\":\"#E5ECF6\",\"angularaxis\":{\"gridcolor\":\"white\",\"linecolor\":\"white\",\"ticks\":\"\"},\"radialaxis\":{\"gridcolor\":\"white\",\"linecolor\":\"white\",\"ticks\":\"\"}},\"ternary\":{\"bgcolor\":\"#E5ECF6\",\"aaxis\":{\"gridcolor\":\"white\",\"linecolor\":\"white\",\"ticks\":\"\"},\"baxis\":{\"gridcolor\":\"white\",\"linecolor\":\"white\",\"ticks\":\"\"},\"caxis\":{\"gridcolor\":\"white\",\"linecolor\":\"white\",\"ticks\":\"\"}},\"coloraxis\":{\"colorbar\":{\"outlinewidth\":0,\"ticks\":\"\"}},\"colorscale\":{\"sequential\":[[0.0,\"#0d0887\"],[0.1111111111111111,\"#46039f\"],[0.2222222222222222,\"#7201a8\"],[0.3333333333333333,\"#9c179e\"],[0.4444444444444444,\"#bd3786\"],[0.5555555555555556,\"#d8576b\"],[0.6666666666666666,\"#ed7953\"],[0.7777777777777778,\"#fb9f3a\"],[0.8888888888888888,\"#fdca26\"],[1.0,\"#f0f921\"]],\"sequentialminus\":[[0.0,\"#0d0887\"],[0.1111111111111111,\"#46039f\"],[0.2222222222222222,\"#7201a8\"],[0.3333333333333333,\"#9c179e\"],[0.4444444444444444,\"#bd3786\"],[0.5555555555555556,\"#d8576b\"],[0.6666666666666666,\"#ed7953\"],[0.7777777777777778,\"#fb9f3a\"],[0.8888888888888888,\"#fdca26\"],[1.0,\"#f0f921\"]],\"diverging\":[[0,\"#8e0152\"],[0.1,\"#c51b7d\"],[0.2,\"#de77ae\"],[0.3,\"#f1b6da\"],[0.4,\"#fde0ef\"],[0.5,\"#f7f7f7\"],[0.6,\"#e6f5d0\"],[0.7,\"#b8e186\"],[0.8,\"#7fbc41\"],[0.9,\"#4d9221\"],[1,\"#276419\"]]},\"xaxis\":{\"gridcolor\":\"white\",\"linecolor\":\"white\",\"ticks\":\"\",\"title\":{\"standoff\":15},\"zerolinecolor\":\"white\",\"automargin\":true,\"zerolinewidth\":2},\"yaxis\":{\"gridcolor\":\"white\",\"linecolor\":\"white\",\"ticks\":\"\",\"title\":{\"standoff\":15},\"zerolinecolor\":\"white\",\"automargin\":true,\"zerolinewidth\":2},\"scene\":{\"xaxis\":{\"backgroundcolor\":\"#E5ECF6\",\"gridcolor\":\"white\",\"linecolor\":\"white\",\"showbackground\":true,\"ticks\":\"\",\"zerolinecolor\":\"white\",\"gridwidth\":2},\"yaxis\":{\"backgroundcolor\":\"#E5ECF6\",\"gridcolor\":\"white\",\"linecolor\":\"white\",\"showbackground\":true,\"ticks\":\"\",\"zerolinecolor\":\"white\",\"gridwidth\":2},\"zaxis\":{\"backgroundcolor\":\"#E5ECF6\",\"gridcolor\":\"white\",\"linecolor\":\"white\",\"showbackground\":true,\"ticks\":\"\",\"zerolinecolor\":\"white\",\"gridwidth\":2}},\"shapedefaults\":{\"line\":{\"color\":\"#2a3f5f\"}},\"annotationdefaults\":{\"arrowcolor\":\"#2a3f5f\",\"arrowhead\":0,\"arrowwidth\":1},\"geo\":{\"bgcolor\":\"white\",\"landcolor\":\"#E5ECF6\",\"subunitcolor\":\"white\",\"showland\":true,\"showlakes\":true,\"lakecolor\":\"white\"},\"title\":{\"x\":0.05},\"mapbox\":{\"style\":\"light\"}}},\"geo\":{\"projection\":{\"type\":\"albers usa\"},\"scope\":\"usa\",\"showland\":true,\"landcolor\":\"rgb(250, 250, 250)\",\"subunitcolor\":\"rgb(217, 217, 217)\",\"countrycolor\":\"rgb(217, 217, 217)\",\"countrywidth\":0.5,\"subunitwidth\":0.5},\"title\":{\"text\":\"Housing Price & Population in 2022<br>(Hover to see the information)\"}},                        {\"responsive\": true}                    ).then(function(){\n",
       "                            \n",
       "var gd = document.getElementById('69de34c0-179f-4c60-9eeb-7c669ad5129f');\n",
       "var x = new MutationObserver(function (mutations, observer) {{\n",
       "        var display = window.getComputedStyle(gd).display;\n",
       "        if (!display || display === 'none') {{\n",
       "            console.log([gd, 'removed!']);\n",
       "            Plotly.purge(gd);\n",
       "            observer.disconnect();\n",
       "        }}\n",
       "}});\n",
       "\n",
       "// Listen for the removal of the full notebook cells\n",
       "var notebookContainer = gd.closest('#notebook-container');\n",
       "if (notebookContainer) {{\n",
       "    x.observe(notebookContainer, {childList: true});\n",
       "}}\n",
       "\n",
       "// Listen for the clearing of the current output cell\n",
       "var outputEl = gd.closest('.output');\n",
       "if (outputEl) {{\n",
       "    x.observe(outputEl, {childList: true});\n",
       "}}\n",
       "\n",
       "                        })                };                });            </script>        </div>"
      ]
     },
     "metadata": {},
     "output_type": "display_data"
    }
   ],
   "source": [
    "fig = go.Figure(\n",
    "    data=go.Scattergeo(\n",
    "        locationmode = 'USA-states',\n",
    "        locations=df3_use['State'],\n",
    "        text = df3_use['text1'],\n",
    "        mode = 'markers',\n",
    "        marker = dict(\n",
    "            # size = np.log10(df3_use['Population'].astype(\"float\")),   # log with base 10\n",
    "            # size = 1.2*(df3_use['Population'].astype(\"float\")/10000)**(1/3),\n",
    "            size = (df3_use['Population'].astype(\"float\")/100000)**(1/2), # set proper size\n",
    "            opacity = 0.8,\n",
    "            autocolorscale = False,\n",
    "            # symbol = 'square',\n",
    "            line = dict(\n",
    "                width=1,\n",
    "                color='rgba(102, 102, 102)'\n",
    "            ),\n",
    "            line_color='rgb(40,40,40)',\n",
    "            color = round(df3_use[\"Price_index\"],2),\n",
    "            cmin = df3_use[\"Price_index\"].min(),\n",
    "            cmax = df3_use[\"Price_index\"].max(),\n",
    "            colorbar_title= \"Housing Price Index\"\n",
    "        )\n",
    "    )\n",
    ")  \n",
    "\n",
    "fig.update_layout(\n",
    "        title = 'Housing Price & Population in 2022<br>(Hover to see the information)',\n",
    "        geo = dict(\n",
    "            scope='usa',\n",
    "            projection_type='albers usa',\n",
    "            showland = True,\n",
    "            landcolor = \"rgb(250, 250, 250)\",\n",
    "            subunitcolor = \"rgb(217, 217, 217)\",\n",
    "            countrycolor = \"rgb(217, 217, 217)\",\n",
    "            countrywidth = 0.5,\n",
    "            subunitwidth = 0.5\n",
    "        )\n",
    "    )\n",
    "\n",
    "fig.show()"
   ]
  },
  {
   "cell_type": "code",
   "execution_count": 18,
   "metadata": {},
   "outputs": [
    {
     "data": {
      "application/vnd.plotly.v1+json": {
       "config": {
        "plotlyServerURL": "https://plot.ly"
       },
       "data": [
        {
         "locationmode": "USA-states",
         "locations": [
          "AK",
          "AL",
          "AR",
          "AZ",
          "CA",
          "CO",
          "CT",
          "DC",
          "DE",
          "FL",
          "GA",
          "HI",
          "IA",
          "ID",
          "IL",
          "IN",
          "KS",
          "KY",
          "LA",
          "MA",
          "MD",
          "ME",
          "MI",
          "MN",
          "MO",
          "MS",
          "MT",
          "NC",
          "ND",
          "NE",
          "NH",
          "NJ",
          "NM",
          "NV",
          "NY",
          "OH",
          "OK",
          "OR",
          "PA",
          "RI",
          "SC",
          "SD",
          "TN",
          "TX",
          "UT",
          "VA",
          "VT",
          "WA",
          "WI",
          "WV",
          "WY"
         ],
         "marker": {
          "autocolorscale": false,
          "cmax": 1090.29,
          "cmin": 297.26,
          "color": [
           412.3,
           461.86,
           404.44,
           682,
           902.22,
           813.08,
           552.35,
           1085.4,
           636.82,
           737.44,
           562.82,
           861.73,
           388.38,
           750.64,
           441.39,
           435.38,
           396.16,
           479.13,
           356.6,
           1090.29,
           622.35,
           832.85,
           469.28,
           534.78,
           468.52,
           365.76,
           730.98,
           591.3,
           447.9,
           456.14,
           716.69,
           727.88,
           469.75,
           593.9,
           926.97,
           415.9,
           340,
           804.32,
           587.57,
           816.72,
           584.46,
           554.4,
           602.9,
           489.66,
           789.8,
           636.64,
           698.91,
           948.68,
           495.15,
           297.26,
           440.4
          ],
          "colorbar": {
           "title": {
            "text": "Housing Price Index"
           }
          },
          "line": {
           "color": "rgb(40,40,40)",
           "width": 1
          },
          "opacity": 0.8,
          "size": [
           17.5765205,
           10.093524500000001,
           9.112180500000001,
           12.969324499999999,
           18.782320499999997,
           16.640680500000002,
           19.437612500000004,
           40.32020000000001,
           14.780484500000002,
           11.400312500000002,
           12.310721999999998,
           15.086524500000001,
           11.2006445,
           10.0755605,
           15.1965845,
           10.937164499999998,
           10.820552000000001,
           9.688802,
           9.754944499999999,
           21.569311999999996,
           18.1382645,
           11.746704500000002,
           12.893042000000001,
           15.618460500000003,
           11.433762,
           8.036040500000002,
           10.2921845,
           11.785512500000003,
           12.715924500000002,
           11.6403125,
           14.553012499999998,
           17.988002,
           11.063807999999998,
           11.1439205,
           20.460804500000002,
           12.216624499999998,
           10.405922000000002,
           14.520660500000002,
           13.178978000000003,
           16.370642000000004,
           9.847921999999999,
           9.210631999999999,
           10.419612500000001,
           12.746200500000002,
           12.211682000000001,
           16.097138,
           13.066272,
           19.232402,
           11.931612499999998,
           9.426481999999998,
           12.380288
          ]
         },
         "mode": "markers",
         "text": [
          "Alaska<br>Average Salary: 733583<br>Housing Price Index: 412.3",
          "Alabama<br>Average Salary: 5074296<br>Housing Price Index: 461.86",
          "Arkansas<br>Average Salary: 3045637<br>Housing Price Index: 404.44",
          "Arizona<br>Average Salary: 7359197<br>Housing Price Index: 682.0",
          "California<br>Average Salary: 39029342<br>Housing Price Index: 902.22",
          "Colorado<br>Average Salary: 5839926<br>Housing Price Index: 813.08",
          "Connecticut<br>Average Salary: 3626205<br>Housing Price Index: 552.35",
          "District of Columbia<br>Average Salary: 671803<br>Housing Price Index: 1085.4",
          "Delaware<br>Average Salary: 1018396<br>Housing Price Index: 636.82",
          "Florida<br>Average Salary: 22244823<br>Housing Price Index: 737.44",
          "Georgia<br>Average Salary: 10912876<br>Housing Price Index: 562.82",
          "Hawaii<br>Average Salary: 1440196<br>Housing Price Index: 861.73",
          "Iowa<br>Average Salary: 3200517<br>Housing Price Index: 388.38",
          "Idaho<br>Average Salary: 1939033<br>Housing Price Index: 750.64",
          "Illinois<br>Average Salary: 12582032<br>Housing Price Index: 441.39",
          "Indiana<br>Average Salary: 6833037<br>Housing Price Index: 435.38",
          "Kansas<br>Average Salary: 2937150<br>Housing Price Index: 396.16",
          "Kentucky<br>Average Salary: 4512310<br>Housing Price Index: 479.13",
          "Louisiana<br>Average Salary: 4590241<br>Housing Price Index: 356.6",
          "Massachusetts<br>Average Salary: 6981974<br>Housing Price Index: 1090.29",
          "Maryland<br>Average Salary: 6164660<br>Housing Price Index: 622.35",
          "Maine<br>Average Salary: 1385340<br>Housing Price Index: 832.85",
          "Michigan<br>Average Salary: 10034113<br>Housing Price Index: 469.28",
          "Minnesota<br>Average Salary: 5717184<br>Housing Price Index: 534.78",
          "Missouri<br>Average Salary: 6177957<br>Housing Price Index: 468.52",
          "Mississippi<br>Average Salary: 2940057<br>Housing Price Index: 365.76",
          "Montana<br>Average Salary: 1122867<br>Housing Price Index: 730.98",
          "North Carolina<br>Average Salary: 10698973<br>Housing Price Index: 591.3",
          "North Dakota<br>Average Salary: 779261<br>Housing Price Index: 447.9",
          "Nebraska<br>Average Salary: 1967923<br>Housing Price Index: 456.14",
          "New Hampshire<br>Average Salary: 1395231<br>Housing Price Index: 716.69",
          "New Jersey<br>Average Salary: 9261699<br>Housing Price Index: 727.88",
          "New Mexico<br>Average Salary: 2113344<br>Housing Price Index: 469.75",
          "Nevada<br>Average Salary: 3177772<br>Housing Price Index: 593.9",
          "New York<br>Average Salary: 19677151<br>Housing Price Index: 926.97",
          "Ohio<br>Average Salary: 11756058<br>Housing Price Index: 415.9",
          "Oklahoma<br>Average Salary: 4019800<br>Housing Price Index: 340.0",
          "Oregon<br>Average Salary: 4240137<br>Housing Price Index: 804.32",
          "Pennsylvania<br>Average Salary: 12972008<br>Housing Price Index: 587.57",
          "Rhode Island<br>Average Salary: 1093734<br>Housing Price Index: 816.72",
          "South Carolina<br>Average Salary: 5282634<br>Housing Price Index: 584.46",
          "South Dakota<br>Average Salary: 909824<br>Housing Price Index: 554.4",
          "Tennessee<br>Average Salary: 7051339<br>Housing Price Index: 602.9",
          "Texas<br>Average Salary: 30029572<br>Housing Price Index: 489.66",
          "Utah<br>Average Salary: 3380800<br>Housing Price Index: 789.8",
          "Virginia<br>Average Salary: 8683619<br>Housing Price Index: 636.64",
          "Vermont<br>Average Salary: 647064<br>Housing Price Index: 698.91",
          "Washington<br>Average Salary: 7785786<br>Housing Price Index: 948.68",
          "Wisconsin<br>Average Salary: 5892539<br>Housing Price Index: 495.15",
          "West Virginia<br>Average Salary: 1775156<br>Housing Price Index: 297.26",
          "Wyoming<br>Average Salary: 581381<br>Housing Price Index: 440.4"
         ],
         "type": "scattergeo"
        }
       ],
       "layout": {
        "geo": {
         "countrycolor": "rgb(217, 217, 217)",
         "countrywidth": 0.5,
         "landcolor": "rgb(250, 250, 250)",
         "projection": {
          "type": "albers usa"
         },
         "scope": "usa",
         "showland": true,
         "subunitcolor": "rgb(217, 217, 217)",
         "subunitwidth": 0.5
        },
        "template": {
         "data": {
          "bar": [
           {
            "error_x": {
             "color": "#2a3f5f"
            },
            "error_y": {
             "color": "#2a3f5f"
            },
            "marker": {
             "line": {
              "color": "#E5ECF6",
              "width": 0.5
             },
             "pattern": {
              "fillmode": "overlay",
              "size": 10,
              "solidity": 0.2
             }
            },
            "type": "bar"
           }
          ],
          "barpolar": [
           {
            "marker": {
             "line": {
              "color": "#E5ECF6",
              "width": 0.5
             },
             "pattern": {
              "fillmode": "overlay",
              "size": 10,
              "solidity": 0.2
             }
            },
            "type": "barpolar"
           }
          ],
          "carpet": [
           {
            "aaxis": {
             "endlinecolor": "#2a3f5f",
             "gridcolor": "white",
             "linecolor": "white",
             "minorgridcolor": "white",
             "startlinecolor": "#2a3f5f"
            },
            "baxis": {
             "endlinecolor": "#2a3f5f",
             "gridcolor": "white",
             "linecolor": "white",
             "minorgridcolor": "white",
             "startlinecolor": "#2a3f5f"
            },
            "type": "carpet"
           }
          ],
          "choropleth": [
           {
            "colorbar": {
             "outlinewidth": 0,
             "ticks": ""
            },
            "type": "choropleth"
           }
          ],
          "contour": [
           {
            "colorbar": {
             "outlinewidth": 0,
             "ticks": ""
            },
            "colorscale": [
             [
              0,
              "#0d0887"
             ],
             [
              0.1111111111111111,
              "#46039f"
             ],
             [
              0.2222222222222222,
              "#7201a8"
             ],
             [
              0.3333333333333333,
              "#9c179e"
             ],
             [
              0.4444444444444444,
              "#bd3786"
             ],
             [
              0.5555555555555556,
              "#d8576b"
             ],
             [
              0.6666666666666666,
              "#ed7953"
             ],
             [
              0.7777777777777778,
              "#fb9f3a"
             ],
             [
              0.8888888888888888,
              "#fdca26"
             ],
             [
              1,
              "#f0f921"
             ]
            ],
            "type": "contour"
           }
          ],
          "contourcarpet": [
           {
            "colorbar": {
             "outlinewidth": 0,
             "ticks": ""
            },
            "type": "contourcarpet"
           }
          ],
          "heatmap": [
           {
            "colorbar": {
             "outlinewidth": 0,
             "ticks": ""
            },
            "colorscale": [
             [
              0,
              "#0d0887"
             ],
             [
              0.1111111111111111,
              "#46039f"
             ],
             [
              0.2222222222222222,
              "#7201a8"
             ],
             [
              0.3333333333333333,
              "#9c179e"
             ],
             [
              0.4444444444444444,
              "#bd3786"
             ],
             [
              0.5555555555555556,
              "#d8576b"
             ],
             [
              0.6666666666666666,
              "#ed7953"
             ],
             [
              0.7777777777777778,
              "#fb9f3a"
             ],
             [
              0.8888888888888888,
              "#fdca26"
             ],
             [
              1,
              "#f0f921"
             ]
            ],
            "type": "heatmap"
           }
          ],
          "heatmapgl": [
           {
            "colorbar": {
             "outlinewidth": 0,
             "ticks": ""
            },
            "colorscale": [
             [
              0,
              "#0d0887"
             ],
             [
              0.1111111111111111,
              "#46039f"
             ],
             [
              0.2222222222222222,
              "#7201a8"
             ],
             [
              0.3333333333333333,
              "#9c179e"
             ],
             [
              0.4444444444444444,
              "#bd3786"
             ],
             [
              0.5555555555555556,
              "#d8576b"
             ],
             [
              0.6666666666666666,
              "#ed7953"
             ],
             [
              0.7777777777777778,
              "#fb9f3a"
             ],
             [
              0.8888888888888888,
              "#fdca26"
             ],
             [
              1,
              "#f0f921"
             ]
            ],
            "type": "heatmapgl"
           }
          ],
          "histogram": [
           {
            "marker": {
             "pattern": {
              "fillmode": "overlay",
              "size": 10,
              "solidity": 0.2
             }
            },
            "type": "histogram"
           }
          ],
          "histogram2d": [
           {
            "colorbar": {
             "outlinewidth": 0,
             "ticks": ""
            },
            "colorscale": [
             [
              0,
              "#0d0887"
             ],
             [
              0.1111111111111111,
              "#46039f"
             ],
             [
              0.2222222222222222,
              "#7201a8"
             ],
             [
              0.3333333333333333,
              "#9c179e"
             ],
             [
              0.4444444444444444,
              "#bd3786"
             ],
             [
              0.5555555555555556,
              "#d8576b"
             ],
             [
              0.6666666666666666,
              "#ed7953"
             ],
             [
              0.7777777777777778,
              "#fb9f3a"
             ],
             [
              0.8888888888888888,
              "#fdca26"
             ],
             [
              1,
              "#f0f921"
             ]
            ],
            "type": "histogram2d"
           }
          ],
          "histogram2dcontour": [
           {
            "colorbar": {
             "outlinewidth": 0,
             "ticks": ""
            },
            "colorscale": [
             [
              0,
              "#0d0887"
             ],
             [
              0.1111111111111111,
              "#46039f"
             ],
             [
              0.2222222222222222,
              "#7201a8"
             ],
             [
              0.3333333333333333,
              "#9c179e"
             ],
             [
              0.4444444444444444,
              "#bd3786"
             ],
             [
              0.5555555555555556,
              "#d8576b"
             ],
             [
              0.6666666666666666,
              "#ed7953"
             ],
             [
              0.7777777777777778,
              "#fb9f3a"
             ],
             [
              0.8888888888888888,
              "#fdca26"
             ],
             [
              1,
              "#f0f921"
             ]
            ],
            "type": "histogram2dcontour"
           }
          ],
          "mesh3d": [
           {
            "colorbar": {
             "outlinewidth": 0,
             "ticks": ""
            },
            "type": "mesh3d"
           }
          ],
          "parcoords": [
           {
            "line": {
             "colorbar": {
              "outlinewidth": 0,
              "ticks": ""
             }
            },
            "type": "parcoords"
           }
          ],
          "pie": [
           {
            "automargin": true,
            "type": "pie"
           }
          ],
          "scatter": [
           {
            "fillpattern": {
             "fillmode": "overlay",
             "size": 10,
             "solidity": 0.2
            },
            "type": "scatter"
           }
          ],
          "scatter3d": [
           {
            "line": {
             "colorbar": {
              "outlinewidth": 0,
              "ticks": ""
             }
            },
            "marker": {
             "colorbar": {
              "outlinewidth": 0,
              "ticks": ""
             }
            },
            "type": "scatter3d"
           }
          ],
          "scattercarpet": [
           {
            "marker": {
             "colorbar": {
              "outlinewidth": 0,
              "ticks": ""
             }
            },
            "type": "scattercarpet"
           }
          ],
          "scattergeo": [
           {
            "marker": {
             "colorbar": {
              "outlinewidth": 0,
              "ticks": ""
             }
            },
            "type": "scattergeo"
           }
          ],
          "scattergl": [
           {
            "marker": {
             "colorbar": {
              "outlinewidth": 0,
              "ticks": ""
             }
            },
            "type": "scattergl"
           }
          ],
          "scattermapbox": [
           {
            "marker": {
             "colorbar": {
              "outlinewidth": 0,
              "ticks": ""
             }
            },
            "type": "scattermapbox"
           }
          ],
          "scatterpolar": [
           {
            "marker": {
             "colorbar": {
              "outlinewidth": 0,
              "ticks": ""
             }
            },
            "type": "scatterpolar"
           }
          ],
          "scatterpolargl": [
           {
            "marker": {
             "colorbar": {
              "outlinewidth": 0,
              "ticks": ""
             }
            },
            "type": "scatterpolargl"
           }
          ],
          "scatterternary": [
           {
            "marker": {
             "colorbar": {
              "outlinewidth": 0,
              "ticks": ""
             }
            },
            "type": "scatterternary"
           }
          ],
          "surface": [
           {
            "colorbar": {
             "outlinewidth": 0,
             "ticks": ""
            },
            "colorscale": [
             [
              0,
              "#0d0887"
             ],
             [
              0.1111111111111111,
              "#46039f"
             ],
             [
              0.2222222222222222,
              "#7201a8"
             ],
             [
              0.3333333333333333,
              "#9c179e"
             ],
             [
              0.4444444444444444,
              "#bd3786"
             ],
             [
              0.5555555555555556,
              "#d8576b"
             ],
             [
              0.6666666666666666,
              "#ed7953"
             ],
             [
              0.7777777777777778,
              "#fb9f3a"
             ],
             [
              0.8888888888888888,
              "#fdca26"
             ],
             [
              1,
              "#f0f921"
             ]
            ],
            "type": "surface"
           }
          ],
          "table": [
           {
            "cells": {
             "fill": {
              "color": "#EBF0F8"
             },
             "line": {
              "color": "white"
             }
            },
            "header": {
             "fill": {
              "color": "#C8D4E3"
             },
             "line": {
              "color": "white"
             }
            },
            "type": "table"
           }
          ]
         },
         "layout": {
          "annotationdefaults": {
           "arrowcolor": "#2a3f5f",
           "arrowhead": 0,
           "arrowwidth": 1
          },
          "autotypenumbers": "strict",
          "coloraxis": {
           "colorbar": {
            "outlinewidth": 0,
            "ticks": ""
           }
          },
          "colorscale": {
           "diverging": [
            [
             0,
             "#8e0152"
            ],
            [
             0.1,
             "#c51b7d"
            ],
            [
             0.2,
             "#de77ae"
            ],
            [
             0.3,
             "#f1b6da"
            ],
            [
             0.4,
             "#fde0ef"
            ],
            [
             0.5,
             "#f7f7f7"
            ],
            [
             0.6,
             "#e6f5d0"
            ],
            [
             0.7,
             "#b8e186"
            ],
            [
             0.8,
             "#7fbc41"
            ],
            [
             0.9,
             "#4d9221"
            ],
            [
             1,
             "#276419"
            ]
           ],
           "sequential": [
            [
             0,
             "#0d0887"
            ],
            [
             0.1111111111111111,
             "#46039f"
            ],
            [
             0.2222222222222222,
             "#7201a8"
            ],
            [
             0.3333333333333333,
             "#9c179e"
            ],
            [
             0.4444444444444444,
             "#bd3786"
            ],
            [
             0.5555555555555556,
             "#d8576b"
            ],
            [
             0.6666666666666666,
             "#ed7953"
            ],
            [
             0.7777777777777778,
             "#fb9f3a"
            ],
            [
             0.8888888888888888,
             "#fdca26"
            ],
            [
             1,
             "#f0f921"
            ]
           ],
           "sequentialminus": [
            [
             0,
             "#0d0887"
            ],
            [
             0.1111111111111111,
             "#46039f"
            ],
            [
             0.2222222222222222,
             "#7201a8"
            ],
            [
             0.3333333333333333,
             "#9c179e"
            ],
            [
             0.4444444444444444,
             "#bd3786"
            ],
            [
             0.5555555555555556,
             "#d8576b"
            ],
            [
             0.6666666666666666,
             "#ed7953"
            ],
            [
             0.7777777777777778,
             "#fb9f3a"
            ],
            [
             0.8888888888888888,
             "#fdca26"
            ],
            [
             1,
             "#f0f921"
            ]
           ]
          },
          "colorway": [
           "#636efa",
           "#EF553B",
           "#00cc96",
           "#ab63fa",
           "#FFA15A",
           "#19d3f3",
           "#FF6692",
           "#B6E880",
           "#FF97FF",
           "#FECB52"
          ],
          "font": {
           "color": "#2a3f5f"
          },
          "geo": {
           "bgcolor": "white",
           "lakecolor": "white",
           "landcolor": "#E5ECF6",
           "showlakes": true,
           "showland": true,
           "subunitcolor": "white"
          },
          "hoverlabel": {
           "align": "left"
          },
          "hovermode": "closest",
          "mapbox": {
           "style": "light"
          },
          "paper_bgcolor": "white",
          "plot_bgcolor": "#E5ECF6",
          "polar": {
           "angularaxis": {
            "gridcolor": "white",
            "linecolor": "white",
            "ticks": ""
           },
           "bgcolor": "#E5ECF6",
           "radialaxis": {
            "gridcolor": "white",
            "linecolor": "white",
            "ticks": ""
           }
          },
          "scene": {
           "xaxis": {
            "backgroundcolor": "#E5ECF6",
            "gridcolor": "white",
            "gridwidth": 2,
            "linecolor": "white",
            "showbackground": true,
            "ticks": "",
            "zerolinecolor": "white"
           },
           "yaxis": {
            "backgroundcolor": "#E5ECF6",
            "gridcolor": "white",
            "gridwidth": 2,
            "linecolor": "white",
            "showbackground": true,
            "ticks": "",
            "zerolinecolor": "white"
           },
           "zaxis": {
            "backgroundcolor": "#E5ECF6",
            "gridcolor": "white",
            "gridwidth": 2,
            "linecolor": "white",
            "showbackground": true,
            "ticks": "",
            "zerolinecolor": "white"
           }
          },
          "shapedefaults": {
           "line": {
            "color": "#2a3f5f"
           }
          },
          "ternary": {
           "aaxis": {
            "gridcolor": "white",
            "linecolor": "white",
            "ticks": ""
           },
           "baxis": {
            "gridcolor": "white",
            "linecolor": "white",
            "ticks": ""
           },
           "bgcolor": "#E5ECF6",
           "caxis": {
            "gridcolor": "white",
            "linecolor": "white",
            "ticks": ""
           }
          },
          "title": {
           "x": 0.05
          },
          "xaxis": {
           "automargin": true,
           "gridcolor": "white",
           "linecolor": "white",
           "ticks": "",
           "title": {
            "standoff": 15
           },
           "zerolinecolor": "white",
           "zerolinewidth": 2
          },
          "yaxis": {
           "automargin": true,
           "gridcolor": "white",
           "linecolor": "white",
           "ticks": "",
           "title": {
            "standoff": 15
           },
           "zerolinecolor": "white",
           "zerolinewidth": 2
          }
         }
        },
        "title": {
         "text": "Housing Price & Salaries in 2022<br>(Hover to see the information)"
        }
       }
      },
      "text/html": [
       "<div>                            <div id=\"cc8b12ab-d034-4e71-a22a-091064017054\" class=\"plotly-graph-div\" style=\"height:525px; width:100%;\"></div>            <script type=\"text/javascript\">                require([\"plotly\"], function(Plotly) {                    window.PLOTLYENV=window.PLOTLYENV || {};                                    if (document.getElementById(\"cc8b12ab-d034-4e71-a22a-091064017054\")) {                    Plotly.newPlot(                        \"cc8b12ab-d034-4e71-a22a-091064017054\",                        [{\"locationmode\":\"USA-states\",\"locations\":[\"AK\",\"AL\",\"AR\",\"AZ\",\"CA\",\"CO\",\"CT\",\"DC\",\"DE\",\"FL\",\"GA\",\"HI\",\"IA\",\"ID\",\"IL\",\"IN\",\"KS\",\"KY\",\"LA\",\"MA\",\"MD\",\"ME\",\"MI\",\"MN\",\"MO\",\"MS\",\"MT\",\"NC\",\"ND\",\"NE\",\"NH\",\"NJ\",\"NM\",\"NV\",\"NY\",\"OH\",\"OK\",\"OR\",\"PA\",\"RI\",\"SC\",\"SD\",\"TN\",\"TX\",\"UT\",\"VA\",\"VT\",\"WA\",\"WI\",\"WV\",\"WY\"],\"marker\":{\"autocolorscale\":false,\"cmax\":1090.29,\"cmin\":297.26,\"color\":[412.3,461.86,404.44,682.0,902.22,813.08,552.35,1085.4,636.82,737.44,562.82,861.73,388.38,750.64,441.39,435.38,396.16,479.13,356.6,1090.29,622.35,832.85,469.28,534.78,468.52,365.76,730.98,591.3,447.9,456.14,716.69,727.88,469.75,593.9,926.97,415.9,340.0,804.32,587.57,816.72,584.46,554.4,602.9,489.66,789.8,636.64,698.91,948.68,495.15,297.26,440.4],\"colorbar\":{\"title\":{\"text\":\"Housing Price Index\"}},\"line\":{\"color\":\"rgb(40,40,40)\",\"width\":1},\"opacity\":0.8,\"size\":[17.5765205,10.093524500000001,9.112180500000001,12.969324499999999,18.782320499999997,16.640680500000002,19.437612500000004,40.32020000000001,14.780484500000002,11.400312500000002,12.310721999999998,15.086524500000001,11.2006445,10.0755605,15.1965845,10.937164499999998,10.820552000000001,9.688802,9.754944499999999,21.569311999999996,18.1382645,11.746704500000002,12.893042000000001,15.618460500000003,11.433762,8.036040500000002,10.2921845,11.785512500000003,12.715924500000002,11.6403125,14.553012499999998,17.988002,11.063807999999998,11.1439205,20.460804500000002,12.216624499999998,10.405922000000002,14.520660500000002,13.178978000000003,16.370642000000004,9.847921999999999,9.210631999999999,10.419612500000001,12.746200500000002,12.211682000000001,16.097138,13.066272,19.232402,11.931612499999998,9.426481999999998,12.380288]},\"mode\":\"markers\",\"text\":[\"Alaska<br>Average Salary: 733583<br>Housing Price Index: 412.3\",\"Alabama<br>Average Salary: 5074296<br>Housing Price Index: 461.86\",\"Arkansas<br>Average Salary: 3045637<br>Housing Price Index: 404.44\",\"Arizona<br>Average Salary: 7359197<br>Housing Price Index: 682.0\",\"California<br>Average Salary: 39029342<br>Housing Price Index: 902.22\",\"Colorado<br>Average Salary: 5839926<br>Housing Price Index: 813.08\",\"Connecticut<br>Average Salary: 3626205<br>Housing Price Index: 552.35\",\"District of Columbia<br>Average Salary: 671803<br>Housing Price Index: 1085.4\",\"Delaware<br>Average Salary: 1018396<br>Housing Price Index: 636.82\",\"Florida<br>Average Salary: 22244823<br>Housing Price Index: 737.44\",\"Georgia<br>Average Salary: 10912876<br>Housing Price Index: 562.82\",\"Hawaii<br>Average Salary: 1440196<br>Housing Price Index: 861.73\",\"Iowa<br>Average Salary: 3200517<br>Housing Price Index: 388.38\",\"Idaho<br>Average Salary: 1939033<br>Housing Price Index: 750.64\",\"Illinois<br>Average Salary: 12582032<br>Housing Price Index: 441.39\",\"Indiana<br>Average Salary: 6833037<br>Housing Price Index: 435.38\",\"Kansas<br>Average Salary: 2937150<br>Housing Price Index: 396.16\",\"Kentucky<br>Average Salary: 4512310<br>Housing Price Index: 479.13\",\"Louisiana<br>Average Salary: 4590241<br>Housing Price Index: 356.6\",\"Massachusetts<br>Average Salary: 6981974<br>Housing Price Index: 1090.29\",\"Maryland<br>Average Salary: 6164660<br>Housing Price Index: 622.35\",\"Maine<br>Average Salary: 1385340<br>Housing Price Index: 832.85\",\"Michigan<br>Average Salary: 10034113<br>Housing Price Index: 469.28\",\"Minnesota<br>Average Salary: 5717184<br>Housing Price Index: 534.78\",\"Missouri<br>Average Salary: 6177957<br>Housing Price Index: 468.52\",\"Mississippi<br>Average Salary: 2940057<br>Housing Price Index: 365.76\",\"Montana<br>Average Salary: 1122867<br>Housing Price Index: 730.98\",\"North Carolina<br>Average Salary: 10698973<br>Housing Price Index: 591.3\",\"North Dakota<br>Average Salary: 779261<br>Housing Price Index: 447.9\",\"Nebraska<br>Average Salary: 1967923<br>Housing Price Index: 456.14\",\"New Hampshire<br>Average Salary: 1395231<br>Housing Price Index: 716.69\",\"New Jersey<br>Average Salary: 9261699<br>Housing Price Index: 727.88\",\"New Mexico<br>Average Salary: 2113344<br>Housing Price Index: 469.75\",\"Nevada<br>Average Salary: 3177772<br>Housing Price Index: 593.9\",\"New York<br>Average Salary: 19677151<br>Housing Price Index: 926.97\",\"Ohio<br>Average Salary: 11756058<br>Housing Price Index: 415.9\",\"Oklahoma<br>Average Salary: 4019800<br>Housing Price Index: 340.0\",\"Oregon<br>Average Salary: 4240137<br>Housing Price Index: 804.32\",\"Pennsylvania<br>Average Salary: 12972008<br>Housing Price Index: 587.57\",\"Rhode Island<br>Average Salary: 1093734<br>Housing Price Index: 816.72\",\"South Carolina<br>Average Salary: 5282634<br>Housing Price Index: 584.46\",\"South Dakota<br>Average Salary: 909824<br>Housing Price Index: 554.4\",\"Tennessee<br>Average Salary: 7051339<br>Housing Price Index: 602.9\",\"Texas<br>Average Salary: 30029572<br>Housing Price Index: 489.66\",\"Utah<br>Average Salary: 3380800<br>Housing Price Index: 789.8\",\"Virginia<br>Average Salary: 8683619<br>Housing Price Index: 636.64\",\"Vermont<br>Average Salary: 647064<br>Housing Price Index: 698.91\",\"Washington<br>Average Salary: 7785786<br>Housing Price Index: 948.68\",\"Wisconsin<br>Average Salary: 5892539<br>Housing Price Index: 495.15\",\"West Virginia<br>Average Salary: 1775156<br>Housing Price Index: 297.26\",\"Wyoming<br>Average Salary: 581381<br>Housing Price Index: 440.4\"],\"type\":\"scattergeo\"}],                        {\"template\":{\"data\":{\"histogram2dcontour\":[{\"type\":\"histogram2dcontour\",\"colorbar\":{\"outlinewidth\":0,\"ticks\":\"\"},\"colorscale\":[[0.0,\"#0d0887\"],[0.1111111111111111,\"#46039f\"],[0.2222222222222222,\"#7201a8\"],[0.3333333333333333,\"#9c179e\"],[0.4444444444444444,\"#bd3786\"],[0.5555555555555556,\"#d8576b\"],[0.6666666666666666,\"#ed7953\"],[0.7777777777777778,\"#fb9f3a\"],[0.8888888888888888,\"#fdca26\"],[1.0,\"#f0f921\"]]}],\"choropleth\":[{\"type\":\"choropleth\",\"colorbar\":{\"outlinewidth\":0,\"ticks\":\"\"}}],\"histogram2d\":[{\"type\":\"histogram2d\",\"colorbar\":{\"outlinewidth\":0,\"ticks\":\"\"},\"colorscale\":[[0.0,\"#0d0887\"],[0.1111111111111111,\"#46039f\"],[0.2222222222222222,\"#7201a8\"],[0.3333333333333333,\"#9c179e\"],[0.4444444444444444,\"#bd3786\"],[0.5555555555555556,\"#d8576b\"],[0.6666666666666666,\"#ed7953\"],[0.7777777777777778,\"#fb9f3a\"],[0.8888888888888888,\"#fdca26\"],[1.0,\"#f0f921\"]]}],\"heatmap\":[{\"type\":\"heatmap\",\"colorbar\":{\"outlinewidth\":0,\"ticks\":\"\"},\"colorscale\":[[0.0,\"#0d0887\"],[0.1111111111111111,\"#46039f\"],[0.2222222222222222,\"#7201a8\"],[0.3333333333333333,\"#9c179e\"],[0.4444444444444444,\"#bd3786\"],[0.5555555555555556,\"#d8576b\"],[0.6666666666666666,\"#ed7953\"],[0.7777777777777778,\"#fb9f3a\"],[0.8888888888888888,\"#fdca26\"],[1.0,\"#f0f921\"]]}],\"heatmapgl\":[{\"type\":\"heatmapgl\",\"colorbar\":{\"outlinewidth\":0,\"ticks\":\"\"},\"colorscale\":[[0.0,\"#0d0887\"],[0.1111111111111111,\"#46039f\"],[0.2222222222222222,\"#7201a8\"],[0.3333333333333333,\"#9c179e\"],[0.4444444444444444,\"#bd3786\"],[0.5555555555555556,\"#d8576b\"],[0.6666666666666666,\"#ed7953\"],[0.7777777777777778,\"#fb9f3a\"],[0.8888888888888888,\"#fdca26\"],[1.0,\"#f0f921\"]]}],\"contourcarpet\":[{\"type\":\"contourcarpet\",\"colorbar\":{\"outlinewidth\":0,\"ticks\":\"\"}}],\"contour\":[{\"type\":\"contour\",\"colorbar\":{\"outlinewidth\":0,\"ticks\":\"\"},\"colorscale\":[[0.0,\"#0d0887\"],[0.1111111111111111,\"#46039f\"],[0.2222222222222222,\"#7201a8\"],[0.3333333333333333,\"#9c179e\"],[0.4444444444444444,\"#bd3786\"],[0.5555555555555556,\"#d8576b\"],[0.6666666666666666,\"#ed7953\"],[0.7777777777777778,\"#fb9f3a\"],[0.8888888888888888,\"#fdca26\"],[1.0,\"#f0f921\"]]}],\"surface\":[{\"type\":\"surface\",\"colorbar\":{\"outlinewidth\":0,\"ticks\":\"\"},\"colorscale\":[[0.0,\"#0d0887\"],[0.1111111111111111,\"#46039f\"],[0.2222222222222222,\"#7201a8\"],[0.3333333333333333,\"#9c179e\"],[0.4444444444444444,\"#bd3786\"],[0.5555555555555556,\"#d8576b\"],[0.6666666666666666,\"#ed7953\"],[0.7777777777777778,\"#fb9f3a\"],[0.8888888888888888,\"#fdca26\"],[1.0,\"#f0f921\"]]}],\"mesh3d\":[{\"type\":\"mesh3d\",\"colorbar\":{\"outlinewidth\":0,\"ticks\":\"\"}}],\"scatter\":[{\"fillpattern\":{\"fillmode\":\"overlay\",\"size\":10,\"solidity\":0.2},\"type\":\"scatter\"}],\"parcoords\":[{\"type\":\"parcoords\",\"line\":{\"colorbar\":{\"outlinewidth\":0,\"ticks\":\"\"}}}],\"scatterpolargl\":[{\"type\":\"scatterpolargl\",\"marker\":{\"colorbar\":{\"outlinewidth\":0,\"ticks\":\"\"}}}],\"bar\":[{\"error_x\":{\"color\":\"#2a3f5f\"},\"error_y\":{\"color\":\"#2a3f5f\"},\"marker\":{\"line\":{\"color\":\"#E5ECF6\",\"width\":0.5},\"pattern\":{\"fillmode\":\"overlay\",\"size\":10,\"solidity\":0.2}},\"type\":\"bar\"}],\"scattergeo\":[{\"type\":\"scattergeo\",\"marker\":{\"colorbar\":{\"outlinewidth\":0,\"ticks\":\"\"}}}],\"scatterpolar\":[{\"type\":\"scatterpolar\",\"marker\":{\"colorbar\":{\"outlinewidth\":0,\"ticks\":\"\"}}}],\"histogram\":[{\"marker\":{\"pattern\":{\"fillmode\":\"overlay\",\"size\":10,\"solidity\":0.2}},\"type\":\"histogram\"}],\"scattergl\":[{\"type\":\"scattergl\",\"marker\":{\"colorbar\":{\"outlinewidth\":0,\"ticks\":\"\"}}}],\"scatter3d\":[{\"type\":\"scatter3d\",\"line\":{\"colorbar\":{\"outlinewidth\":0,\"ticks\":\"\"}},\"marker\":{\"colorbar\":{\"outlinewidth\":0,\"ticks\":\"\"}}}],\"scattermapbox\":[{\"type\":\"scattermapbox\",\"marker\":{\"colorbar\":{\"outlinewidth\":0,\"ticks\":\"\"}}}],\"scatterternary\":[{\"type\":\"scatterternary\",\"marker\":{\"colorbar\":{\"outlinewidth\":0,\"ticks\":\"\"}}}],\"scattercarpet\":[{\"type\":\"scattercarpet\",\"marker\":{\"colorbar\":{\"outlinewidth\":0,\"ticks\":\"\"}}}],\"carpet\":[{\"aaxis\":{\"endlinecolor\":\"#2a3f5f\",\"gridcolor\":\"white\",\"linecolor\":\"white\",\"minorgridcolor\":\"white\",\"startlinecolor\":\"#2a3f5f\"},\"baxis\":{\"endlinecolor\":\"#2a3f5f\",\"gridcolor\":\"white\",\"linecolor\":\"white\",\"minorgridcolor\":\"white\",\"startlinecolor\":\"#2a3f5f\"},\"type\":\"carpet\"}],\"table\":[{\"cells\":{\"fill\":{\"color\":\"#EBF0F8\"},\"line\":{\"color\":\"white\"}},\"header\":{\"fill\":{\"color\":\"#C8D4E3\"},\"line\":{\"color\":\"white\"}},\"type\":\"table\"}],\"barpolar\":[{\"marker\":{\"line\":{\"color\":\"#E5ECF6\",\"width\":0.5},\"pattern\":{\"fillmode\":\"overlay\",\"size\":10,\"solidity\":0.2}},\"type\":\"barpolar\"}],\"pie\":[{\"automargin\":true,\"type\":\"pie\"}]},\"layout\":{\"autotypenumbers\":\"strict\",\"colorway\":[\"#636efa\",\"#EF553B\",\"#00cc96\",\"#ab63fa\",\"#FFA15A\",\"#19d3f3\",\"#FF6692\",\"#B6E880\",\"#FF97FF\",\"#FECB52\"],\"font\":{\"color\":\"#2a3f5f\"},\"hovermode\":\"closest\",\"hoverlabel\":{\"align\":\"left\"},\"paper_bgcolor\":\"white\",\"plot_bgcolor\":\"#E5ECF6\",\"polar\":{\"bgcolor\":\"#E5ECF6\",\"angularaxis\":{\"gridcolor\":\"white\",\"linecolor\":\"white\",\"ticks\":\"\"},\"radialaxis\":{\"gridcolor\":\"white\",\"linecolor\":\"white\",\"ticks\":\"\"}},\"ternary\":{\"bgcolor\":\"#E5ECF6\",\"aaxis\":{\"gridcolor\":\"white\",\"linecolor\":\"white\",\"ticks\":\"\"},\"baxis\":{\"gridcolor\":\"white\",\"linecolor\":\"white\",\"ticks\":\"\"},\"caxis\":{\"gridcolor\":\"white\",\"linecolor\":\"white\",\"ticks\":\"\"}},\"coloraxis\":{\"colorbar\":{\"outlinewidth\":0,\"ticks\":\"\"}},\"colorscale\":{\"sequential\":[[0.0,\"#0d0887\"],[0.1111111111111111,\"#46039f\"],[0.2222222222222222,\"#7201a8\"],[0.3333333333333333,\"#9c179e\"],[0.4444444444444444,\"#bd3786\"],[0.5555555555555556,\"#d8576b\"],[0.6666666666666666,\"#ed7953\"],[0.7777777777777778,\"#fb9f3a\"],[0.8888888888888888,\"#fdca26\"],[1.0,\"#f0f921\"]],\"sequentialminus\":[[0.0,\"#0d0887\"],[0.1111111111111111,\"#46039f\"],[0.2222222222222222,\"#7201a8\"],[0.3333333333333333,\"#9c179e\"],[0.4444444444444444,\"#bd3786\"],[0.5555555555555556,\"#d8576b\"],[0.6666666666666666,\"#ed7953\"],[0.7777777777777778,\"#fb9f3a\"],[0.8888888888888888,\"#fdca26\"],[1.0,\"#f0f921\"]],\"diverging\":[[0,\"#8e0152\"],[0.1,\"#c51b7d\"],[0.2,\"#de77ae\"],[0.3,\"#f1b6da\"],[0.4,\"#fde0ef\"],[0.5,\"#f7f7f7\"],[0.6,\"#e6f5d0\"],[0.7,\"#b8e186\"],[0.8,\"#7fbc41\"],[0.9,\"#4d9221\"],[1,\"#276419\"]]},\"xaxis\":{\"gridcolor\":\"white\",\"linecolor\":\"white\",\"ticks\":\"\",\"title\":{\"standoff\":15},\"zerolinecolor\":\"white\",\"automargin\":true,\"zerolinewidth\":2},\"yaxis\":{\"gridcolor\":\"white\",\"linecolor\":\"white\",\"ticks\":\"\",\"title\":{\"standoff\":15},\"zerolinecolor\":\"white\",\"automargin\":true,\"zerolinewidth\":2},\"scene\":{\"xaxis\":{\"backgroundcolor\":\"#E5ECF6\",\"gridcolor\":\"white\",\"linecolor\":\"white\",\"showbackground\":true,\"ticks\":\"\",\"zerolinecolor\":\"white\",\"gridwidth\":2},\"yaxis\":{\"backgroundcolor\":\"#E5ECF6\",\"gridcolor\":\"white\",\"linecolor\":\"white\",\"showbackground\":true,\"ticks\":\"\",\"zerolinecolor\":\"white\",\"gridwidth\":2},\"zaxis\":{\"backgroundcolor\":\"#E5ECF6\",\"gridcolor\":\"white\",\"linecolor\":\"white\",\"showbackground\":true,\"ticks\":\"\",\"zerolinecolor\":\"white\",\"gridwidth\":2}},\"shapedefaults\":{\"line\":{\"color\":\"#2a3f5f\"}},\"annotationdefaults\":{\"arrowcolor\":\"#2a3f5f\",\"arrowhead\":0,\"arrowwidth\":1},\"geo\":{\"bgcolor\":\"white\",\"landcolor\":\"#E5ECF6\",\"subunitcolor\":\"white\",\"showland\":true,\"showlakes\":true,\"lakecolor\":\"white\"},\"title\":{\"x\":0.05},\"mapbox\":{\"style\":\"light\"}}},\"geo\":{\"projection\":{\"type\":\"albers usa\"},\"scope\":\"usa\",\"showland\":true,\"landcolor\":\"rgb(250, 250, 250)\",\"subunitcolor\":\"rgb(217, 217, 217)\",\"countrycolor\":\"rgb(217, 217, 217)\",\"countrywidth\":0.5,\"subunitwidth\":0.5},\"title\":{\"text\":\"Housing Price & Salaries in 2022<br>(Hover to see the information)\"}},                        {\"responsive\": true}                    ).then(function(){\n",
       "                            \n",
       "var gd = document.getElementById('cc8b12ab-d034-4e71-a22a-091064017054');\n",
       "var x = new MutationObserver(function (mutations, observer) {{\n",
       "        var display = window.getComputedStyle(gd).display;\n",
       "        if (!display || display === 'none') {{\n",
       "            console.log([gd, 'removed!']);\n",
       "            Plotly.purge(gd);\n",
       "            observer.disconnect();\n",
       "        }}\n",
       "}});\n",
       "\n",
       "// Listen for the removal of the full notebook cells\n",
       "var notebookContainer = gd.closest('#notebook-container');\n",
       "if (notebookContainer) {{\n",
       "    x.observe(notebookContainer, {childList: true});\n",
       "}}\n",
       "\n",
       "// Listen for the clearing of the current output cell\n",
       "var outputEl = gd.closest('.output');\n",
       "if (outputEl) {{\n",
       "    x.observe(outputEl, {childList: true});\n",
       "}}\n",
       "\n",
       "                        })                };                });            </script>        </div>"
      ]
     },
     "metadata": {},
     "output_type": "display_data"
    }
   ],
   "source": [
    "fig = go.Figure(\n",
    "    data=go.Scattergeo(\n",
    "        locationmode = 'USA-states',\n",
    "        locations=df3_use['State'],\n",
    "        text = df3_use['text2'],\n",
    "        mode = 'markers',\n",
    "        marker = dict(\n",
    "            # size = np.log10(df3_use['Population'].astype(\"float\")),   # log with base 10\n",
    "            size = 0.5*((df3_use['Average_Salary'].astype(\"float\")/10000)**(2)),  # set proper size\n",
    "            opacity = 0.8,\n",
    "            autocolorscale = False,\n",
    "            # symbol = 'square',\n",
    "            line = dict(\n",
    "                width=1,\n",
    "                color='rgba(102, 102, 102)'\n",
    "            ),\n",
    "            line_color='rgb(40,40,40)',\n",
    "            color = round(df3_use[\"Price_index\"],2),\n",
    "            cmin = df3_use[\"Price_index\"].min(),\n",
    "            cmax = df3_use[\"Price_index\"].max(),\n",
    "            colorbar_title= \"Housing Price Index\"\n",
    "        )\n",
    "    )\n",
    ")  \n",
    "\n",
    "fig.update_layout(\n",
    "        title = 'Housing Price & Salaries in 2022<br>(Hover to see the information)',\n",
    "        geo = dict(\n",
    "            scope='usa',\n",
    "            projection_type='albers usa',\n",
    "            showland = True,\n",
    "            landcolor = \"rgb(250, 250, 250)\",\n",
    "            subunitcolor = \"rgb(217, 217, 217)\",\n",
    "            countrycolor = \"rgb(217, 217, 217)\",\n",
    "            countrywidth = 0.5,\n",
    "            subunitwidth = 0.5\n",
    "        )\n",
    "    )\n",
    "\n",
    "fig.show()"
   ]
  }
 ],
 "metadata": {
  "kernelspec": {
   "display_name": "anly503",
   "language": "python",
   "name": "python3"
  },
  "language_info": {
   "codemirror_mode": {
    "name": "ipython",
    "version": 3
   },
   "file_extension": ".py",
   "mimetype": "text/x-python",
   "name": "python",
   "nbconvert_exporter": "python",
   "pygments_lexer": "ipython3",
   "version": "3.10.8"
  },
  "orig_nbformat": 4
 },
 "nbformat": 4,
 "nbformat_minor": 2
}
